{
  "cells": [
    {
      "cell_type": "markdown",
      "metadata": {
        "id": "view-in-github",
        "colab_type": "text"
      },
      "source": [
        "<a href=\"https://colab.research.google.com/github/suriya3153/Count_the_number_of_broken_and_full_rice_grains/blob/main/Untitled.ipynb\" target=\"_parent\"><img src=\"https://colab.research.google.com/assets/colab-badge.svg\" alt=\"Open In Colab\"/></a>"
      ]
    },
    {
      "cell_type": "code",
      "execution_count": null,
      "metadata": {
        "id": "0cedbb7b-6766-4b2e-a1f0-9add0703e1a5",
        "colab": {
          "base_uri": "https://localhost:8080/"
        },
        "outputId": "df0362b3-1088-4eec-9c0b-30b87c7e6acb"
      },
      "outputs": [
        {
          "output_type": "stream",
          "name": "stdout",
          "text": [
            "Looking in indexes: https://pypi.org/simple, https://us-python.pkg.dev/colab-wheels/public/simple/\n",
            "Requirement already satisfied: tqdm in /usr/local/lib/python3.8/dist-packages (4.64.1)\n"
          ]
        }
      ],
      "source": [
        "!pip install tqdm"
      ],
      "id": "0cedbb7b-6766-4b2e-a1f0-9add0703e1a5"
    },
    {
      "cell_type": "code",
      "execution_count": null,
      "metadata": {
        "id": "qR_NRH5ZhcRs"
      },
      "outputs": [],
      "source": [
        "from google.colab import drive\n",
        "drive.mount('/content/drive')"
      ],
      "id": "qR_NRH5ZhcRs"
    },
    {
      "cell_type": "code",
      "source": [
        "from google.colab import drive\n",
        "drive.mount('/content/drive')"
      ],
      "metadata": {
        "colab": {
          "base_uri": "https://localhost:8080/"
        },
        "id": "--H-d0Ext39_",
        "outputId": "f868135c-119e-43ee-a03a-9cf6c7d690a4"
      },
      "id": "--H-d0Ext39_",
      "execution_count": null,
      "outputs": [
        {
          "output_type": "stream",
          "name": "stdout",
          "text": [
            "Drive already mounted at /content/drive; to attempt to forcibly remount, call drive.mount(\"/content/drive\", force_remount=True).\n"
          ]
        }
      ]
    },
    {
      "cell_type": "code",
      "source": [
        "import zipfile\n",
        "\n",
        "zip_ref = zipfile.ZipFile(\"/content/drive/MyDrive/Structured_Data_Assignment .zip\", 'r')\n",
        "zip_ref.extractall(\"/tmp\")\n",
        "zip_ref.close()"
      ],
      "metadata": {
        "id": "LC4zlAiyt37P"
      },
      "id": "LC4zlAiyt37P",
      "execution_count": null,
      "outputs": []
    },
    {
      "cell_type": "code",
      "source": [
        "df=pd.read_parquet(\"/tmp/Structured_Data_Assignment /test.parquet\")"
      ],
      "metadata": {
        "id": "chpMFCZLt3jv"
      },
      "id": "chpMFCZLt3jv",
      "execution_count": null,
      "outputs": []
    },
    {
      "cell_type": "code",
      "execution_count": null,
      "metadata": {
        "id": "9be376b4-5a2d-4d62-832e-275bef94f4dd"
      },
      "outputs": [],
      "source": [
        "from tqdm.notebook import tqdm,trange"
      ],
      "id": "9be376b4-5a2d-4d62-832e-275bef94f4dd"
    },
    {
      "cell_type": "code",
      "execution_count": null,
      "metadata": {
        "id": "10dc2a8e"
      },
      "outputs": [],
      "source": [
        "import pandas as pd\n",
        "import seaborn as sns"
      ],
      "id": "10dc2a8e"
    },
    {
      "cell_type": "code",
      "execution_count": null,
      "metadata": {
        "id": "014c2152"
      },
      "outputs": [],
      "source": [
        "df=pd.read_parquet(\"train.parquet\")"
      ],
      "id": "014c2152"
    },
    {
      "cell_type": "code",
      "execution_count": null,
      "metadata": {
        "id": "b57e5847"
      },
      "outputs": [],
      "source": [
        "df.to_csv(\"data.csv\")"
      ],
      "id": "b57e5847"
    },
    {
      "cell_type": "code",
      "execution_count": null,
      "metadata": {
        "id": "d34aa75e",
        "outputId": "c05de5fb-9c95-46ec-b490-ec5c69dae57f"
      },
      "outputs": [
        {
          "name": "stdout",
          "output_type": "stream",
          "text": [
            "<class 'pandas.core.frame.DataFrame'>\n",
            "Int64Index: 3220868 entries, 0 to 29080911\n",
            "Data columns (total 3 columns):\n",
            " #   Column       Dtype         \n",
            "---  ------       -----         \n",
            " 0   Patient-Uid  object        \n",
            " 1   Date         datetime64[ns]\n",
            " 2   Incident     object        \n",
            "dtypes: datetime64[ns](1), object(2)\n",
            "memory usage: 98.3+ MB\n"
          ]
        }
      ],
      "source": [
        "df.info()"
      ],
      "id": "d34aa75e"
    },
    {
      "cell_type": "code",
      "execution_count": null,
      "metadata": {
        "id": "40cd2be7",
        "outputId": "387394c5-2bbf-475e-c664-9f0a226be577"
      },
      "outputs": [
        {
          "data": {
            "text/plain": [
              "(3220868, 3)"
            ]
          },
          "execution_count": 8,
          "metadata": {},
          "output_type": "execute_result"
        }
      ],
      "source": [
        "df.shape"
      ],
      "id": "40cd2be7"
    },
    {
      "cell_type": "code",
      "execution_count": null,
      "metadata": {
        "id": "e18cdc53",
        "outputId": "6bf90592-2431-4740-a36f-96d41010afcb"
      },
      "outputs": [
        {
          "name": "stderr",
          "output_type": "stream",
          "text": [
            "C:\\Users\\suriya\\AppData\\Local\\Temp\\ipykernel_4452\\3627053830.py:1: FutureWarning: Treating datetime data as categorical rather than numeric in `.describe` is deprecated and will be removed in a future version of pandas. Specify `datetime_is_numeric=True` to silence this warning and adopt the future behavior now.\n",
            "  df.describe()\n"
          ]
        },
        {
          "data": {
            "text/html": [
              "<div>\n",
              "<style scoped>\n",
              "    .dataframe tbody tr th:only-of-type {\n",
              "        vertical-align: middle;\n",
              "    }\n",
              "\n",
              "    .dataframe tbody tr th {\n",
              "        vertical-align: top;\n",
              "    }\n",
              "\n",
              "    .dataframe thead th {\n",
              "        text-align: right;\n",
              "    }\n",
              "</style>\n",
              "<table border=\"1\" class=\"dataframe\">\n",
              "  <thead>\n",
              "    <tr style=\"text-align: right;\">\n",
              "      <th></th>\n",
              "      <th>Patient-Uid</th>\n",
              "      <th>Date</th>\n",
              "      <th>Incident</th>\n",
              "    </tr>\n",
              "  </thead>\n",
              "  <tbody>\n",
              "    <tr>\n",
              "      <th>count</th>\n",
              "      <td>3220868</td>\n",
              "      <td>3220868</td>\n",
              "      <td>3220868</td>\n",
              "    </tr>\n",
              "    <tr>\n",
              "      <th>unique</th>\n",
              "      <td>27033</td>\n",
              "      <td>1977</td>\n",
              "      <td>57</td>\n",
              "    </tr>\n",
              "    <tr>\n",
              "      <th>top</th>\n",
              "      <td>a0ddfd2c-1c7c-11ec-876d-16262ee38c7f</td>\n",
              "      <td>2019-05-21 00:00:00</td>\n",
              "      <td>DRUG_TYPE_6</td>\n",
              "    </tr>\n",
              "    <tr>\n",
              "      <th>freq</th>\n",
              "      <td>1645</td>\n",
              "      <td>3678</td>\n",
              "      <td>561934</td>\n",
              "    </tr>\n",
              "    <tr>\n",
              "      <th>first</th>\n",
              "      <td>NaN</td>\n",
              "      <td>2015-04-07 00:00:00</td>\n",
              "      <td>NaN</td>\n",
              "    </tr>\n",
              "    <tr>\n",
              "      <th>last</th>\n",
              "      <td>NaN</td>\n",
              "      <td>2020-09-03 00:00:00</td>\n",
              "      <td>NaN</td>\n",
              "    </tr>\n",
              "  </tbody>\n",
              "</table>\n",
              "</div>"
            ],
            "text/plain": [
              "                                 Patient-Uid                 Date     Incident\n",
              "count                                3220868              3220868      3220868\n",
              "unique                                 27033                 1977           57\n",
              "top     a0ddfd2c-1c7c-11ec-876d-16262ee38c7f  2019-05-21 00:00:00  DRUG_TYPE_6\n",
              "freq                                    1645                 3678       561934\n",
              "first                                    NaN  2015-04-07 00:00:00          NaN\n",
              "last                                     NaN  2020-09-03 00:00:00          NaN"
            ]
          },
          "execution_count": 9,
          "metadata": {},
          "output_type": "execute_result"
        }
      ],
      "source": [
        "df.describe()"
      ],
      "id": "e18cdc53"
    },
    {
      "cell_type": "code",
      "execution_count": null,
      "metadata": {
        "id": "8526600e",
        "outputId": "1e062048-a9dc-4d6f-b964-4060b8678f86"
      },
      "outputs": [
        {
          "data": {
            "text/plain": [
              "array(['PRIMARY_DIAGNOSIS', 'SYMPTOM_TYPE_0', 'DRUG_TYPE_0',\n",
              "       'DRUG_TYPE_1', 'DRUG_TYPE_2', 'TEST_TYPE_0', 'DRUG_TYPE_3',\n",
              "       'DRUG_TYPE_4', 'DRUG_TYPE_5', 'DRUG_TYPE_6', 'DRUG_TYPE_8',\n",
              "       'DRUG_TYPE_7', 'SYMPTOM_TYPE_1', 'DRUG_TYPE_10', 'SYMPTOM_TYPE_29',\n",
              "       'SYMPTOM_TYPE_2', 'DRUG_TYPE_11', 'DRUG_TYPE_9', 'DRUG_TYPE_13',\n",
              "       'SYMPTOM_TYPE_5', 'TEST_TYPE_1', 'SYMPTOM_TYPE_6', 'TEST_TYPE_2',\n",
              "       'SYMPTOM_TYPE_3', 'SYMPTOM_TYPE_8', 'DRUG_TYPE_14', 'DRUG_TYPE_12',\n",
              "       'SYMPTOM_TYPE_9', 'SYMPTOM_TYPE_10', 'SYMPTOM_TYPE_7',\n",
              "       'SYMPTOM_TYPE_11', 'TEST_TYPE_3', 'DRUG_TYPE_15', 'SYMPTOM_TYPE_4',\n",
              "       'SYMPTOM_TYPE_14', 'SYMPTOM_TYPE_13', 'SYMPTOM_TYPE_16',\n",
              "       'SYMPTOM_TYPE_17', 'SYMPTOM_TYPE_15', 'SYMPTOM_TYPE_18',\n",
              "       'SYMPTOM_TYPE_12', 'SYMPTOM_TYPE_20', 'SYMPTOM_TYPE_21',\n",
              "       'DRUG_TYPE_17', 'SYMPTOM_TYPE_22', 'TEST_TYPE_4',\n",
              "       'SYMPTOM_TYPE_23', 'DRUG_TYPE_16', 'TEST_TYPE_5',\n",
              "       'SYMPTOM_TYPE_19', 'SYMPTOM_TYPE_24', 'SYMPTOM_TYPE_25',\n",
              "       'SYMPTOM_TYPE_26', 'SYMPTOM_TYPE_27', 'DRUG_TYPE_18',\n",
              "       'SYMPTOM_TYPE_28', 'TARGET DRUG'], dtype=object)"
            ]
          },
          "execution_count": 10,
          "metadata": {},
          "output_type": "execute_result"
        }
      ],
      "source": [
        "df.Incident.unique()"
      ],
      "id": "8526600e"
    },
    {
      "cell_type": "code",
      "execution_count": null,
      "metadata": {
        "id": "a060c2ba",
        "outputId": "12098a23-c758-4b3f-ae3c-c07ef570d7cb"
      },
      "outputs": [
        {
          "data": {
            "text/plain": [
              "DRUG_TYPE_6          561934\n",
              "DRUG_TYPE_1          484666\n",
              "PRIMARY_DIAGNOSIS    431902\n",
              "DRUG_TYPE_0          300005\n",
              "DRUG_TYPE_7          258782\n",
              "DRUG_TYPE_2          256841\n",
              "DRUG_TYPE_8          160066\n",
              "DRUG_TYPE_3          127676\n",
              "TEST_TYPE_1           96810\n",
              "TARGET DRUG           67218\n",
              "DRUG_TYPE_9           66894\n",
              "DRUG_TYPE_5           57510\n",
              "DRUG_TYPE_11          48118\n",
              "SYMPTOM_TYPE_0        46078\n",
              "SYMPTOM_TYPE_6        32066\n",
              "TEST_TYPE_0           27570\n",
              "SYMPTOM_TYPE_7        22019\n",
              "DRUG_TYPE_10          20925\n",
              "DRUG_TYPE_14          17306\n",
              "DRUG_TYPE_13          12372\n",
              "DRUG_TYPE_12           9551\n",
              "SYMPTOM_TYPE_14        8927\n",
              "SYMPTOM_TYPE_1         8608\n",
              "SYMPTOM_TYPE_2         8168\n",
              "TEST_TYPE_3            8115\n",
              "SYMPTOM_TYPE_5         7583\n",
              "SYMPTOM_TYPE_8         7430\n",
              "TEST_TYPE_2            7021\n",
              "SYMPTOM_TYPE_15        6295\n",
              "SYMPTOM_TYPE_10        6005\n",
              "SYMPTOM_TYPE_29        5950\n",
              "SYMPTOM_TYPE_16        4940\n",
              "DRUG_TYPE_15           4906\n",
              "SYMPTOM_TYPE_9         4885\n",
              "DRUG_TYPE_4            4566\n",
              "SYMPTOM_TYPE_4         4115\n",
              "SYMPTOM_TYPE_3         3931\n",
              "SYMPTOM_TYPE_12        2685\n",
              "SYMPTOM_TYPE_11        2483\n",
              "SYMPTOM_TYPE_17        2090\n",
              "SYMPTOM_TYPE_13        1541\n",
              "DRUG_TYPE_16           1145\n",
              "TEST_TYPE_4            1108\n",
              "SYMPTOM_TYPE_18         530\n",
              "SYMPTOM_TYPE_21         363\n",
              "SYMPTOM_TYPE_22         285\n",
              "SYMPTOM_TYPE_19         219\n",
              "DRUG_TYPE_17            214\n",
              "TEST_TYPE_5             137\n",
              "SYMPTOM_TYPE_24          97\n",
              "SYMPTOM_TYPE_26          63\n",
              "SYMPTOM_TYPE_23          54\n",
              "SYMPTOM_TYPE_20          53\n",
              "SYMPTOM_TYPE_27          21\n",
              "SYMPTOM_TYPE_25          18\n",
              "SYMPTOM_TYPE_28           7\n",
              "DRUG_TYPE_18              1\n",
              "Name: Incident, dtype: int64"
            ]
          },
          "execution_count": 11,
          "metadata": {},
          "output_type": "execute_result"
        }
      ],
      "source": [
        "df.Incident.value_counts()"
      ],
      "id": "a060c2ba"
    },
    {
      "cell_type": "code",
      "execution_count": null,
      "metadata": {
        "id": "427d0ca1",
        "outputId": "02d0816d-3a12-4e01-efa7-24d1668e76f0",
        "scrolled": true
      },
      "outputs": [
        {
          "data": {
            "text/plain": [
              "a0ddfd2c-1c7c-11ec-876d-16262ee38c7f    1645\n",
              "a0ea618f-1c7c-11ec-93fb-16262ee38c7f    1320\n",
              "a0e553c4-1c7c-11ec-83f1-16262ee38c7f    1163\n",
              "a0df4809-1c7c-11ec-be0b-16262ee38c7f    1099\n",
              "a0ec2afe-1c7c-11ec-befd-16262ee38c7f    1075\n",
              "                                        ... \n",
              "a0ecc127-1c7c-11ec-92b5-16262ee38c7f      31\n",
              "a0eb794b-1c7c-11ec-92d7-16262ee38c7f      30\n",
              "a0f02cd8-1c7c-11ec-96a0-16262ee38c7f      28\n",
              "a0efac48-1c7c-11ec-9daa-16262ee38c7f      25\n",
              "a0f0d0b5-1c7c-11ec-9901-16262ee38c7f      24\n",
              "Name: Patient-Uid, Length: 27033, dtype: int64"
            ]
          },
          "execution_count": 12,
          "metadata": {},
          "output_type": "execute_result"
        }
      ],
      "source": [
        "df[\"Patient-Uid\"].value_counts()"
      ],
      "id": "427d0ca1"
    },
    {
      "cell_type": "code",
      "execution_count": null,
      "metadata": {
        "id": "ff574d01",
        "outputId": "6af7b7ce-3617-428c-c545-5cdc2df568bc",
        "scrolled": true
      },
      "outputs": [
        {
          "data": {
            "text/html": [
              "<div>\n",
              "<style scoped>\n",
              "    .dataframe tbody tr th:only-of-type {\n",
              "        vertical-align: middle;\n",
              "    }\n",
              "\n",
              "    .dataframe tbody tr th {\n",
              "        vertical-align: top;\n",
              "    }\n",
              "\n",
              "    .dataframe thead th {\n",
              "        text-align: right;\n",
              "    }\n",
              "</style>\n",
              "<table border=\"1\" class=\"dataframe\">\n",
              "  <thead>\n",
              "    <tr style=\"text-align: right;\">\n",
              "      <th></th>\n",
              "      <th>Patient-Uid</th>\n",
              "      <th>Date</th>\n",
              "      <th>Incident</th>\n",
              "    </tr>\n",
              "  </thead>\n",
              "  <tbody>\n",
              "    <tr>\n",
              "      <th>0</th>\n",
              "      <td>a0db1e73-1c7c-11ec-ae39-16262ee38c7f</td>\n",
              "      <td>2019-03-09</td>\n",
              "      <td>PRIMARY_DIAGNOSIS</td>\n",
              "    </tr>\n",
              "    <tr>\n",
              "      <th>1</th>\n",
              "      <td>a0dc93f2-1c7c-11ec-9cd2-16262ee38c7f</td>\n",
              "      <td>2015-05-16</td>\n",
              "      <td>PRIMARY_DIAGNOSIS</td>\n",
              "    </tr>\n",
              "    <tr>\n",
              "      <th>3</th>\n",
              "      <td>a0dc94c6-1c7c-11ec-a3a0-16262ee38c7f</td>\n",
              "      <td>2018-01-30</td>\n",
              "      <td>SYMPTOM_TYPE_0</td>\n",
              "    </tr>\n",
              "    <tr>\n",
              "      <th>4</th>\n",
              "      <td>a0dc950b-1c7c-11ec-b6ec-16262ee38c7f</td>\n",
              "      <td>2015-04-22</td>\n",
              "      <td>DRUG_TYPE_0</td>\n",
              "    </tr>\n",
              "    <tr>\n",
              "      <th>8</th>\n",
              "      <td>a0dc9543-1c7c-11ec-bb63-16262ee38c7f</td>\n",
              "      <td>2016-06-18</td>\n",
              "      <td>DRUG_TYPE_1</td>\n",
              "    </tr>\n",
              "    <tr>\n",
              "      <th>...</th>\n",
              "      <td>...</td>\n",
              "      <td>...</td>\n",
              "      <td>...</td>\n",
              "    </tr>\n",
              "    <tr>\n",
              "      <th>29080886</th>\n",
              "      <td>a0ee9f75-1c7c-11ec-94c7-16262ee38c7f</td>\n",
              "      <td>2018-07-06</td>\n",
              "      <td>DRUG_TYPE_6</td>\n",
              "    </tr>\n",
              "    <tr>\n",
              "      <th>29080897</th>\n",
              "      <td>a0ee1284-1c7c-11ec-a3d5-16262ee38c7f</td>\n",
              "      <td>2017-12-29</td>\n",
              "      <td>DRUG_TYPE_6</td>\n",
              "    </tr>\n",
              "    <tr>\n",
              "      <th>29080900</th>\n",
              "      <td>a0ee9b26-1c7c-11ec-8a40-16262ee38c7f</td>\n",
              "      <td>2018-10-18</td>\n",
              "      <td>DRUG_TYPE_10</td>\n",
              "    </tr>\n",
              "    <tr>\n",
              "      <th>29080903</th>\n",
              "      <td>a0ee1a92-1c7c-11ec-8341-16262ee38c7f</td>\n",
              "      <td>2015-09-18</td>\n",
              "      <td>DRUG_TYPE_6</td>\n",
              "    </tr>\n",
              "    <tr>\n",
              "      <th>29080911</th>\n",
              "      <td>a0ee146e-1c7c-11ec-baee-16262ee38c7f</td>\n",
              "      <td>2018-10-05</td>\n",
              "      <td>DRUG_TYPE_1</td>\n",
              "    </tr>\n",
              "  </tbody>\n",
              "</table>\n",
              "<p>3220868 rows × 3 columns</p>\n",
              "</div>"
            ],
            "text/plain": [
              "                                   Patient-Uid       Date           Incident\n",
              "0         a0db1e73-1c7c-11ec-ae39-16262ee38c7f 2019-03-09  PRIMARY_DIAGNOSIS\n",
              "1         a0dc93f2-1c7c-11ec-9cd2-16262ee38c7f 2015-05-16  PRIMARY_DIAGNOSIS\n",
              "3         a0dc94c6-1c7c-11ec-a3a0-16262ee38c7f 2018-01-30     SYMPTOM_TYPE_0\n",
              "4         a0dc950b-1c7c-11ec-b6ec-16262ee38c7f 2015-04-22        DRUG_TYPE_0\n",
              "8         a0dc9543-1c7c-11ec-bb63-16262ee38c7f 2016-06-18        DRUG_TYPE_1\n",
              "...                                        ...        ...                ...\n",
              "29080886  a0ee9f75-1c7c-11ec-94c7-16262ee38c7f 2018-07-06        DRUG_TYPE_6\n",
              "29080897  a0ee1284-1c7c-11ec-a3d5-16262ee38c7f 2017-12-29        DRUG_TYPE_6\n",
              "29080900  a0ee9b26-1c7c-11ec-8a40-16262ee38c7f 2018-10-18       DRUG_TYPE_10\n",
              "29080903  a0ee1a92-1c7c-11ec-8341-16262ee38c7f 2015-09-18        DRUG_TYPE_6\n",
              "29080911  a0ee146e-1c7c-11ec-baee-16262ee38c7f 2018-10-05        DRUG_TYPE_1\n",
              "\n",
              "[3220868 rows x 3 columns]"
            ]
          },
          "execution_count": 13,
          "metadata": {},
          "output_type": "execute_result"
        }
      ],
      "source": [
        "df"
      ],
      "id": "ff574d01"
    },
    {
      "cell_type": "code",
      "execution_count": null,
      "metadata": {
        "id": "1fc3f924"
      },
      "outputs": [],
      "source": [
        "df1=df.drop([\"Date\"],axis=1)"
      ],
      "id": "1fc3f924"
    },
    {
      "cell_type": "code",
      "execution_count": null,
      "metadata": {
        "id": "5fb3b162"
      },
      "outputs": [],
      "source": [
        "df1.drop_duplicates(inplace=True)"
      ],
      "id": "5fb3b162"
    },
    {
      "cell_type": "code",
      "execution_count": null,
      "metadata": {
        "id": "5ad090ce",
        "outputId": "4926601a-b143-48f6-d110-f3caa041fec6"
      },
      "outputs": [
        {
          "data": {
            "text/plain": [
              "PRIMARY_DIAGNOSIS    27033\n",
              "DRUG_TYPE_7          25492\n",
              "DRUG_TYPE_0          24627\n",
              "DRUG_TYPE_2          23967\n",
              "DRUG_TYPE_6          23115\n",
              "DRUG_TYPE_1          21716\n",
              "TEST_TYPE_1          15883\n",
              "DRUG_TYPE_8          13672\n",
              "SYMPTOM_TYPE_0       12612\n",
              "DRUG_TYPE_5          12139\n",
              "DRUG_TYPE_11         11917\n",
              "SYMPTOM_TYPE_6       11473\n",
              "DRUG_TYPE_3          11261\n",
              "TEST_TYPE_0           9726\n",
              "TARGET DRUG           9374\n",
              "DRUG_TYPE_9           8612\n",
              "SYMPTOM_TYPE_7        7712\n",
              "TEST_TYPE_2           4736\n",
              "SYMPTOM_TYPE_1        3980\n",
              "SYMPTOM_TYPE_8        3574\n",
              "SYMPTOM_TYPE_2        3500\n",
              "SYMPTOM_TYPE_5        3238\n",
              "SYMPTOM_TYPE_9        2753\n",
              "DRUG_TYPE_10          2647\n",
              "SYMPTOM_TYPE_10       2625\n",
              "TEST_TYPE_3           2581\n",
              "DRUG_TYPE_4           2162\n",
              "SYMPTOM_TYPE_29       1736\n",
              "SYMPTOM_TYPE_16       1663\n",
              "SYMPTOM_TYPE_4        1630\n",
              "SYMPTOM_TYPE_11       1426\n",
              "DRUG_TYPE_13          1336\n",
              "SYMPTOM_TYPE_12       1302\n",
              "SYMPTOM_TYPE_15       1240\n",
              "SYMPTOM_TYPE_17       1219\n",
              "SYMPTOM_TYPE_3        1077\n",
              "DRUG_TYPE_15          1015\n",
              "SYMPTOM_TYPE_14        924\n",
              "DRUG_TYPE_12           875\n",
              "SYMPTOM_TYPE_13        702\n",
              "DRUG_TYPE_14           601\n",
              "SYMPTOM_TYPE_18        359\n",
              "DRUG_TYPE_16           347\n",
              "TEST_TYPE_4            328\n",
              "SYMPTOM_TYPE_21        196\n",
              "SYMPTOM_TYPE_22        173\n",
              "SYMPTOM_TYPE_19        171\n",
              "DRUG_TYPE_17           143\n",
              "TEST_TYPE_5            128\n",
              "SYMPTOM_TYPE_23         51\n",
              "SYMPTOM_TYPE_26         50\n",
              "SYMPTOM_TYPE_20         41\n",
              "SYMPTOM_TYPE_24         38\n",
              "SYMPTOM_TYPE_27         19\n",
              "SYMPTOM_TYPE_25         10\n",
              "SYMPTOM_TYPE_28          6\n",
              "DRUG_TYPE_18             1\n",
              "Name: Incident, dtype: int64"
            ]
          },
          "execution_count": 16,
          "metadata": {},
          "output_type": "execute_result"
        }
      ],
      "source": [
        "df1.Incident.value_counts()"
      ],
      "id": "5ad090ce"
    },
    {
      "cell_type": "code",
      "execution_count": null,
      "metadata": {
        "id": "59597e88",
        "outputId": "9fb2f0cc-e72e-4df2-bdb7-2821a9cf21b2"
      },
      "outputs": [
        {
          "data": {
            "text/html": [
              "<div>\n",
              "<style scoped>\n",
              "    .dataframe tbody tr th:only-of-type {\n",
              "        vertical-align: middle;\n",
              "    }\n",
              "\n",
              "    .dataframe tbody tr th {\n",
              "        vertical-align: top;\n",
              "    }\n",
              "\n",
              "    .dataframe thead th {\n",
              "        text-align: right;\n",
              "    }\n",
              "</style>\n",
              "<table border=\"1\" class=\"dataframe\">\n",
              "  <thead>\n",
              "    <tr style=\"text-align: right;\">\n",
              "      <th></th>\n",
              "      <th>Patient-Uid</th>\n",
              "      <th>Incident</th>\n",
              "    </tr>\n",
              "  </thead>\n",
              "  <tbody>\n",
              "    <tr>\n",
              "      <th>3294791</th>\n",
              "      <td>a0eb742b-1c7c-11ec-8f61-16262ee38c7f</td>\n",
              "      <td>TARGET DRUG</td>\n",
              "    </tr>\n",
              "    <tr>\n",
              "      <th>3296990</th>\n",
              "      <td>a0edaf09-1c7c-11ec-a360-16262ee38c7f</td>\n",
              "      <td>TARGET DRUG</td>\n",
              "    </tr>\n",
              "    <tr>\n",
              "      <th>3305387</th>\n",
              "      <td>a0e9fa0e-1c7c-11ec-8dc7-16262ee38c7f</td>\n",
              "      <td>TARGET DRUG</td>\n",
              "    </tr>\n",
              "    <tr>\n",
              "      <th>3309423</th>\n",
              "      <td>a0ecc615-1c7c-11ec-aa31-16262ee38c7f</td>\n",
              "      <td>TARGET DRUG</td>\n",
              "    </tr>\n",
              "    <tr>\n",
              "      <th>3309494</th>\n",
              "      <td>a0ea612f-1c7c-11ec-8cf0-16262ee38c7f</td>\n",
              "      <td>TARGET DRUG</td>\n",
              "    </tr>\n",
              "    <tr>\n",
              "      <th>...</th>\n",
              "      <td>...</td>\n",
              "      <td>...</td>\n",
              "    </tr>\n",
              "    <tr>\n",
              "      <th>28215416</th>\n",
              "      <td>a0ecbf7b-1c7c-11ec-9986-16262ee38c7f</td>\n",
              "      <td>TARGET DRUG</td>\n",
              "    </tr>\n",
              "    <tr>\n",
              "      <th>28277272</th>\n",
              "      <td>a0ecab93-1c7c-11ec-8340-16262ee38c7f</td>\n",
              "      <td>TARGET DRUG</td>\n",
              "    </tr>\n",
              "    <tr>\n",
              "      <th>28282438</th>\n",
              "      <td>a0ef1c8c-1c7c-11ec-b007-16262ee38c7f</td>\n",
              "      <td>TARGET DRUG</td>\n",
              "    </tr>\n",
              "    <tr>\n",
              "      <th>28362752</th>\n",
              "      <td>a0f08a4d-1c7c-11ec-bb15-16262ee38c7f</td>\n",
              "      <td>TARGET DRUG</td>\n",
              "    </tr>\n",
              "    <tr>\n",
              "      <th>29067062</th>\n",
              "      <td>a0efc1fa-1c7c-11ec-9e1c-16262ee38c7f</td>\n",
              "      <td>TARGET DRUG</td>\n",
              "    </tr>\n",
              "  </tbody>\n",
              "</table>\n",
              "<p>9374 rows × 2 columns</p>\n",
              "</div>"
            ],
            "text/plain": [
              "                                   Patient-Uid     Incident\n",
              "3294791   a0eb742b-1c7c-11ec-8f61-16262ee38c7f  TARGET DRUG\n",
              "3296990   a0edaf09-1c7c-11ec-a360-16262ee38c7f  TARGET DRUG\n",
              "3305387   a0e9fa0e-1c7c-11ec-8dc7-16262ee38c7f  TARGET DRUG\n",
              "3309423   a0ecc615-1c7c-11ec-aa31-16262ee38c7f  TARGET DRUG\n",
              "3309494   a0ea612f-1c7c-11ec-8cf0-16262ee38c7f  TARGET DRUG\n",
              "...                                        ...          ...\n",
              "28215416  a0ecbf7b-1c7c-11ec-9986-16262ee38c7f  TARGET DRUG\n",
              "28277272  a0ecab93-1c7c-11ec-8340-16262ee38c7f  TARGET DRUG\n",
              "28282438  a0ef1c8c-1c7c-11ec-b007-16262ee38c7f  TARGET DRUG\n",
              "28362752  a0f08a4d-1c7c-11ec-bb15-16262ee38c7f  TARGET DRUG\n",
              "29067062  a0efc1fa-1c7c-11ec-9e1c-16262ee38c7f  TARGET DRUG\n",
              "\n",
              "[9374 rows x 2 columns]"
            ]
          },
          "execution_count": 17,
          "metadata": {},
          "output_type": "execute_result"
        }
      ],
      "source": [
        "df1[df1.Incident==\"TARGET DRUG\"]"
      ],
      "id": "59597e88"
    },
    {
      "cell_type": "code",
      "execution_count": null,
      "metadata": {
        "id": "e95577ce"
      },
      "outputs": [],
      "source": [
        "Patientdf=df1[df1.Incident==\"TARGET DRUG\"][\"Patient-Uid\"]"
      ],
      "id": "e95577ce"
    },
    {
      "cell_type": "code",
      "execution_count": null,
      "metadata": {
        "id": "75e13b32"
      },
      "outputs": [],
      "source": [
        "Patientdf1=Patientdf.reset_index()"
      ],
      "id": "75e13b32"
    },
    {
      "cell_type": "code",
      "execution_count": null,
      "metadata": {
        "id": "06389c2d-1086-4462-87b1-c8fa80a34dfe"
      },
      "outputs": [],
      "source": [
        "vallist=Patientdf1[\"Patient-Uid\"].to_list()"
      ],
      "id": "06389c2d-1086-4462-87b1-c8fa80a34dfe"
    },
    {
      "cell_type": "code",
      "execution_count": null,
      "metadata": {
        "id": "c825e29e-82ea-4e39-a0a1-2f7928902614"
      },
      "outputs": [],
      "source": [
        "class0=[]\n",
        "for i in df[\"Patient-Uid\"].unique():\n",
        "    if i in vallist:\n",
        "        pass\n",
        "    else:\n",
        "        class0.append(i)"
      ],
      "id": "c825e29e-82ea-4e39-a0a1-2f7928902614"
    },
    {
      "cell_type": "code",
      "execution_count": null,
      "metadata": {
        "id": "464a2891-a071-461b-9804-f645619d3ad0",
        "outputId": "1fc8f6b7-812c-4b2f-8cde-2cb184a57752"
      },
      "outputs": [
        {
          "data": {
            "text/plain": [
              "27033"
            ]
          },
          "execution_count": 22,
          "metadata": {},
          "output_type": "execute_result"
        }
      ],
      "source": [
        "len(class0)+9374"
      ],
      "id": "464a2891-a071-461b-9804-f645619d3ad0"
    },
    {
      "cell_type": "code",
      "execution_count": null,
      "metadata": {
        "id": "7e4f7b82-75ff-4dd6-bc8b-b08c3a5e6575",
        "outputId": "c62ccaf2-5893-48ae-e612-f73f95b22fb6"
      },
      "outputs": [
        {
          "data": {
            "text/plain": [
              "27033"
            ]
          },
          "execution_count": 23,
          "metadata": {},
          "output_type": "execute_result"
        }
      ],
      "source": [
        "df[\"Patient-Uid\"].nunique()"
      ],
      "id": "7e4f7b82-75ff-4dd6-bc8b-b08c3a5e6575"
    },
    {
      "cell_type": "code",
      "execution_count": null,
      "metadata": {
        "id": "0801a6e3"
      },
      "outputs": [],
      "source": [
        "df[\"Date\"]=pd.to_datetime(df.Date)"
      ],
      "id": "0801a6e3"
    },
    {
      "cell_type": "code",
      "execution_count": null,
      "metadata": {
        "id": "4570cd64",
        "outputId": "8d48dae8-c770-4ff5-e85e-c2ce2c0ca551"
      },
      "outputs": [
        {
          "data": {
            "text/plain": [
              "Timestamp('2020-09-03 00:00:00')"
            ]
          },
          "execution_count": 25,
          "metadata": {},
          "output_type": "execute_result"
        }
      ],
      "source": [
        "df[\"Date\"].max()"
      ],
      "id": "4570cd64"
    },
    {
      "cell_type": "code",
      "execution_count": null,
      "metadata": {
        "id": "58f041a5",
        "outputId": "e21723a5-a8fc-4e86-cabd-07262201132d"
      },
      "outputs": [
        {
          "data": {
            "text/html": [
              "<div>\n",
              "<style scoped>\n",
              "    .dataframe tbody tr th:only-of-type {\n",
              "        vertical-align: middle;\n",
              "    }\n",
              "\n",
              "    .dataframe tbody tr th {\n",
              "        vertical-align: top;\n",
              "    }\n",
              "\n",
              "    .dataframe thead th {\n",
              "        text-align: right;\n",
              "    }\n",
              "</style>\n",
              "<table border=\"1\" class=\"dataframe\">\n",
              "  <thead>\n",
              "    <tr style=\"text-align: right;\">\n",
              "      <th></th>\n",
              "      <th>Patient-Uid</th>\n",
              "      <th>Date</th>\n",
              "      <th>Incident</th>\n",
              "    </tr>\n",
              "  </thead>\n",
              "  <tbody>\n",
              "    <tr>\n",
              "      <th>11701</th>\n",
              "      <td>a0debb1e-1c7c-11ec-903c-16262ee38c7f</td>\n",
              "      <td>2020-09-03</td>\n",
              "      <td>DRUG_TYPE_7</td>\n",
              "    </tr>\n",
              "    <tr>\n",
              "      <th>16523</th>\n",
              "      <td>a0dfd9ea-1c7c-11ec-9106-16262ee38c7f</td>\n",
              "      <td>2020-09-03</td>\n",
              "      <td>DRUG_TYPE_6</td>\n",
              "    </tr>\n",
              "    <tr>\n",
              "      <th>23436</th>\n",
              "      <td>a0e10dfd-1c7c-11ec-8047-16262ee38c7f</td>\n",
              "      <td>2020-09-03</td>\n",
              "      <td>DRUG_TYPE_8</td>\n",
              "    </tr>\n",
              "    <tr>\n",
              "      <th>25667</th>\n",
              "      <td>a0dd5c4e-1c7c-11ec-83ac-16262ee38c7f</td>\n",
              "      <td>2020-09-03</td>\n",
              "      <td>DRUG_TYPE_8</td>\n",
              "    </tr>\n",
              "    <tr>\n",
              "      <th>31578</th>\n",
              "      <td>a0e2b0a4-1c7c-11ec-a7ad-16262ee38c7f</td>\n",
              "      <td>2020-09-03</td>\n",
              "      <td>DRUG_TYPE_3</td>\n",
              "    </tr>\n",
              "    <tr>\n",
              "      <th>...</th>\n",
              "      <td>...</td>\n",
              "      <td>...</td>\n",
              "      <td>...</td>\n",
              "    </tr>\n",
              "    <tr>\n",
              "      <th>28228235</th>\n",
              "      <td>a0ea5398-1c7c-11ec-a71b-16262ee38c7f</td>\n",
              "      <td>2020-09-03</td>\n",
              "      <td>DRUG_TYPE_7</td>\n",
              "    </tr>\n",
              "    <tr>\n",
              "      <th>28234855</th>\n",
              "      <td>a0ebfe58-1c7c-11ec-9431-16262ee38c7f</td>\n",
              "      <td>2020-09-03</td>\n",
              "      <td>DRUG_TYPE_0</td>\n",
              "    </tr>\n",
              "    <tr>\n",
              "      <th>28439056</th>\n",
              "      <td>a0ecff0d-1c7c-11ec-a86f-16262ee38c7f</td>\n",
              "      <td>2020-09-03</td>\n",
              "      <td>DRUG_TYPE_7</td>\n",
              "    </tr>\n",
              "    <tr>\n",
              "      <th>28854080</th>\n",
              "      <td>a0ed5244-1c7c-11ec-8400-16262ee38c7f</td>\n",
              "      <td>2020-09-03</td>\n",
              "      <td>DRUG_TYPE_2</td>\n",
              "    </tr>\n",
              "    <tr>\n",
              "      <th>28996470</th>\n",
              "      <td>a0ed826d-1c7c-11ec-936d-16262ee38c7f</td>\n",
              "      <td>2020-09-03</td>\n",
              "      <td>DRUG_TYPE_1</td>\n",
              "    </tr>\n",
              "  </tbody>\n",
              "</table>\n",
              "<p>1919 rows × 3 columns</p>\n",
              "</div>"
            ],
            "text/plain": [
              "                                   Patient-Uid       Date     Incident\n",
              "11701     a0debb1e-1c7c-11ec-903c-16262ee38c7f 2020-09-03  DRUG_TYPE_7\n",
              "16523     a0dfd9ea-1c7c-11ec-9106-16262ee38c7f 2020-09-03  DRUG_TYPE_6\n",
              "23436     a0e10dfd-1c7c-11ec-8047-16262ee38c7f 2020-09-03  DRUG_TYPE_8\n",
              "25667     a0dd5c4e-1c7c-11ec-83ac-16262ee38c7f 2020-09-03  DRUG_TYPE_8\n",
              "31578     a0e2b0a4-1c7c-11ec-a7ad-16262ee38c7f 2020-09-03  DRUG_TYPE_3\n",
              "...                                        ...        ...          ...\n",
              "28228235  a0ea5398-1c7c-11ec-a71b-16262ee38c7f 2020-09-03  DRUG_TYPE_7\n",
              "28234855  a0ebfe58-1c7c-11ec-9431-16262ee38c7f 2020-09-03  DRUG_TYPE_0\n",
              "28439056  a0ecff0d-1c7c-11ec-a86f-16262ee38c7f 2020-09-03  DRUG_TYPE_7\n",
              "28854080  a0ed5244-1c7c-11ec-8400-16262ee38c7f 2020-09-03  DRUG_TYPE_2\n",
              "28996470  a0ed826d-1c7c-11ec-936d-16262ee38c7f 2020-09-03  DRUG_TYPE_1\n",
              "\n",
              "[1919 rows x 3 columns]"
            ]
          },
          "execution_count": 26,
          "metadata": {},
          "output_type": "execute_result"
        }
      ],
      "source": [
        "df[df[\"Date\"]==\"2020-09-03\"]"
      ],
      "id": "58f041a5"
    },
    {
      "cell_type": "markdown",
      "metadata": {
        "id": "fef3d99a"
      },
      "source": [
        "### 2020-08-04 this is last date so this is current date"
      ],
      "id": "fef3d99a"
    },
    {
      "cell_type": "code",
      "execution_count": null,
      "metadata": {
        "id": "b12f702b",
        "outputId": "351c54ee-37e1-4cdd-eaa3-c4c7e16b0375",
        "scrolled": true
      },
      "outputs": [
        {
          "data": {
            "text/plain": [
              "1"
            ]
          },
          "execution_count": 27,
          "metadata": {},
          "output_type": "execute_result"
        }
      ],
      "source": [
        "from datetime import datetime\n",
        "\n",
        "date = datetime.now()\n",
        "d1 = datetime.strptime(\"2020-08-03\", \"%Y-%m-%d\")\n",
        "d2 = datetime.strptime(\"2020-08-04\", \"%Y-%m-%d\")\n",
        "(d2 - d1).days"
      ],
      "id": "b12f702b"
    },
    {
      "cell_type": "code",
      "execution_count": null,
      "metadata": {
        "id": "c00522bc"
      },
      "outputs": [],
      "source": [],
      "id": "c00522bc"
    },
    {
      "cell_type": "code",
      "execution_count": null,
      "metadata": {
        "id": "d32177b0"
      },
      "outputs": [],
      "source": [],
      "id": "d32177b0"
    },
    {
      "cell_type": "code",
      "execution_count": null,
      "metadata": {
        "id": "707601a0"
      },
      "outputs": [],
      "source": [
        "def timeforx(x):\n",
        "    date = datetime.now()\n",
        "    d1 = x\n",
        "    d2 = datetime.strptime(\"2020-09-03\", \"%Y-%m-%d\")\n",
        "    return abs((d2 - d1).days)"
      ],
      "id": "707601a0"
    },
    {
      "cell_type": "code",
      "execution_count": null,
      "metadata": {
        "id": "eff6fbc7"
      },
      "outputs": [],
      "source": [
        "df[\"lastdrug\"]=df.Date.apply(timeforx)"
      ],
      "id": "eff6fbc7"
    },
    {
      "cell_type": "code",
      "execution_count": null,
      "metadata": {
        "id": "09fdff11",
        "outputId": "3f557581-bbfa-4df1-ebad-73ea3cc4e28b",
        "scrolled": true
      },
      "outputs": [
        {
          "data": {
            "text/html": [
              "<div>\n",
              "<style scoped>\n",
              "    .dataframe tbody tr th:only-of-type {\n",
              "        vertical-align: middle;\n",
              "    }\n",
              "\n",
              "    .dataframe tbody tr th {\n",
              "        vertical-align: top;\n",
              "    }\n",
              "\n",
              "    .dataframe thead th {\n",
              "        text-align: right;\n",
              "    }\n",
              "</style>\n",
              "<table border=\"1\" class=\"dataframe\">\n",
              "  <thead>\n",
              "    <tr style=\"text-align: right;\">\n",
              "      <th></th>\n",
              "      <th>Patient-Uid</th>\n",
              "      <th>Date</th>\n",
              "      <th>Incident</th>\n",
              "      <th>lastdrug</th>\n",
              "    </tr>\n",
              "  </thead>\n",
              "  <tbody>\n",
              "    <tr>\n",
              "      <th>0</th>\n",
              "      <td>a0db1e73-1c7c-11ec-ae39-16262ee38c7f</td>\n",
              "      <td>2019-03-09</td>\n",
              "      <td>PRIMARY_DIAGNOSIS</td>\n",
              "      <td>544</td>\n",
              "    </tr>\n",
              "    <tr>\n",
              "      <th>1</th>\n",
              "      <td>a0dc93f2-1c7c-11ec-9cd2-16262ee38c7f</td>\n",
              "      <td>2015-05-16</td>\n",
              "      <td>PRIMARY_DIAGNOSIS</td>\n",
              "      <td>1937</td>\n",
              "    </tr>\n",
              "    <tr>\n",
              "      <th>3</th>\n",
              "      <td>a0dc94c6-1c7c-11ec-a3a0-16262ee38c7f</td>\n",
              "      <td>2018-01-30</td>\n",
              "      <td>SYMPTOM_TYPE_0</td>\n",
              "      <td>947</td>\n",
              "    </tr>\n",
              "    <tr>\n",
              "      <th>4</th>\n",
              "      <td>a0dc950b-1c7c-11ec-b6ec-16262ee38c7f</td>\n",
              "      <td>2015-04-22</td>\n",
              "      <td>DRUG_TYPE_0</td>\n",
              "      <td>1961</td>\n",
              "    </tr>\n",
              "    <tr>\n",
              "      <th>8</th>\n",
              "      <td>a0dc9543-1c7c-11ec-bb63-16262ee38c7f</td>\n",
              "      <td>2016-06-18</td>\n",
              "      <td>DRUG_TYPE_1</td>\n",
              "      <td>1538</td>\n",
              "    </tr>\n",
              "    <tr>\n",
              "      <th>...</th>\n",
              "      <td>...</td>\n",
              "      <td>...</td>\n",
              "      <td>...</td>\n",
              "      <td>...</td>\n",
              "    </tr>\n",
              "    <tr>\n",
              "      <th>29080886</th>\n",
              "      <td>a0ee9f75-1c7c-11ec-94c7-16262ee38c7f</td>\n",
              "      <td>2018-07-06</td>\n",
              "      <td>DRUG_TYPE_6</td>\n",
              "      <td>790</td>\n",
              "    </tr>\n",
              "    <tr>\n",
              "      <th>29080897</th>\n",
              "      <td>a0ee1284-1c7c-11ec-a3d5-16262ee38c7f</td>\n",
              "      <td>2017-12-29</td>\n",
              "      <td>DRUG_TYPE_6</td>\n",
              "      <td>979</td>\n",
              "    </tr>\n",
              "    <tr>\n",
              "      <th>29080900</th>\n",
              "      <td>a0ee9b26-1c7c-11ec-8a40-16262ee38c7f</td>\n",
              "      <td>2018-10-18</td>\n",
              "      <td>DRUG_TYPE_10</td>\n",
              "      <td>686</td>\n",
              "    </tr>\n",
              "    <tr>\n",
              "      <th>29080903</th>\n",
              "      <td>a0ee1a92-1c7c-11ec-8341-16262ee38c7f</td>\n",
              "      <td>2015-09-18</td>\n",
              "      <td>DRUG_TYPE_6</td>\n",
              "      <td>1812</td>\n",
              "    </tr>\n",
              "    <tr>\n",
              "      <th>29080911</th>\n",
              "      <td>a0ee146e-1c7c-11ec-baee-16262ee38c7f</td>\n",
              "      <td>2018-10-05</td>\n",
              "      <td>DRUG_TYPE_1</td>\n",
              "      <td>699</td>\n",
              "    </tr>\n",
              "  </tbody>\n",
              "</table>\n",
              "<p>3220868 rows × 4 columns</p>\n",
              "</div>"
            ],
            "text/plain": [
              "                                   Patient-Uid       Date           Incident  \\\n",
              "0         a0db1e73-1c7c-11ec-ae39-16262ee38c7f 2019-03-09  PRIMARY_DIAGNOSIS   \n",
              "1         a0dc93f2-1c7c-11ec-9cd2-16262ee38c7f 2015-05-16  PRIMARY_DIAGNOSIS   \n",
              "3         a0dc94c6-1c7c-11ec-a3a0-16262ee38c7f 2018-01-30     SYMPTOM_TYPE_0   \n",
              "4         a0dc950b-1c7c-11ec-b6ec-16262ee38c7f 2015-04-22        DRUG_TYPE_0   \n",
              "8         a0dc9543-1c7c-11ec-bb63-16262ee38c7f 2016-06-18        DRUG_TYPE_1   \n",
              "...                                        ...        ...                ...   \n",
              "29080886  a0ee9f75-1c7c-11ec-94c7-16262ee38c7f 2018-07-06        DRUG_TYPE_6   \n",
              "29080897  a0ee1284-1c7c-11ec-a3d5-16262ee38c7f 2017-12-29        DRUG_TYPE_6   \n",
              "29080900  a0ee9b26-1c7c-11ec-8a40-16262ee38c7f 2018-10-18       DRUG_TYPE_10   \n",
              "29080903  a0ee1a92-1c7c-11ec-8341-16262ee38c7f 2015-09-18        DRUG_TYPE_6   \n",
              "29080911  a0ee146e-1c7c-11ec-baee-16262ee38c7f 2018-10-05        DRUG_TYPE_1   \n",
              "\n",
              "          lastdrug  \n",
              "0              544  \n",
              "1             1937  \n",
              "3              947  \n",
              "4             1961  \n",
              "8             1538  \n",
              "...            ...  \n",
              "29080886       790  \n",
              "29080897       979  \n",
              "29080900       686  \n",
              "29080903      1812  \n",
              "29080911       699  \n",
              "\n",
              "[3220868 rows x 4 columns]"
            ]
          },
          "execution_count": 38,
          "metadata": {},
          "output_type": "execute_result"
        }
      ],
      "source": [
        "df"
      ],
      "id": "09fdff11"
    },
    {
      "cell_type": "code",
      "execution_count": null,
      "metadata": {
        "id": "e1a316f2"
      },
      "outputs": [],
      "source": [
        "df_last=pd.DataFrame()"
      ],
      "id": "e1a316f2"
    },
    {
      "cell_type": "code",
      "execution_count": null,
      "metadata": {
        "id": "05878f83"
      },
      "outputs": [],
      "source": [
        "import timeit"
      ],
      "id": "05878f83"
    },
    {
      "cell_type": "code",
      "execution_count": null,
      "metadata": {
        "id": "663b05d5",
        "outputId": "95c4e116-0915-42d8-b0c3-42e6de5dd3c1",
        "scrolled": true
      },
      "outputs": [
        {
          "name": "stdout",
          "output_type": "stream",
          "text": [
            "Execution Time:  1789.8316567000002\n"
          ]
        }
      ],
      "source": [
        "import timeit\n",
        "start = timeit.default_timer()\n",
        "i=1\n",
        "for idname in Patientdf1[\"Patient-Uid\"]:\n",
        "    new=df[df[\"Patient-Uid\"]==idname].sort_values(\"lastdrug\",ascending=False).reset_index()\n",
        "    indexs=new[new[\"Incident\"]==\"TARGET DRUG\"].index[0]\n",
        "    newdf=new.head(indexs+1)\n",
        "    df_last = pd.concat([df_last, newdf], ignore_index=True)\n",
        "    end = timeit.default_timer()\n",
        "\n",
        "print('Execution Time: ', end - start)"
      ],
      "id": "663b05d5"
    },
    {
      "cell_type": "code",
      "execution_count": null,
      "metadata": {
        "id": "1e49ae8e-ec88-408b-800b-65f44bbf72d9"
      },
      "outputs": [],
      "source": [
        "df.index=df[\"Date\"]"
      ],
      "id": "1e49ae8e-ec88-408b-800b-65f44bbf72d9"
    },
    {
      "cell_type": "code",
      "execution_count": null,
      "metadata": {
        "id": "85a5cc55-e9a5-4d97-9b38-d0a282acd5e8"
      },
      "outputs": [],
      "source": [
        "df=df.drop([\"Date\"],axis=1)"
      ],
      "id": "85a5cc55-e9a5-4d97-9b38-d0a282acd5e8"
    },
    {
      "cell_type": "code",
      "execution_count": null,
      "metadata": {
        "colab": {
          "referenced_widgets": [
            "b947d870aca94a5aa7d75854d3242851"
          ]
        },
        "id": "30d39adc-ae70-45de-bc38-80ef425414b7",
        "outputId": "1a19f083-db35-4107-9696-3624f1b78592"
      },
      "outputs": [
        {
          "data": {
            "application/vnd.jupyter.widget-view+json": {
              "model_id": "b947d870aca94a5aa7d75854d3242851",
              "version_major": 2,
              "version_minor": 0
            },
            "text/plain": [
              "  0%|          | 0/17659 [00:00<?, ?it/s]"
            ]
          },
          "metadata": {},
          "output_type": "display_data"
        },
        {
          "name": "stdout",
          "output_type": "stream",
          "text": [
            "Execution Time:  3107.1974236000096\n"
          ]
        }
      ],
      "source": [
        "import timeit\n",
        "start = timeit.default_timer()\n",
        "i=1\n",
        "df_lastclass0=pd.DataFrame()\n",
        "for idname in tqdm(class0):\n",
        "    new=df[df[\"Patient-Uid\"]==idname].sort_values(\"lastdrug\")\n",
        "    now=new[:1:].index[0]\n",
        "    back=new[:1:].index[0]- timedelta(days=30)\n",
        "    new=new.loc[now:back]\n",
        "    df_lastclass0 = pd.concat([df_lastclass0, new])\n",
        "\n",
        "end = timeit.default_timer()\n",
        "\n",
        "print('Execution Time: ', end - start)"
      ],
      "id": "30d39adc-ae70-45de-bc38-80ef425414b7"
    },
    {
      "cell_type": "code",
      "execution_count": null,
      "metadata": {
        "id": "6679492c-b44d-4855-a95f-1b84fdba0b90",
        "outputId": "1b64286f-3fb3-469d-9578-e61c07648cb2"
      },
      "outputs": [
        {
          "data": {
            "text/html": [
              "<div>\n",
              "<style scoped>\n",
              "    .dataframe tbody tr th:only-of-type {\n",
              "        vertical-align: middle;\n",
              "    }\n",
              "\n",
              "    .dataframe tbody tr th {\n",
              "        vertical-align: top;\n",
              "    }\n",
              "\n",
              "    .dataframe thead th {\n",
              "        text-align: right;\n",
              "    }\n",
              "</style>\n",
              "<table border=\"1\" class=\"dataframe\">\n",
              "  <thead>\n",
              "    <tr style=\"text-align: right;\">\n",
              "      <th></th>\n",
              "      <th>Patient-Uid</th>\n",
              "      <th>Incident</th>\n",
              "      <th>lastdrug</th>\n",
              "    </tr>\n",
              "    <tr>\n",
              "      <th>Date</th>\n",
              "      <th></th>\n",
              "      <th></th>\n",
              "      <th></th>\n",
              "    </tr>\n",
              "  </thead>\n",
              "  <tbody>\n",
              "    <tr>\n",
              "      <th>2020-08-09</th>\n",
              "      <td>a0db1e73-1c7c-11ec-ae39-16262ee38c7f</td>\n",
              "      <td>DRUG_TYPE_2</td>\n",
              "      <td>25</td>\n",
              "    </tr>\n",
              "    <tr>\n",
              "      <th>2020-08-07</th>\n",
              "      <td>a0db1e73-1c7c-11ec-ae39-16262ee38c7f</td>\n",
              "      <td>DRUG_TYPE_2</td>\n",
              "      <td>27</td>\n",
              "    </tr>\n",
              "    <tr>\n",
              "      <th>2020-08-05</th>\n",
              "      <td>a0db1e73-1c7c-11ec-ae39-16262ee38c7f</td>\n",
              "      <td>DRUG_TYPE_2</td>\n",
              "      <td>29</td>\n",
              "    </tr>\n",
              "    <tr>\n",
              "      <th>2020-08-05</th>\n",
              "      <td>a0db1e73-1c7c-11ec-ae39-16262ee38c7f</td>\n",
              "      <td>DRUG_TYPE_7</td>\n",
              "      <td>29</td>\n",
              "    </tr>\n",
              "    <tr>\n",
              "      <th>2020-08-04</th>\n",
              "      <td>a0db1e73-1c7c-11ec-ae39-16262ee38c7f</td>\n",
              "      <td>DRUG_TYPE_2</td>\n",
              "      <td>30</td>\n",
              "    </tr>\n",
              "    <tr>\n",
              "      <th>...</th>\n",
              "      <td>...</td>\n",
              "      <td>...</td>\n",
              "      <td>...</td>\n",
              "    </tr>\n",
              "    <tr>\n",
              "      <th>2020-09-01</th>\n",
              "      <td>a0dc99e2-1c7c-11ec-a822-16262ee38c7f</td>\n",
              "      <td>DRUG_TYPE_0</td>\n",
              "      <td>2</td>\n",
              "    </tr>\n",
              "    <tr>\n",
              "      <th>2020-09-01</th>\n",
              "      <td>a0dc99e2-1c7c-11ec-a822-16262ee38c7f</td>\n",
              "      <td>DRUG_TYPE_8</td>\n",
              "      <td>2</td>\n",
              "    </tr>\n",
              "    <tr>\n",
              "      <th>2020-09-01</th>\n",
              "      <td>a0dc9a12-1c7c-11ec-a92d-16262ee38c7f</td>\n",
              "      <td>DRUG_TYPE_2</td>\n",
              "      <td>2</td>\n",
              "    </tr>\n",
              "    <tr>\n",
              "      <th>2020-09-01</th>\n",
              "      <td>a0dc9a12-1c7c-11ec-a92d-16262ee38c7f</td>\n",
              "      <td>DRUG_TYPE_0</td>\n",
              "      <td>2</td>\n",
              "    </tr>\n",
              "    <tr>\n",
              "      <th>2020-09-01</th>\n",
              "      <td>a0dc9a12-1c7c-11ec-a92d-16262ee38c7f</td>\n",
              "      <td>DRUG_TYPE_7</td>\n",
              "      <td>2</td>\n",
              "    </tr>\n",
              "  </tbody>\n",
              "</table>\n",
              "<p>99 rows × 3 columns</p>\n",
              "</div>"
            ],
            "text/plain": [
              "                                     Patient-Uid     Incident  lastdrug\n",
              "Date                                                                   \n",
              "2020-08-09  a0db1e73-1c7c-11ec-ae39-16262ee38c7f  DRUG_TYPE_2        25\n",
              "2020-08-07  a0db1e73-1c7c-11ec-ae39-16262ee38c7f  DRUG_TYPE_2        27\n",
              "2020-08-05  a0db1e73-1c7c-11ec-ae39-16262ee38c7f  DRUG_TYPE_2        29\n",
              "2020-08-05  a0db1e73-1c7c-11ec-ae39-16262ee38c7f  DRUG_TYPE_7        29\n",
              "2020-08-04  a0db1e73-1c7c-11ec-ae39-16262ee38c7f  DRUG_TYPE_2        30\n",
              "...                                          ...          ...       ...\n",
              "2020-09-01  a0dc99e2-1c7c-11ec-a822-16262ee38c7f  DRUG_TYPE_0         2\n",
              "2020-09-01  a0dc99e2-1c7c-11ec-a822-16262ee38c7f  DRUG_TYPE_8         2\n",
              "2020-09-01  a0dc9a12-1c7c-11ec-a92d-16262ee38c7f  DRUG_TYPE_2         2\n",
              "2020-09-01  a0dc9a12-1c7c-11ec-a92d-16262ee38c7f  DRUG_TYPE_0         2\n",
              "2020-09-01  a0dc9a12-1c7c-11ec-a92d-16262ee38c7f  DRUG_TYPE_7         2\n",
              "\n",
              "[99 rows x 3 columns]"
            ]
          },
          "execution_count": 172,
          "metadata": {},
          "output_type": "execute_result"
        }
      ],
      "source": [
        "df_lastclass0"
      ],
      "id": "6679492c-b44d-4855-a95f-1b84fdba0b90"
    },
    {
      "cell_type": "code",
      "execution_count": null,
      "metadata": {
        "id": "f3f0b79a-038f-4029-a995-ad912c26fd96",
        "outputId": "3dcb46e7-5f2b-44f5-e386-2a335e8fb935"
      },
      "outputs": [
        {
          "data": {
            "text/plain": [
              "Timestamp('2020-08-09 00:00:00')"
            ]
          },
          "execution_count": 165,
          "metadata": {},
          "output_type": "execute_result"
        }
      ],
      "source": [
        "now"
      ],
      "id": "f3f0b79a-038f-4029-a995-ad912c26fd96"
    },
    {
      "cell_type": "code",
      "execution_count": null,
      "metadata": {
        "id": "462f59c4-13f2-468e-b2da-c99f97e9e075",
        "outputId": "b5b96e25-ea9f-457a-f124-2ef656b039bf"
      },
      "outputs": [
        {
          "data": {
            "text/plain": [
              "Timestamp('2020-07-10 00:00:00')"
            ]
          },
          "execution_count": 166,
          "metadata": {},
          "output_type": "execute_result"
        }
      ],
      "source": [
        "back"
      ],
      "id": "462f59c4-13f2-468e-b2da-c99f97e9e075"
    },
    {
      "cell_type": "code",
      "execution_count": null,
      "metadata": {
        "id": "808278d1-30c2-48ef-be6e-4bec4b54017b",
        "outputId": "33bd29ce-2358-49fa-c258-3e317b4e0c1a"
      },
      "outputs": [
        {
          "data": {
            "text/html": [
              "<div>\n",
              "<style scoped>\n",
              "    .dataframe tbody tr th:only-of-type {\n",
              "        vertical-align: middle;\n",
              "    }\n",
              "\n",
              "    .dataframe tbody tr th {\n",
              "        vertical-align: top;\n",
              "    }\n",
              "\n",
              "    .dataframe thead th {\n",
              "        text-align: right;\n",
              "    }\n",
              "</style>\n",
              "<table border=\"1\" class=\"dataframe\">\n",
              "  <thead>\n",
              "    <tr style=\"text-align: right;\">\n",
              "      <th></th>\n",
              "      <th>Patient-Uid</th>\n",
              "      <th>Incident</th>\n",
              "      <th>lastdrug</th>\n",
              "    </tr>\n",
              "    <tr>\n",
              "      <th>Date</th>\n",
              "      <th></th>\n",
              "      <th></th>\n",
              "      <th></th>\n",
              "    </tr>\n",
              "  </thead>\n",
              "  <tbody>\n",
              "    <tr>\n",
              "      <th>2020-08-09</th>\n",
              "      <td>a0db1e73-1c7c-11ec-ae39-16262ee38c7f</td>\n",
              "      <td>DRUG_TYPE_2</td>\n",
              "      <td>25</td>\n",
              "    </tr>\n",
              "    <tr>\n",
              "      <th>2020-08-07</th>\n",
              "      <td>a0db1e73-1c7c-11ec-ae39-16262ee38c7f</td>\n",
              "      <td>DRUG_TYPE_2</td>\n",
              "      <td>27</td>\n",
              "    </tr>\n",
              "    <tr>\n",
              "      <th>2020-08-05</th>\n",
              "      <td>a0db1e73-1c7c-11ec-ae39-16262ee38c7f</td>\n",
              "      <td>DRUG_TYPE_2</td>\n",
              "      <td>29</td>\n",
              "    </tr>\n",
              "    <tr>\n",
              "      <th>2020-08-05</th>\n",
              "      <td>a0db1e73-1c7c-11ec-ae39-16262ee38c7f</td>\n",
              "      <td>DRUG_TYPE_7</td>\n",
              "      <td>29</td>\n",
              "    </tr>\n",
              "    <tr>\n",
              "      <th>2020-08-04</th>\n",
              "      <td>a0db1e73-1c7c-11ec-ae39-16262ee38c7f</td>\n",
              "      <td>DRUG_TYPE_2</td>\n",
              "      <td>30</td>\n",
              "    </tr>\n",
              "    <tr>\n",
              "      <th>2020-08-04</th>\n",
              "      <td>a0db1e73-1c7c-11ec-ae39-16262ee38c7f</td>\n",
              "      <td>PRIMARY_DIAGNOSIS</td>\n",
              "      <td>30</td>\n",
              "    </tr>\n",
              "    <tr>\n",
              "      <th>2020-08-04</th>\n",
              "      <td>a0db1e73-1c7c-11ec-ae39-16262ee38c7f</td>\n",
              "      <td>DRUG_TYPE_7</td>\n",
              "      <td>30</td>\n",
              "    </tr>\n",
              "    <tr>\n",
              "      <th>2020-08-04</th>\n",
              "      <td>a0db1e73-1c7c-11ec-ae39-16262ee38c7f</td>\n",
              "      <td>TEST_TYPE_1</td>\n",
              "      <td>30</td>\n",
              "    </tr>\n",
              "    <tr>\n",
              "      <th>2020-08-03</th>\n",
              "      <td>a0db1e73-1c7c-11ec-ae39-16262ee38c7f</td>\n",
              "      <td>SYMPTOM_TYPE_0</td>\n",
              "      <td>31</td>\n",
              "    </tr>\n",
              "    <tr>\n",
              "      <th>2020-08-03</th>\n",
              "      <td>a0db1e73-1c7c-11ec-ae39-16262ee38c7f</td>\n",
              "      <td>PRIMARY_DIAGNOSIS</td>\n",
              "      <td>31</td>\n",
              "    </tr>\n",
              "    <tr>\n",
              "      <th>2020-08-03</th>\n",
              "      <td>a0db1e73-1c7c-11ec-ae39-16262ee38c7f</td>\n",
              "      <td>PRIMARY_DIAGNOSIS</td>\n",
              "      <td>31</td>\n",
              "    </tr>\n",
              "    <tr>\n",
              "      <th>2020-08-03</th>\n",
              "      <td>a0db1e73-1c7c-11ec-ae39-16262ee38c7f</td>\n",
              "      <td>TEST_TYPE_0</td>\n",
              "      <td>31</td>\n",
              "    </tr>\n",
              "    <tr>\n",
              "      <th>2020-08-02</th>\n",
              "      <td>a0db1e73-1c7c-11ec-ae39-16262ee38c7f</td>\n",
              "      <td>DRUG_TYPE_0</td>\n",
              "      <td>32</td>\n",
              "    </tr>\n",
              "    <tr>\n",
              "      <th>2020-07-21</th>\n",
              "      <td>a0db1e73-1c7c-11ec-ae39-16262ee38c7f</td>\n",
              "      <td>DRUG_TYPE_0</td>\n",
              "      <td>44</td>\n",
              "    </tr>\n",
              "    <tr>\n",
              "      <th>2020-07-20</th>\n",
              "      <td>a0db1e73-1c7c-11ec-ae39-16262ee38c7f</td>\n",
              "      <td>TEST_TYPE_0</td>\n",
              "      <td>45</td>\n",
              "    </tr>\n",
              "    <tr>\n",
              "      <th>2020-07-20</th>\n",
              "      <td>a0db1e73-1c7c-11ec-ae39-16262ee38c7f</td>\n",
              "      <td>DRUG_TYPE_0</td>\n",
              "      <td>45</td>\n",
              "    </tr>\n",
              "    <tr>\n",
              "      <th>2020-07-20</th>\n",
              "      <td>a0db1e73-1c7c-11ec-ae39-16262ee38c7f</td>\n",
              "      <td>PRIMARY_DIAGNOSIS</td>\n",
              "      <td>45</td>\n",
              "    </tr>\n",
              "    <tr>\n",
              "      <th>2020-07-20</th>\n",
              "      <td>a0db1e73-1c7c-11ec-ae39-16262ee38c7f</td>\n",
              "      <td>DRUG_TYPE_6</td>\n",
              "      <td>45</td>\n",
              "    </tr>\n",
              "  </tbody>\n",
              "</table>\n",
              "</div>"
            ],
            "text/plain": [
              "                                     Patient-Uid           Incident  lastdrug\n",
              "Date                                                                         \n",
              "2020-08-09  a0db1e73-1c7c-11ec-ae39-16262ee38c7f        DRUG_TYPE_2        25\n",
              "2020-08-07  a0db1e73-1c7c-11ec-ae39-16262ee38c7f        DRUG_TYPE_2        27\n",
              "2020-08-05  a0db1e73-1c7c-11ec-ae39-16262ee38c7f        DRUG_TYPE_2        29\n",
              "2020-08-05  a0db1e73-1c7c-11ec-ae39-16262ee38c7f        DRUG_TYPE_7        29\n",
              "2020-08-04  a0db1e73-1c7c-11ec-ae39-16262ee38c7f        DRUG_TYPE_2        30\n",
              "2020-08-04  a0db1e73-1c7c-11ec-ae39-16262ee38c7f  PRIMARY_DIAGNOSIS        30\n",
              "2020-08-04  a0db1e73-1c7c-11ec-ae39-16262ee38c7f        DRUG_TYPE_7        30\n",
              "2020-08-04  a0db1e73-1c7c-11ec-ae39-16262ee38c7f        TEST_TYPE_1        30\n",
              "2020-08-03  a0db1e73-1c7c-11ec-ae39-16262ee38c7f     SYMPTOM_TYPE_0        31\n",
              "2020-08-03  a0db1e73-1c7c-11ec-ae39-16262ee38c7f  PRIMARY_DIAGNOSIS        31\n",
              "2020-08-03  a0db1e73-1c7c-11ec-ae39-16262ee38c7f  PRIMARY_DIAGNOSIS        31\n",
              "2020-08-03  a0db1e73-1c7c-11ec-ae39-16262ee38c7f        TEST_TYPE_0        31\n",
              "2020-08-02  a0db1e73-1c7c-11ec-ae39-16262ee38c7f        DRUG_TYPE_0        32\n",
              "2020-07-21  a0db1e73-1c7c-11ec-ae39-16262ee38c7f        DRUG_TYPE_0        44\n",
              "2020-07-20  a0db1e73-1c7c-11ec-ae39-16262ee38c7f        TEST_TYPE_0        45\n",
              "2020-07-20  a0db1e73-1c7c-11ec-ae39-16262ee38c7f        DRUG_TYPE_0        45\n",
              "2020-07-20  a0db1e73-1c7c-11ec-ae39-16262ee38c7f  PRIMARY_DIAGNOSIS        45\n",
              "2020-07-20  a0db1e73-1c7c-11ec-ae39-16262ee38c7f        DRUG_TYPE_6        45"
            ]
          },
          "execution_count": 164,
          "metadata": {},
          "output_type": "execute_result"
        }
      ],
      "source": [
        "new"
      ],
      "id": "808278d1-30c2-48ef-be6e-4bec4b54017b"
    },
    {
      "cell_type": "code",
      "execution_count": null,
      "metadata": {
        "id": "5ea604ee-42c2-4119-85d5-499b80928478",
        "outputId": "65445a2f-09c6-4b62-c1e3-1b05ff3767d1"
      },
      "outputs": [
        {
          "data": {
            "text/html": [
              "<div>\n",
              "<style scoped>\n",
              "    .dataframe tbody tr th:only-of-type {\n",
              "        vertical-align: middle;\n",
              "    }\n",
              "\n",
              "    .dataframe tbody tr th {\n",
              "        vertical-align: top;\n",
              "    }\n",
              "\n",
              "    .dataframe thead th {\n",
              "        text-align: right;\n",
              "    }\n",
              "</style>\n",
              "<table border=\"1\" class=\"dataframe\">\n",
              "  <thead>\n",
              "    <tr style=\"text-align: right;\">\n",
              "      <th></th>\n",
              "      <th>Patient-Uid</th>\n",
              "      <th>Incident</th>\n",
              "      <th>lastdrug</th>\n",
              "    </tr>\n",
              "  </thead>\n",
              "  <tbody>\n",
              "    <tr>\n",
              "      <th>0</th>\n",
              "      <td>a0db1e73-1c7c-11ec-ae39-16262ee38c7f</td>\n",
              "      <td>DRUG_TYPE_2</td>\n",
              "      <td>25</td>\n",
              "    </tr>\n",
              "    <tr>\n",
              "      <th>1</th>\n",
              "      <td>a0db1e73-1c7c-11ec-ae39-16262ee38c7f</td>\n",
              "      <td>DRUG_TYPE_2</td>\n",
              "      <td>27</td>\n",
              "    </tr>\n",
              "    <tr>\n",
              "      <th>2</th>\n",
              "      <td>a0db1e73-1c7c-11ec-ae39-16262ee38c7f</td>\n",
              "      <td>DRUG_TYPE_2</td>\n",
              "      <td>29</td>\n",
              "    </tr>\n",
              "    <tr>\n",
              "      <th>3</th>\n",
              "      <td>a0db1e73-1c7c-11ec-ae39-16262ee38c7f</td>\n",
              "      <td>DRUG_TYPE_7</td>\n",
              "      <td>29</td>\n",
              "    </tr>\n",
              "    <tr>\n",
              "      <th>4</th>\n",
              "      <td>a0db1e73-1c7c-11ec-ae39-16262ee38c7f</td>\n",
              "      <td>DRUG_TYPE_2</td>\n",
              "      <td>30</td>\n",
              "    </tr>\n",
              "    <tr>\n",
              "      <th>...</th>\n",
              "      <td>...</td>\n",
              "      <td>...</td>\n",
              "      <td>...</td>\n",
              "    </tr>\n",
              "    <tr>\n",
              "      <th>157</th>\n",
              "      <td>a0db1e73-1c7c-11ec-ae39-16262ee38c7f</td>\n",
              "      <td>DRUG_TYPE_0</td>\n",
              "      <td>44</td>\n",
              "    </tr>\n",
              "    <tr>\n",
              "      <th>158</th>\n",
              "      <td>a0db1e73-1c7c-11ec-ae39-16262ee38c7f</td>\n",
              "      <td>TEST_TYPE_0</td>\n",
              "      <td>45</td>\n",
              "    </tr>\n",
              "    <tr>\n",
              "      <th>159</th>\n",
              "      <td>a0db1e73-1c7c-11ec-ae39-16262ee38c7f</td>\n",
              "      <td>DRUG_TYPE_0</td>\n",
              "      <td>45</td>\n",
              "    </tr>\n",
              "    <tr>\n",
              "      <th>160</th>\n",
              "      <td>a0db1e73-1c7c-11ec-ae39-16262ee38c7f</td>\n",
              "      <td>PRIMARY_DIAGNOSIS</td>\n",
              "      <td>45</td>\n",
              "    </tr>\n",
              "    <tr>\n",
              "      <th>161</th>\n",
              "      <td>a0db1e73-1c7c-11ec-ae39-16262ee38c7f</td>\n",
              "      <td>DRUG_TYPE_6</td>\n",
              "      <td>45</td>\n",
              "    </tr>\n",
              "  </tbody>\n",
              "</table>\n",
              "<p>162 rows × 3 columns</p>\n",
              "</div>"
            ],
            "text/plain": [
              "                              Patient-Uid           Incident  lastdrug\n",
              "0    a0db1e73-1c7c-11ec-ae39-16262ee38c7f        DRUG_TYPE_2        25\n",
              "1    a0db1e73-1c7c-11ec-ae39-16262ee38c7f        DRUG_TYPE_2        27\n",
              "2    a0db1e73-1c7c-11ec-ae39-16262ee38c7f        DRUG_TYPE_2        29\n",
              "3    a0db1e73-1c7c-11ec-ae39-16262ee38c7f        DRUG_TYPE_7        29\n",
              "4    a0db1e73-1c7c-11ec-ae39-16262ee38c7f        DRUG_TYPE_2        30\n",
              "..                                    ...                ...       ...\n",
              "157  a0db1e73-1c7c-11ec-ae39-16262ee38c7f        DRUG_TYPE_0        44\n",
              "158  a0db1e73-1c7c-11ec-ae39-16262ee38c7f        TEST_TYPE_0        45\n",
              "159  a0db1e73-1c7c-11ec-ae39-16262ee38c7f        DRUG_TYPE_0        45\n",
              "160  a0db1e73-1c7c-11ec-ae39-16262ee38c7f  PRIMARY_DIAGNOSIS        45\n",
              "161  a0db1e73-1c7c-11ec-ae39-16262ee38c7f        DRUG_TYPE_6        45\n",
              "\n",
              "[162 rows x 3 columns]"
            ]
          },
          "execution_count": 154,
          "metadata": {},
          "output_type": "execute_result"
        }
      ],
      "source": [
        "df_lastclass0"
      ],
      "id": "5ea604ee-42c2-4119-85d5-499b80928478"
    },
    {
      "cell_type": "code",
      "execution_count": null,
      "metadata": {
        "id": "f28820ad-ac25-4382-91a5-b4cf0be6805d"
      },
      "outputs": [],
      "source": [
        "now=new[:1:].index[0]\n",
        "back=new[:1:].index[0]- timedelta(days=30)"
      ],
      "id": "f28820ad-ac25-4382-91a5-b4cf0be6805d"
    },
    {
      "cell_type": "code",
      "execution_count": null,
      "metadata": {
        "id": "fa2ece24-802a-485d-bc8a-cf285a8b6d8a"
      },
      "outputs": [],
      "source": [
        "new=df[df[\"Patient-Uid\"]==class0[0]].sort_values(\"lastdrug\")"
      ],
      "id": "fa2ece24-802a-485d-bc8a-cf285a8b6d8a"
    },
    {
      "cell_type": "code",
      "execution_count": null,
      "metadata": {
        "id": "58271cbb-4f54-4d0c-9c11-aa8c5b485b1f",
        "outputId": "d7dfadae-1491-4968-a925-e95b6f2f89fa"
      },
      "outputs": [
        {
          "data": {
            "text/plain": [
              "Timestamp('2020-08-09 00:00:00')"
            ]
          },
          "execution_count": 142,
          "metadata": {},
          "output_type": "execute_result"
        }
      ],
      "source": [
        "new[:1:].index[0]"
      ],
      "id": "58271cbb-4f54-4d0c-9c11-aa8c5b485b1f"
    },
    {
      "cell_type": "code",
      "execution_count": null,
      "metadata": {
        "id": "fe422f5c-ca0c-43fd-8a75-953d6c152260"
      },
      "outputs": [],
      "source": [
        "new=new.loc[now:back]"
      ],
      "id": "fe422f5c-ca0c-43fd-8a75-953d6c152260"
    },
    {
      "cell_type": "code",
      "execution_count": null,
      "metadata": {
        "id": "c9846ace-d3bb-46c7-ab00-507ace393cd4",
        "outputId": "9503ae8d-7ee7-4aea-e58e-f0caa8fafb4f"
      },
      "outputs": [
        {
          "data": {
            "text/plain": [
              "Timestamp('2020-08-09 00:00:00')"
            ]
          },
          "execution_count": 149,
          "metadata": {},
          "output_type": "execute_result"
        }
      ],
      "source": [
        "now"
      ],
      "id": "c9846ace-d3bb-46c7-ab00-507ace393cd4"
    },
    {
      "cell_type": "code",
      "execution_count": null,
      "metadata": {
        "id": "d0950124-08b7-4c8d-ab71-571d63734ced",
        "outputId": "377b0d0a-3149-421f-c238-eeddf3e7792a"
      },
      "outputs": [
        {
          "data": {
            "text/plain": [
              "Timestamp('2020-07-10 00:00:00')"
            ]
          },
          "execution_count": 150,
          "metadata": {},
          "output_type": "execute_result"
        }
      ],
      "source": [
        "back"
      ],
      "id": "d0950124-08b7-4c8d-ab71-571d63734ced"
    },
    {
      "cell_type": "code",
      "execution_count": null,
      "metadata": {
        "id": "8e230023-09b4-4fc4-96df-24a52fde4bf0",
        "outputId": "65b8c191-a99f-4bb2-9ce4-d2a02c92e970"
      },
      "outputs": [
        {
          "data": {
            "text/html": [
              "<div>\n",
              "<style scoped>\n",
              "    .dataframe tbody tr th:only-of-type {\n",
              "        vertical-align: middle;\n",
              "    }\n",
              "\n",
              "    .dataframe tbody tr th {\n",
              "        vertical-align: top;\n",
              "    }\n",
              "\n",
              "    .dataframe thead th {\n",
              "        text-align: right;\n",
              "    }\n",
              "</style>\n",
              "<table border=\"1\" class=\"dataframe\">\n",
              "  <thead>\n",
              "    <tr style=\"text-align: right;\">\n",
              "      <th></th>\n",
              "      <th>Patient-Uid</th>\n",
              "      <th>Incident</th>\n",
              "      <th>lastdrug</th>\n",
              "    </tr>\n",
              "    <tr>\n",
              "      <th>Date</th>\n",
              "      <th></th>\n",
              "      <th></th>\n",
              "      <th></th>\n",
              "    </tr>\n",
              "  </thead>\n",
              "  <tbody>\n",
              "    <tr>\n",
              "      <th>2020-08-09</th>\n",
              "      <td>a0db1e73-1c7c-11ec-ae39-16262ee38c7f</td>\n",
              "      <td>DRUG_TYPE_2</td>\n",
              "      <td>25</td>\n",
              "    </tr>\n",
              "    <tr>\n",
              "      <th>2020-08-07</th>\n",
              "      <td>a0db1e73-1c7c-11ec-ae39-16262ee38c7f</td>\n",
              "      <td>DRUG_TYPE_2</td>\n",
              "      <td>27</td>\n",
              "    </tr>\n",
              "    <tr>\n",
              "      <th>2020-08-05</th>\n",
              "      <td>a0db1e73-1c7c-11ec-ae39-16262ee38c7f</td>\n",
              "      <td>DRUG_TYPE_2</td>\n",
              "      <td>29</td>\n",
              "    </tr>\n",
              "    <tr>\n",
              "      <th>2020-08-05</th>\n",
              "      <td>a0db1e73-1c7c-11ec-ae39-16262ee38c7f</td>\n",
              "      <td>DRUG_TYPE_7</td>\n",
              "      <td>29</td>\n",
              "    </tr>\n",
              "    <tr>\n",
              "      <th>2020-08-04</th>\n",
              "      <td>a0db1e73-1c7c-11ec-ae39-16262ee38c7f</td>\n",
              "      <td>DRUG_TYPE_2</td>\n",
              "      <td>30</td>\n",
              "    </tr>\n",
              "    <tr>\n",
              "      <th>2020-08-04</th>\n",
              "      <td>a0db1e73-1c7c-11ec-ae39-16262ee38c7f</td>\n",
              "      <td>PRIMARY_DIAGNOSIS</td>\n",
              "      <td>30</td>\n",
              "    </tr>\n",
              "    <tr>\n",
              "      <th>2020-08-04</th>\n",
              "      <td>a0db1e73-1c7c-11ec-ae39-16262ee38c7f</td>\n",
              "      <td>DRUG_TYPE_7</td>\n",
              "      <td>30</td>\n",
              "    </tr>\n",
              "    <tr>\n",
              "      <th>2020-08-04</th>\n",
              "      <td>a0db1e73-1c7c-11ec-ae39-16262ee38c7f</td>\n",
              "      <td>TEST_TYPE_1</td>\n",
              "      <td>30</td>\n",
              "    </tr>\n",
              "    <tr>\n",
              "      <th>2020-08-03</th>\n",
              "      <td>a0db1e73-1c7c-11ec-ae39-16262ee38c7f</td>\n",
              "      <td>SYMPTOM_TYPE_0</td>\n",
              "      <td>31</td>\n",
              "    </tr>\n",
              "    <tr>\n",
              "      <th>2020-08-03</th>\n",
              "      <td>a0db1e73-1c7c-11ec-ae39-16262ee38c7f</td>\n",
              "      <td>PRIMARY_DIAGNOSIS</td>\n",
              "      <td>31</td>\n",
              "    </tr>\n",
              "    <tr>\n",
              "      <th>2020-08-03</th>\n",
              "      <td>a0db1e73-1c7c-11ec-ae39-16262ee38c7f</td>\n",
              "      <td>PRIMARY_DIAGNOSIS</td>\n",
              "      <td>31</td>\n",
              "    </tr>\n",
              "    <tr>\n",
              "      <th>2020-08-03</th>\n",
              "      <td>a0db1e73-1c7c-11ec-ae39-16262ee38c7f</td>\n",
              "      <td>TEST_TYPE_0</td>\n",
              "      <td>31</td>\n",
              "    </tr>\n",
              "    <tr>\n",
              "      <th>2020-08-02</th>\n",
              "      <td>a0db1e73-1c7c-11ec-ae39-16262ee38c7f</td>\n",
              "      <td>DRUG_TYPE_0</td>\n",
              "      <td>32</td>\n",
              "    </tr>\n",
              "    <tr>\n",
              "      <th>2020-07-21</th>\n",
              "      <td>a0db1e73-1c7c-11ec-ae39-16262ee38c7f</td>\n",
              "      <td>DRUG_TYPE_0</td>\n",
              "      <td>44</td>\n",
              "    </tr>\n",
              "    <tr>\n",
              "      <th>2020-07-20</th>\n",
              "      <td>a0db1e73-1c7c-11ec-ae39-16262ee38c7f</td>\n",
              "      <td>TEST_TYPE_0</td>\n",
              "      <td>45</td>\n",
              "    </tr>\n",
              "    <tr>\n",
              "      <th>2020-07-20</th>\n",
              "      <td>a0db1e73-1c7c-11ec-ae39-16262ee38c7f</td>\n",
              "      <td>DRUG_TYPE_0</td>\n",
              "      <td>45</td>\n",
              "    </tr>\n",
              "    <tr>\n",
              "      <th>2020-07-20</th>\n",
              "      <td>a0db1e73-1c7c-11ec-ae39-16262ee38c7f</td>\n",
              "      <td>PRIMARY_DIAGNOSIS</td>\n",
              "      <td>45</td>\n",
              "    </tr>\n",
              "    <tr>\n",
              "      <th>2020-07-20</th>\n",
              "      <td>a0db1e73-1c7c-11ec-ae39-16262ee38c7f</td>\n",
              "      <td>DRUG_TYPE_6</td>\n",
              "      <td>45</td>\n",
              "    </tr>\n",
              "  </tbody>\n",
              "</table>\n",
              "</div>"
            ],
            "text/plain": [
              "                                     Patient-Uid           Incident  lastdrug\n",
              "Date                                                                         \n",
              "2020-08-09  a0db1e73-1c7c-11ec-ae39-16262ee38c7f        DRUG_TYPE_2        25\n",
              "2020-08-07  a0db1e73-1c7c-11ec-ae39-16262ee38c7f        DRUG_TYPE_2        27\n",
              "2020-08-05  a0db1e73-1c7c-11ec-ae39-16262ee38c7f        DRUG_TYPE_2        29\n",
              "2020-08-05  a0db1e73-1c7c-11ec-ae39-16262ee38c7f        DRUG_TYPE_7        29\n",
              "2020-08-04  a0db1e73-1c7c-11ec-ae39-16262ee38c7f        DRUG_TYPE_2        30\n",
              "2020-08-04  a0db1e73-1c7c-11ec-ae39-16262ee38c7f  PRIMARY_DIAGNOSIS        30\n",
              "2020-08-04  a0db1e73-1c7c-11ec-ae39-16262ee38c7f        DRUG_TYPE_7        30\n",
              "2020-08-04  a0db1e73-1c7c-11ec-ae39-16262ee38c7f        TEST_TYPE_1        30\n",
              "2020-08-03  a0db1e73-1c7c-11ec-ae39-16262ee38c7f     SYMPTOM_TYPE_0        31\n",
              "2020-08-03  a0db1e73-1c7c-11ec-ae39-16262ee38c7f  PRIMARY_DIAGNOSIS        31\n",
              "2020-08-03  a0db1e73-1c7c-11ec-ae39-16262ee38c7f  PRIMARY_DIAGNOSIS        31\n",
              "2020-08-03  a0db1e73-1c7c-11ec-ae39-16262ee38c7f        TEST_TYPE_0        31\n",
              "2020-08-02  a0db1e73-1c7c-11ec-ae39-16262ee38c7f        DRUG_TYPE_0        32\n",
              "2020-07-21  a0db1e73-1c7c-11ec-ae39-16262ee38c7f        DRUG_TYPE_0        44\n",
              "2020-07-20  a0db1e73-1c7c-11ec-ae39-16262ee38c7f        TEST_TYPE_0        45\n",
              "2020-07-20  a0db1e73-1c7c-11ec-ae39-16262ee38c7f        DRUG_TYPE_0        45\n",
              "2020-07-20  a0db1e73-1c7c-11ec-ae39-16262ee38c7f  PRIMARY_DIAGNOSIS        45\n",
              "2020-07-20  a0db1e73-1c7c-11ec-ae39-16262ee38c7f        DRUG_TYPE_6        45"
            ]
          },
          "execution_count": 148,
          "metadata": {},
          "output_type": "execute_result"
        }
      ],
      "source": [
        "new"
      ],
      "id": "8e230023-09b4-4fc4-96df-24a52fde4bf0"
    },
    {
      "cell_type": "code",
      "execution_count": null,
      "metadata": {
        "id": "2c497d05-b1e5-42c2-a533-86f3290e270b",
        "outputId": "485d8bb7-6662-46ef-b6c9-0339d33fc5d4"
      },
      "outputs": [
        {
          "data": {
            "text/html": [
              "<div>\n",
              "<style scoped>\n",
              "    .dataframe tbody tr th:only-of-type {\n",
              "        vertical-align: middle;\n",
              "    }\n",
              "\n",
              "    .dataframe tbody tr th {\n",
              "        vertical-align: top;\n",
              "    }\n",
              "\n",
              "    .dataframe thead th {\n",
              "        text-align: right;\n",
              "    }\n",
              "</style>\n",
              "<table border=\"1\" class=\"dataframe\">\n",
              "  <thead>\n",
              "    <tr style=\"text-align: right;\">\n",
              "      <th></th>\n",
              "      <th>Patient-Uid</th>\n",
              "      <th>Incident</th>\n",
              "      <th>lastdrug</th>\n",
              "    </tr>\n",
              "    <tr>\n",
              "      <th>Date</th>\n",
              "      <th></th>\n",
              "      <th></th>\n",
              "      <th></th>\n",
              "    </tr>\n",
              "  </thead>\n",
              "  <tbody>\n",
              "    <tr>\n",
              "      <th>2020-08-09</th>\n",
              "      <td>a0db1e73-1c7c-11ec-ae39-16262ee38c7f</td>\n",
              "      <td>DRUG_TYPE_2</td>\n",
              "      <td>25</td>\n",
              "    </tr>\n",
              "    <tr>\n",
              "      <th>2020-08-07</th>\n",
              "      <td>a0db1e73-1c7c-11ec-ae39-16262ee38c7f</td>\n",
              "      <td>DRUG_TYPE_2</td>\n",
              "      <td>27</td>\n",
              "    </tr>\n",
              "    <tr>\n",
              "      <th>2020-08-05</th>\n",
              "      <td>a0db1e73-1c7c-11ec-ae39-16262ee38c7f</td>\n",
              "      <td>DRUG_TYPE_2</td>\n",
              "      <td>29</td>\n",
              "    </tr>\n",
              "    <tr>\n",
              "      <th>2020-08-05</th>\n",
              "      <td>a0db1e73-1c7c-11ec-ae39-16262ee38c7f</td>\n",
              "      <td>DRUG_TYPE_7</td>\n",
              "      <td>29</td>\n",
              "    </tr>\n",
              "    <tr>\n",
              "      <th>2020-08-04</th>\n",
              "      <td>a0db1e73-1c7c-11ec-ae39-16262ee38c7f</td>\n",
              "      <td>DRUG_TYPE_2</td>\n",
              "      <td>30</td>\n",
              "    </tr>\n",
              "    <tr>\n",
              "      <th>...</th>\n",
              "      <td>...</td>\n",
              "      <td>...</td>\n",
              "      <td>...</td>\n",
              "    </tr>\n",
              "    <tr>\n",
              "      <th>2018-11-23</th>\n",
              "      <td>a0db1e73-1c7c-11ec-ae39-16262ee38c7f</td>\n",
              "      <td>TEST_TYPE_0</td>\n",
              "      <td>650</td>\n",
              "    </tr>\n",
              "    <tr>\n",
              "      <th>2018-11-23</th>\n",
              "      <td>a0db1e73-1c7c-11ec-ae39-16262ee38c7f</td>\n",
              "      <td>DRUG_TYPE_0</td>\n",
              "      <td>650</td>\n",
              "    </tr>\n",
              "    <tr>\n",
              "      <th>2018-05-02</th>\n",
              "      <td>a0db1e73-1c7c-11ec-ae39-16262ee38c7f</td>\n",
              "      <td>DRUG_TYPE_7</td>\n",
              "      <td>855</td>\n",
              "    </tr>\n",
              "    <tr>\n",
              "      <th>2018-04-13</th>\n",
              "      <td>a0db1e73-1c7c-11ec-ae39-16262ee38c7f</td>\n",
              "      <td>SYMPTOM_TYPE_2</td>\n",
              "      <td>874</td>\n",
              "    </tr>\n",
              "    <tr>\n",
              "      <th>2015-09-22</th>\n",
              "      <td>a0db1e73-1c7c-11ec-ae39-16262ee38c7f</td>\n",
              "      <td>DRUG_TYPE_7</td>\n",
              "      <td>1808</td>\n",
              "    </tr>\n",
              "  </tbody>\n",
              "</table>\n",
              "<p>96 rows × 3 columns</p>\n",
              "</div>"
            ],
            "text/plain": [
              "                                     Patient-Uid        Incident  lastdrug\n",
              "Date                                                                      \n",
              "2020-08-09  a0db1e73-1c7c-11ec-ae39-16262ee38c7f     DRUG_TYPE_2        25\n",
              "2020-08-07  a0db1e73-1c7c-11ec-ae39-16262ee38c7f     DRUG_TYPE_2        27\n",
              "2020-08-05  a0db1e73-1c7c-11ec-ae39-16262ee38c7f     DRUG_TYPE_2        29\n",
              "2020-08-05  a0db1e73-1c7c-11ec-ae39-16262ee38c7f     DRUG_TYPE_7        29\n",
              "2020-08-04  a0db1e73-1c7c-11ec-ae39-16262ee38c7f     DRUG_TYPE_2        30\n",
              "...                                          ...             ...       ...\n",
              "2018-11-23  a0db1e73-1c7c-11ec-ae39-16262ee38c7f     TEST_TYPE_0       650\n",
              "2018-11-23  a0db1e73-1c7c-11ec-ae39-16262ee38c7f     DRUG_TYPE_0       650\n",
              "2018-05-02  a0db1e73-1c7c-11ec-ae39-16262ee38c7f     DRUG_TYPE_7       855\n",
              "2018-04-13  a0db1e73-1c7c-11ec-ae39-16262ee38c7f  SYMPTOM_TYPE_2       874\n",
              "2015-09-22  a0db1e73-1c7c-11ec-ae39-16262ee38c7f     DRUG_TYPE_7      1808\n",
              "\n",
              "[96 rows x 3 columns]"
            ]
          },
          "execution_count": 140,
          "metadata": {},
          "output_type": "execute_result"
        }
      ],
      "source": [
        "new"
      ],
      "id": "2c497d05-b1e5-42c2-a533-86f3290e270b"
    },
    {
      "cell_type": "code",
      "execution_count": null,
      "metadata": {
        "id": "15087afb-b6d4-47a6-9254-9efa2c48e5ba"
      },
      "outputs": [],
      "source": [
        "prev_days = new[:1:].index[0]- timedelta(days=30)"
      ],
      "id": "15087afb-b6d4-47a6-9254-9efa2c48e5ba"
    },
    {
      "cell_type": "code",
      "execution_count": null,
      "metadata": {
        "id": "429b2e89-b47f-4d47-abc3-ba4230596505",
        "outputId": "f8ce8473-54a4-448e-bf09-0dae8301e84f"
      },
      "outputs": [
        {
          "data": {
            "text/plain": [
              "Timestamp('2020-08-09 00:00:00')"
            ]
          },
          "execution_count": 145,
          "metadata": {},
          "output_type": "execute_result"
        }
      ],
      "source": [
        "new[:1:].index[0]"
      ],
      "id": "429b2e89-b47f-4d47-abc3-ba4230596505"
    },
    {
      "cell_type": "code",
      "execution_count": null,
      "metadata": {
        "id": "41cd88f0-7fb6-4107-a0f9-c876f7d431e9",
        "outputId": "471fd967-71ad-406e-b922-469a03e8581a"
      },
      "outputs": [
        {
          "data": {
            "text/plain": [
              "Timestamp('2020-07-10 00:00:00')"
            ]
          },
          "execution_count": 144,
          "metadata": {},
          "output_type": "execute_result"
        }
      ],
      "source": [
        "prev_days"
      ],
      "id": "41cd88f0-7fb6-4107-a0f9-c876f7d431e9"
    },
    {
      "cell_type": "code",
      "execution_count": null,
      "metadata": {
        "id": "159cc552-8277-458e-9816-ac89c586b42b",
        "outputId": "f597da11-b4ae-4fa3-ced0-16a2a05aa53c"
      },
      "outputs": [
        {
          "data": {
            "text/html": [
              "<div>\n",
              "<style scoped>\n",
              "    .dataframe tbody tr th:only-of-type {\n",
              "        vertical-align: middle;\n",
              "    }\n",
              "\n",
              "    .dataframe tbody tr th {\n",
              "        vertical-align: top;\n",
              "    }\n",
              "\n",
              "    .dataframe thead th {\n",
              "        text-align: right;\n",
              "    }\n",
              "</style>\n",
              "<table border=\"1\" class=\"dataframe\">\n",
              "  <thead>\n",
              "    <tr style=\"text-align: right;\">\n",
              "      <th></th>\n",
              "      <th>Date</th>\n",
              "      <th>Patient-Uid</th>\n",
              "      <th>Incident</th>\n",
              "      <th>lastdrug</th>\n",
              "    </tr>\n",
              "  </thead>\n",
              "  <tbody>\n",
              "    <tr>\n",
              "      <th>0</th>\n",
              "      <td>2020-08-09</td>\n",
              "      <td>a0db1e73-1c7c-11ec-ae39-16262ee38c7f</td>\n",
              "      <td>DRUG_TYPE_2</td>\n",
              "      <td>25</td>\n",
              "    </tr>\n",
              "    <tr>\n",
              "      <th>1</th>\n",
              "      <td>2020-08-07</td>\n",
              "      <td>a0db1e73-1c7c-11ec-ae39-16262ee38c7f</td>\n",
              "      <td>DRUG_TYPE_2</td>\n",
              "      <td>27</td>\n",
              "    </tr>\n",
              "    <tr>\n",
              "      <th>2</th>\n",
              "      <td>2020-08-05</td>\n",
              "      <td>a0db1e73-1c7c-11ec-ae39-16262ee38c7f</td>\n",
              "      <td>DRUG_TYPE_2</td>\n",
              "      <td>29</td>\n",
              "    </tr>\n",
              "    <tr>\n",
              "      <th>3</th>\n",
              "      <td>2020-08-05</td>\n",
              "      <td>a0db1e73-1c7c-11ec-ae39-16262ee38c7f</td>\n",
              "      <td>DRUG_TYPE_7</td>\n",
              "      <td>29</td>\n",
              "    </tr>\n",
              "    <tr>\n",
              "      <th>4</th>\n",
              "      <td>2020-08-04</td>\n",
              "      <td>a0db1e73-1c7c-11ec-ae39-16262ee38c7f</td>\n",
              "      <td>DRUG_TYPE_2</td>\n",
              "      <td>30</td>\n",
              "    </tr>\n",
              "    <tr>\n",
              "      <th>...</th>\n",
              "      <td>...</td>\n",
              "      <td>...</td>\n",
              "      <td>...</td>\n",
              "      <td>...</td>\n",
              "    </tr>\n",
              "    <tr>\n",
              "      <th>256</th>\n",
              "      <td>2020-04-16</td>\n",
              "      <td>a0db1e73-1c7c-11ec-ae39-16262ee38c7f</td>\n",
              "      <td>DRUG_TYPE_6</td>\n",
              "      <td>140</td>\n",
              "    </tr>\n",
              "    <tr>\n",
              "      <th>257</th>\n",
              "      <td>2020-04-16</td>\n",
              "      <td>a0db1e73-1c7c-11ec-ae39-16262ee38c7f</td>\n",
              "      <td>DRUG_TYPE_0</td>\n",
              "      <td>140</td>\n",
              "    </tr>\n",
              "    <tr>\n",
              "      <th>258</th>\n",
              "      <td>2020-03-19</td>\n",
              "      <td>a0db1e73-1c7c-11ec-ae39-16262ee38c7f</td>\n",
              "      <td>DRUG_TYPE_0</td>\n",
              "      <td>168</td>\n",
              "    </tr>\n",
              "    <tr>\n",
              "      <th>259</th>\n",
              "      <td>2020-03-09</td>\n",
              "      <td>a0db1e73-1c7c-11ec-ae39-16262ee38c7f</td>\n",
              "      <td>PRIMARY_DIAGNOSIS</td>\n",
              "      <td>178</td>\n",
              "    </tr>\n",
              "    <tr>\n",
              "      <th>260</th>\n",
              "      <td>2020-03-09</td>\n",
              "      <td>a0db1e73-1c7c-11ec-ae39-16262ee38c7f</td>\n",
              "      <td>DRUG_TYPE_2</td>\n",
              "      <td>178</td>\n",
              "    </tr>\n",
              "  </tbody>\n",
              "</table>\n",
              "<p>261 rows × 4 columns</p>\n",
              "</div>"
            ],
            "text/plain": [
              "          Date                           Patient-Uid           Incident  \\\n",
              "0   2020-08-09  a0db1e73-1c7c-11ec-ae39-16262ee38c7f        DRUG_TYPE_2   \n",
              "1   2020-08-07  a0db1e73-1c7c-11ec-ae39-16262ee38c7f        DRUG_TYPE_2   \n",
              "2   2020-08-05  a0db1e73-1c7c-11ec-ae39-16262ee38c7f        DRUG_TYPE_2   \n",
              "3   2020-08-05  a0db1e73-1c7c-11ec-ae39-16262ee38c7f        DRUG_TYPE_7   \n",
              "4   2020-08-04  a0db1e73-1c7c-11ec-ae39-16262ee38c7f        DRUG_TYPE_2   \n",
              "..         ...                                   ...                ...   \n",
              "256 2020-04-16  a0db1e73-1c7c-11ec-ae39-16262ee38c7f        DRUG_TYPE_6   \n",
              "257 2020-04-16  a0db1e73-1c7c-11ec-ae39-16262ee38c7f        DRUG_TYPE_0   \n",
              "258 2020-03-19  a0db1e73-1c7c-11ec-ae39-16262ee38c7f        DRUG_TYPE_0   \n",
              "259 2020-03-09  a0db1e73-1c7c-11ec-ae39-16262ee38c7f  PRIMARY_DIAGNOSIS   \n",
              "260 2020-03-09  a0db1e73-1c7c-11ec-ae39-16262ee38c7f        DRUG_TYPE_2   \n",
              "\n",
              "     lastdrug  \n",
              "0          25  \n",
              "1          27  \n",
              "2          29  \n",
              "3          29  \n",
              "4          30  \n",
              "..        ...  \n",
              "256       140  \n",
              "257       140  \n",
              "258       168  \n",
              "259       178  \n",
              "260       178  \n",
              "\n",
              "[261 rows x 4 columns]"
            ]
          },
          "execution_count": 131,
          "metadata": {},
          "output_type": "execute_result"
        }
      ],
      "source": [
        "df_lastclass0"
      ],
      "id": "159cc552-8277-458e-9816-ac89c586b42b"
    },
    {
      "cell_type": "code",
      "execution_count": null,
      "metadata": {
        "id": "872c135e-fa41-42f3-9ea9-b83b688f3214",
        "outputId": "b70fabfd-f8b1-4e13-f6ec-f4d687d188df"
      },
      "outputs": [
        {
          "data": {
            "text/html": [
              "<div>\n",
              "<style scoped>\n",
              "    .dataframe tbody tr th:only-of-type {\n",
              "        vertical-align: middle;\n",
              "    }\n",
              "\n",
              "    .dataframe tbody tr th {\n",
              "        vertical-align: top;\n",
              "    }\n",
              "\n",
              "    .dataframe thead th {\n",
              "        text-align: right;\n",
              "    }\n",
              "</style>\n",
              "<table border=\"1\" class=\"dataframe\">\n",
              "  <thead>\n",
              "    <tr style=\"text-align: right;\">\n",
              "      <th></th>\n",
              "      <th>index</th>\n",
              "      <th>Patient-Uid</th>\n",
              "      <th>Date</th>\n",
              "      <th>Incident</th>\n",
              "      <th>lastdrug</th>\n",
              "    </tr>\n",
              "  </thead>\n",
              "  <tbody>\n",
              "    <tr>\n",
              "      <th>0</th>\n",
              "      <td>1750087</td>\n",
              "      <td>a0db1e73-1c7c-11ec-ae39-16262ee38c7f</td>\n",
              "      <td>2015-09-22</td>\n",
              "      <td>DRUG_TYPE_7</td>\n",
              "      <td>1808</td>\n",
              "    </tr>\n",
              "    <tr>\n",
              "      <th>1</th>\n",
              "      <td>1473893</td>\n",
              "      <td>a0db1e73-1c7c-11ec-ae39-16262ee38c7f</td>\n",
              "      <td>2018-04-13</td>\n",
              "      <td>SYMPTOM_TYPE_2</td>\n",
              "      <td>874</td>\n",
              "    </tr>\n",
              "    <tr>\n",
              "      <th>2</th>\n",
              "      <td>1387922</td>\n",
              "      <td>a0db1e73-1c7c-11ec-ae39-16262ee38c7f</td>\n",
              "      <td>2018-05-02</td>\n",
              "      <td>DRUG_TYPE_7</td>\n",
              "      <td>855</td>\n",
              "    </tr>\n",
              "    <tr>\n",
              "      <th>3</th>\n",
              "      <td>748933</td>\n",
              "      <td>a0db1e73-1c7c-11ec-ae39-16262ee38c7f</td>\n",
              "      <td>2018-11-23</td>\n",
              "      <td>DRUG_TYPE_0</td>\n",
              "      <td>650</td>\n",
              "    </tr>\n",
              "    <tr>\n",
              "      <th>4</th>\n",
              "      <td>1284014</td>\n",
              "      <td>a0db1e73-1c7c-11ec-ae39-16262ee38c7f</td>\n",
              "      <td>2018-11-23</td>\n",
              "      <td>DRUG_TYPE_11</td>\n",
              "      <td>650</td>\n",
              "    </tr>\n",
              "    <tr>\n",
              "      <th>...</th>\n",
              "      <td>...</td>\n",
              "      <td>...</td>\n",
              "      <td>...</td>\n",
              "      <td>...</td>\n",
              "      <td>...</td>\n",
              "    </tr>\n",
              "    <tr>\n",
              "      <th>91</th>\n",
              "      <td>26810</td>\n",
              "      <td>a0db1e73-1c7c-11ec-ae39-16262ee38c7f</td>\n",
              "      <td>2020-08-04</td>\n",
              "      <td>DRUG_TYPE_2</td>\n",
              "      <td>30</td>\n",
              "    </tr>\n",
              "    <tr>\n",
              "      <th>92</th>\n",
              "      <td>948750</td>\n",
              "      <td>a0db1e73-1c7c-11ec-ae39-16262ee38c7f</td>\n",
              "      <td>2020-08-05</td>\n",
              "      <td>DRUG_TYPE_7</td>\n",
              "      <td>29</td>\n",
              "    </tr>\n",
              "    <tr>\n",
              "      <th>93</th>\n",
              "      <td>2712526</td>\n",
              "      <td>a0db1e73-1c7c-11ec-ae39-16262ee38c7f</td>\n",
              "      <td>2020-08-05</td>\n",
              "      <td>DRUG_TYPE_2</td>\n",
              "      <td>29</td>\n",
              "    </tr>\n",
              "    <tr>\n",
              "      <th>94</th>\n",
              "      <td>1917285</td>\n",
              "      <td>a0db1e73-1c7c-11ec-ae39-16262ee38c7f</td>\n",
              "      <td>2020-08-07</td>\n",
              "      <td>DRUG_TYPE_2</td>\n",
              "      <td>27</td>\n",
              "    </tr>\n",
              "    <tr>\n",
              "      <th>95</th>\n",
              "      <td>3202906</td>\n",
              "      <td>a0db1e73-1c7c-11ec-ae39-16262ee38c7f</td>\n",
              "      <td>2020-08-09</td>\n",
              "      <td>DRUG_TYPE_2</td>\n",
              "      <td>25</td>\n",
              "    </tr>\n",
              "  </tbody>\n",
              "</table>\n",
              "<p>96 rows × 5 columns</p>\n",
              "</div>"
            ],
            "text/plain": [
              "      index                           Patient-Uid       Date        Incident  \\\n",
              "0   1750087  a0db1e73-1c7c-11ec-ae39-16262ee38c7f 2015-09-22     DRUG_TYPE_7   \n",
              "1   1473893  a0db1e73-1c7c-11ec-ae39-16262ee38c7f 2018-04-13  SYMPTOM_TYPE_2   \n",
              "2   1387922  a0db1e73-1c7c-11ec-ae39-16262ee38c7f 2018-05-02     DRUG_TYPE_7   \n",
              "3    748933  a0db1e73-1c7c-11ec-ae39-16262ee38c7f 2018-11-23     DRUG_TYPE_0   \n",
              "4   1284014  a0db1e73-1c7c-11ec-ae39-16262ee38c7f 2018-11-23    DRUG_TYPE_11   \n",
              "..      ...                                   ...        ...             ...   \n",
              "91    26810  a0db1e73-1c7c-11ec-ae39-16262ee38c7f 2020-08-04     DRUG_TYPE_2   \n",
              "92   948750  a0db1e73-1c7c-11ec-ae39-16262ee38c7f 2020-08-05     DRUG_TYPE_7   \n",
              "93  2712526  a0db1e73-1c7c-11ec-ae39-16262ee38c7f 2020-08-05     DRUG_TYPE_2   \n",
              "94  1917285  a0db1e73-1c7c-11ec-ae39-16262ee38c7f 2020-08-07     DRUG_TYPE_2   \n",
              "95  3202906  a0db1e73-1c7c-11ec-ae39-16262ee38c7f 2020-08-09     DRUG_TYPE_2   \n",
              "\n",
              "    lastdrug  \n",
              "0       1808  \n",
              "1        874  \n",
              "2        855  \n",
              "3        650  \n",
              "4        650  \n",
              "..       ...  \n",
              "91        30  \n",
              "92        29  \n",
              "93        29  \n",
              "94        27  \n",
              "95        25  \n",
              "\n",
              "[96 rows x 5 columns]"
            ]
          },
          "execution_count": 121,
          "metadata": {},
          "output_type": "execute_result"
        }
      ],
      "source": [
        "df[df[\"Patient-Uid\"]==class0[0]].sort_values(\"lastdrug\",ascending=False).reset_index()"
      ],
      "id": "872c135e-fa41-42f3-9ea9-b83b688f3214"
    },
    {
      "cell_type": "code",
      "execution_count": null,
      "metadata": {
        "id": "6c10813a-66e5-4bc9-9354-75ba2720e7a6",
        "outputId": "e7348e60-d979-491b-f068-4302806e953d"
      },
      "outputs": [
        {
          "data": {
            "text/html": [
              "<div>\n",
              "<style scoped>\n",
              "    .dataframe tbody tr th:only-of-type {\n",
              "        vertical-align: middle;\n",
              "    }\n",
              "\n",
              "    .dataframe tbody tr th {\n",
              "        vertical-align: top;\n",
              "    }\n",
              "\n",
              "    .dataframe thead th {\n",
              "        text-align: right;\n",
              "    }\n",
              "</style>\n",
              "<table border=\"1\" class=\"dataframe\">\n",
              "  <thead>\n",
              "    <tr style=\"text-align: right;\">\n",
              "      <th></th>\n",
              "      <th>index</th>\n",
              "      <th>Patient-Uid</th>\n",
              "      <th>Date</th>\n",
              "      <th>Incident</th>\n",
              "      <th>lastdrug</th>\n",
              "    </tr>\n",
              "  </thead>\n",
              "  <tbody>\n",
              "    <tr>\n",
              "      <th>95</th>\n",
              "      <td>3202906</td>\n",
              "      <td>a0db1e73-1c7c-11ec-ae39-16262ee38c7f</td>\n",
              "      <td>2020-08-09</td>\n",
              "      <td>DRUG_TYPE_2</td>\n",
              "      <td>25</td>\n",
              "    </tr>\n",
              "    <tr>\n",
              "      <th>94</th>\n",
              "      <td>1917285</td>\n",
              "      <td>a0db1e73-1c7c-11ec-ae39-16262ee38c7f</td>\n",
              "      <td>2020-08-07</td>\n",
              "      <td>DRUG_TYPE_2</td>\n",
              "      <td>27</td>\n",
              "    </tr>\n",
              "    <tr>\n",
              "      <th>93</th>\n",
              "      <td>2712526</td>\n",
              "      <td>a0db1e73-1c7c-11ec-ae39-16262ee38c7f</td>\n",
              "      <td>2020-08-05</td>\n",
              "      <td>DRUG_TYPE_2</td>\n",
              "      <td>29</td>\n",
              "    </tr>\n",
              "    <tr>\n",
              "      <th>92</th>\n",
              "      <td>948750</td>\n",
              "      <td>a0db1e73-1c7c-11ec-ae39-16262ee38c7f</td>\n",
              "      <td>2020-08-05</td>\n",
              "      <td>DRUG_TYPE_7</td>\n",
              "      <td>29</td>\n",
              "    </tr>\n",
              "    <tr>\n",
              "      <th>91</th>\n",
              "      <td>26810</td>\n",
              "      <td>a0db1e73-1c7c-11ec-ae39-16262ee38c7f</td>\n",
              "      <td>2020-08-04</td>\n",
              "      <td>DRUG_TYPE_2</td>\n",
              "      <td>30</td>\n",
              "    </tr>\n",
              "    <tr>\n",
              "      <th>90</th>\n",
              "      <td>653465</td>\n",
              "      <td>a0db1e73-1c7c-11ec-ae39-16262ee38c7f</td>\n",
              "      <td>2020-08-04</td>\n",
              "      <td>PRIMARY_DIAGNOSIS</td>\n",
              "      <td>30</td>\n",
              "    </tr>\n",
              "    <tr>\n",
              "      <th>89</th>\n",
              "      <td>595085</td>\n",
              "      <td>a0db1e73-1c7c-11ec-ae39-16262ee38c7f</td>\n",
              "      <td>2020-08-04</td>\n",
              "      <td>DRUG_TYPE_7</td>\n",
              "      <td>30</td>\n",
              "    </tr>\n",
              "    <tr>\n",
              "      <th>88</th>\n",
              "      <td>646431</td>\n",
              "      <td>a0db1e73-1c7c-11ec-ae39-16262ee38c7f</td>\n",
              "      <td>2020-08-04</td>\n",
              "      <td>TEST_TYPE_1</td>\n",
              "      <td>30</td>\n",
              "    </tr>\n",
              "    <tr>\n",
              "      <th>87</th>\n",
              "      <td>1915940</td>\n",
              "      <td>a0db1e73-1c7c-11ec-ae39-16262ee38c7f</td>\n",
              "      <td>2020-08-03</td>\n",
              "      <td>TEST_TYPE_0</td>\n",
              "      <td>31</td>\n",
              "    </tr>\n",
              "    <tr>\n",
              "      <th>86</th>\n",
              "      <td>3100536</td>\n",
              "      <td>a0db1e73-1c7c-11ec-ae39-16262ee38c7f</td>\n",
              "      <td>2020-08-03</td>\n",
              "      <td>SYMPTOM_TYPE_0</td>\n",
              "      <td>31</td>\n",
              "    </tr>\n",
              "    <tr>\n",
              "      <th>85</th>\n",
              "      <td>2362143</td>\n",
              "      <td>a0db1e73-1c7c-11ec-ae39-16262ee38c7f</td>\n",
              "      <td>2020-08-03</td>\n",
              "      <td>PRIMARY_DIAGNOSIS</td>\n",
              "      <td>31</td>\n",
              "    </tr>\n",
              "    <tr>\n",
              "      <th>84</th>\n",
              "      <td>1497523</td>\n",
              "      <td>a0db1e73-1c7c-11ec-ae39-16262ee38c7f</td>\n",
              "      <td>2020-08-03</td>\n",
              "      <td>PRIMARY_DIAGNOSIS</td>\n",
              "      <td>31</td>\n",
              "    </tr>\n",
              "    <tr>\n",
              "      <th>83</th>\n",
              "      <td>2136166</td>\n",
              "      <td>a0db1e73-1c7c-11ec-ae39-16262ee38c7f</td>\n",
              "      <td>2020-08-02</td>\n",
              "      <td>DRUG_TYPE_0</td>\n",
              "      <td>32</td>\n",
              "    </tr>\n",
              "    <tr>\n",
              "      <th>82</th>\n",
              "      <td>2963856</td>\n",
              "      <td>a0db1e73-1c7c-11ec-ae39-16262ee38c7f</td>\n",
              "      <td>2020-07-21</td>\n",
              "      <td>DRUG_TYPE_0</td>\n",
              "      <td>44</td>\n",
              "    </tr>\n",
              "    <tr>\n",
              "      <th>81</th>\n",
              "      <td>2520609</td>\n",
              "      <td>a0db1e73-1c7c-11ec-ae39-16262ee38c7f</td>\n",
              "      <td>2020-07-20</td>\n",
              "      <td>DRUG_TYPE_6</td>\n",
              "      <td>45</td>\n",
              "    </tr>\n",
              "    <tr>\n",
              "      <th>80</th>\n",
              "      <td>2910105</td>\n",
              "      <td>a0db1e73-1c7c-11ec-ae39-16262ee38c7f</td>\n",
              "      <td>2020-07-20</td>\n",
              "      <td>PRIMARY_DIAGNOSIS</td>\n",
              "      <td>45</td>\n",
              "    </tr>\n",
              "    <tr>\n",
              "      <th>79</th>\n",
              "      <td>2595933</td>\n",
              "      <td>a0db1e73-1c7c-11ec-ae39-16262ee38c7f</td>\n",
              "      <td>2020-07-20</td>\n",
              "      <td>DRUG_TYPE_0</td>\n",
              "      <td>45</td>\n",
              "    </tr>\n",
              "    <tr>\n",
              "      <th>78</th>\n",
              "      <td>2136201</td>\n",
              "      <td>a0db1e73-1c7c-11ec-ae39-16262ee38c7f</td>\n",
              "      <td>2020-07-20</td>\n",
              "      <td>TEST_TYPE_0</td>\n",
              "      <td>45</td>\n",
              "    </tr>\n",
              "    <tr>\n",
              "      <th>77</th>\n",
              "      <td>2545969</td>\n",
              "      <td>a0db1e73-1c7c-11ec-ae39-16262ee38c7f</td>\n",
              "      <td>2020-07-03</td>\n",
              "      <td>DRUG_TYPE_0</td>\n",
              "      <td>62</td>\n",
              "    </tr>\n",
              "    <tr>\n",
              "      <th>76</th>\n",
              "      <td>2861402</td>\n",
              "      <td>a0db1e73-1c7c-11ec-ae39-16262ee38c7f</td>\n",
              "      <td>2020-07-03</td>\n",
              "      <td>DRUG_TYPE_6</td>\n",
              "      <td>62</td>\n",
              "    </tr>\n",
              "    <tr>\n",
              "      <th>75</th>\n",
              "      <td>2055053</td>\n",
              "      <td>a0db1e73-1c7c-11ec-ae39-16262ee38c7f</td>\n",
              "      <td>2020-06-01</td>\n",
              "      <td>TEST_TYPE_0</td>\n",
              "      <td>94</td>\n",
              "    </tr>\n",
              "    <tr>\n",
              "      <th>74</th>\n",
              "      <td>2932545</td>\n",
              "      <td>a0db1e73-1c7c-11ec-ae39-16262ee38c7f</td>\n",
              "      <td>2020-06-01</td>\n",
              "      <td>PRIMARY_DIAGNOSIS</td>\n",
              "      <td>94</td>\n",
              "    </tr>\n",
              "    <tr>\n",
              "      <th>73</th>\n",
              "      <td>1644259</td>\n",
              "      <td>a0db1e73-1c7c-11ec-ae39-16262ee38c7f</td>\n",
              "      <td>2020-04-17</td>\n",
              "      <td>DRUG_TYPE_6</td>\n",
              "      <td>139</td>\n",
              "    </tr>\n",
              "    <tr>\n",
              "      <th>72</th>\n",
              "      <td>3010446</td>\n",
              "      <td>a0db1e73-1c7c-11ec-ae39-16262ee38c7f</td>\n",
              "      <td>2020-04-17</td>\n",
              "      <td>DRUG_TYPE_0</td>\n",
              "      <td>139</td>\n",
              "    </tr>\n",
              "    <tr>\n",
              "      <th>71</th>\n",
              "      <td>69930</td>\n",
              "      <td>a0db1e73-1c7c-11ec-ae39-16262ee38c7f</td>\n",
              "      <td>2020-04-16</td>\n",
              "      <td>DRUG_TYPE_6</td>\n",
              "      <td>140</td>\n",
              "    </tr>\n",
              "    <tr>\n",
              "      <th>70</th>\n",
              "      <td>2657324</td>\n",
              "      <td>a0db1e73-1c7c-11ec-ae39-16262ee38c7f</td>\n",
              "      <td>2020-04-16</td>\n",
              "      <td>DRUG_TYPE_0</td>\n",
              "      <td>140</td>\n",
              "    </tr>\n",
              "    <tr>\n",
              "      <th>69</th>\n",
              "      <td>2429867</td>\n",
              "      <td>a0db1e73-1c7c-11ec-ae39-16262ee38c7f</td>\n",
              "      <td>2020-03-19</td>\n",
              "      <td>DRUG_TYPE_0</td>\n",
              "      <td>168</td>\n",
              "    </tr>\n",
              "    <tr>\n",
              "      <th>68</th>\n",
              "      <td>2790427</td>\n",
              "      <td>a0db1e73-1c7c-11ec-ae39-16262ee38c7f</td>\n",
              "      <td>2020-03-09</td>\n",
              "      <td>PRIMARY_DIAGNOSIS</td>\n",
              "      <td>178</td>\n",
              "    </tr>\n",
              "    <tr>\n",
              "      <th>67</th>\n",
              "      <td>1607359</td>\n",
              "      <td>a0db1e73-1c7c-11ec-ae39-16262ee38c7f</td>\n",
              "      <td>2020-03-09</td>\n",
              "      <td>DRUG_TYPE_2</td>\n",
              "      <td>178</td>\n",
              "    </tr>\n",
              "  </tbody>\n",
              "</table>\n",
              "</div>"
            ],
            "text/plain": [
              "      index                           Patient-Uid       Date  \\\n",
              "95  3202906  a0db1e73-1c7c-11ec-ae39-16262ee38c7f 2020-08-09   \n",
              "94  1917285  a0db1e73-1c7c-11ec-ae39-16262ee38c7f 2020-08-07   \n",
              "93  2712526  a0db1e73-1c7c-11ec-ae39-16262ee38c7f 2020-08-05   \n",
              "92   948750  a0db1e73-1c7c-11ec-ae39-16262ee38c7f 2020-08-05   \n",
              "91    26810  a0db1e73-1c7c-11ec-ae39-16262ee38c7f 2020-08-04   \n",
              "90   653465  a0db1e73-1c7c-11ec-ae39-16262ee38c7f 2020-08-04   \n",
              "89   595085  a0db1e73-1c7c-11ec-ae39-16262ee38c7f 2020-08-04   \n",
              "88   646431  a0db1e73-1c7c-11ec-ae39-16262ee38c7f 2020-08-04   \n",
              "87  1915940  a0db1e73-1c7c-11ec-ae39-16262ee38c7f 2020-08-03   \n",
              "86  3100536  a0db1e73-1c7c-11ec-ae39-16262ee38c7f 2020-08-03   \n",
              "85  2362143  a0db1e73-1c7c-11ec-ae39-16262ee38c7f 2020-08-03   \n",
              "84  1497523  a0db1e73-1c7c-11ec-ae39-16262ee38c7f 2020-08-03   \n",
              "83  2136166  a0db1e73-1c7c-11ec-ae39-16262ee38c7f 2020-08-02   \n",
              "82  2963856  a0db1e73-1c7c-11ec-ae39-16262ee38c7f 2020-07-21   \n",
              "81  2520609  a0db1e73-1c7c-11ec-ae39-16262ee38c7f 2020-07-20   \n",
              "80  2910105  a0db1e73-1c7c-11ec-ae39-16262ee38c7f 2020-07-20   \n",
              "79  2595933  a0db1e73-1c7c-11ec-ae39-16262ee38c7f 2020-07-20   \n",
              "78  2136201  a0db1e73-1c7c-11ec-ae39-16262ee38c7f 2020-07-20   \n",
              "77  2545969  a0db1e73-1c7c-11ec-ae39-16262ee38c7f 2020-07-03   \n",
              "76  2861402  a0db1e73-1c7c-11ec-ae39-16262ee38c7f 2020-07-03   \n",
              "75  2055053  a0db1e73-1c7c-11ec-ae39-16262ee38c7f 2020-06-01   \n",
              "74  2932545  a0db1e73-1c7c-11ec-ae39-16262ee38c7f 2020-06-01   \n",
              "73  1644259  a0db1e73-1c7c-11ec-ae39-16262ee38c7f 2020-04-17   \n",
              "72  3010446  a0db1e73-1c7c-11ec-ae39-16262ee38c7f 2020-04-17   \n",
              "71    69930  a0db1e73-1c7c-11ec-ae39-16262ee38c7f 2020-04-16   \n",
              "70  2657324  a0db1e73-1c7c-11ec-ae39-16262ee38c7f 2020-04-16   \n",
              "69  2429867  a0db1e73-1c7c-11ec-ae39-16262ee38c7f 2020-03-19   \n",
              "68  2790427  a0db1e73-1c7c-11ec-ae39-16262ee38c7f 2020-03-09   \n",
              "67  1607359  a0db1e73-1c7c-11ec-ae39-16262ee38c7f 2020-03-09   \n",
              "\n",
              "             Incident  lastdrug  \n",
              "95        DRUG_TYPE_2        25  \n",
              "94        DRUG_TYPE_2        27  \n",
              "93        DRUG_TYPE_2        29  \n",
              "92        DRUG_TYPE_7        29  \n",
              "91        DRUG_TYPE_2        30  \n",
              "90  PRIMARY_DIAGNOSIS        30  \n",
              "89        DRUG_TYPE_7        30  \n",
              "88        TEST_TYPE_1        30  \n",
              "87        TEST_TYPE_0        31  \n",
              "86     SYMPTOM_TYPE_0        31  \n",
              "85  PRIMARY_DIAGNOSIS        31  \n",
              "84  PRIMARY_DIAGNOSIS        31  \n",
              "83        DRUG_TYPE_0        32  \n",
              "82        DRUG_TYPE_0        44  \n",
              "81        DRUG_TYPE_6        45  \n",
              "80  PRIMARY_DIAGNOSIS        45  \n",
              "79        DRUG_TYPE_0        45  \n",
              "78        TEST_TYPE_0        45  \n",
              "77        DRUG_TYPE_0        62  \n",
              "76        DRUG_TYPE_6        62  \n",
              "75        TEST_TYPE_0        94  \n",
              "74  PRIMARY_DIAGNOSIS        94  \n",
              "73        DRUG_TYPE_6       139  \n",
              "72        DRUG_TYPE_0       139  \n",
              "71        DRUG_TYPE_6       140  \n",
              "70        DRUG_TYPE_0       140  \n",
              "69        DRUG_TYPE_0       168  \n",
              "68  PRIMARY_DIAGNOSIS       178  \n",
              "67        DRUG_TYPE_2       178  "
            ]
          },
          "execution_count": 112,
          "metadata": {},
          "output_type": "execute_result"
        }
      ],
      "source": [
        "df[df[\"Patient-Uid\"]==class0[0]].sort_values(\"lastdrug\",ascending=False).reset_index()[:-30:-1]"
      ],
      "id": "6c10813a-66e5-4bc9-9354-75ba2720e7a6"
    },
    {
      "cell_type": "code",
      "execution_count": null,
      "metadata": {
        "id": "fd757c39"
      },
      "outputs": [],
      "source": [
        "df_last=pd.read_csv(\"data_lastsx.csv\")"
      ],
      "id": "fd757c39"
    },
    {
      "cell_type": "code",
      "execution_count": null,
      "metadata": {
        "id": "aa933597",
        "outputId": "975ba97d-afe4-4c72-fd0d-20008d73e779",
        "scrolled": true
      },
      "outputs": [
        {
          "data": {
            "text/html": [
              "<div>\n",
              "<style scoped>\n",
              "    .dataframe tbody tr th:only-of-type {\n",
              "        vertical-align: middle;\n",
              "    }\n",
              "\n",
              "    .dataframe tbody tr th {\n",
              "        vertical-align: top;\n",
              "    }\n",
              "\n",
              "    .dataframe thead th {\n",
              "        text-align: right;\n",
              "    }\n",
              "</style>\n",
              "<table border=\"1\" class=\"dataframe\">\n",
              "  <thead>\n",
              "    <tr style=\"text-align: right;\">\n",
              "      <th></th>\n",
              "      <th>Unnamed: 0</th>\n",
              "      <th>Date</th>\n",
              "      <th>Patient-Uid</th>\n",
              "      <th>Incident</th>\n",
              "      <th>lastdrug</th>\n",
              "    </tr>\n",
              "  </thead>\n",
              "  <tbody>\n",
              "    <tr>\n",
              "      <th>0</th>\n",
              "      <td>0</td>\n",
              "      <td>2019-04-16</td>\n",
              "      <td>a0efc1fa-1c7c-11ec-9e1c-16262ee38c7f</td>\n",
              "      <td>TARGET DRUG</td>\n",
              "      <td>506</td>\n",
              "    </tr>\n",
              "    <tr>\n",
              "      <th>1</th>\n",
              "      <td>1</td>\n",
              "      <td>2019-04-11</td>\n",
              "      <td>a0efc1fa-1c7c-11ec-9e1c-16262ee38c7f</td>\n",
              "      <td>DRUG_TYPE_14</td>\n",
              "      <td>511</td>\n",
              "    </tr>\n",
              "    <tr>\n",
              "      <th>2</th>\n",
              "      <td>2</td>\n",
              "      <td>2019-04-11</td>\n",
              "      <td>a0efc1fa-1c7c-11ec-9e1c-16262ee38c7f</td>\n",
              "      <td>PRIMARY_DIAGNOSIS</td>\n",
              "      <td>511</td>\n",
              "    </tr>\n",
              "    <tr>\n",
              "      <th>3</th>\n",
              "      <td>3</td>\n",
              "      <td>2019-03-23</td>\n",
              "      <td>a0efc1fa-1c7c-11ec-9e1c-16262ee38c7f</td>\n",
              "      <td>DRUG_TYPE_7</td>\n",
              "      <td>530</td>\n",
              "    </tr>\n",
              "    <tr>\n",
              "      <th>4</th>\n",
              "      <td>4</td>\n",
              "      <td>2019-03-16</td>\n",
              "      <td>a0efc1fa-1c7c-11ec-9e1c-16262ee38c7f</td>\n",
              "      <td>SYMPTOM_TYPE_0</td>\n",
              "      <td>537</td>\n",
              "    </tr>\n",
              "    <tr>\n",
              "      <th>...</th>\n",
              "      <td>...</td>\n",
              "      <td>...</td>\n",
              "      <td>...</td>\n",
              "      <td>...</td>\n",
              "      <td>...</td>\n",
              "    </tr>\n",
              "    <tr>\n",
              "      <th>77</th>\n",
              "      <td>77</td>\n",
              "      <td>2018-06-22</td>\n",
              "      <td>a0efc1fa-1c7c-11ec-9e1c-16262ee38c7f</td>\n",
              "      <td>DRUG_TYPE_2</td>\n",
              "      <td>804</td>\n",
              "    </tr>\n",
              "    <tr>\n",
              "      <th>78</th>\n",
              "      <td>78</td>\n",
              "      <td>2018-06-21</td>\n",
              "      <td>a0efc1fa-1c7c-11ec-9e1c-16262ee38c7f</td>\n",
              "      <td>DRUG_TYPE_6</td>\n",
              "      <td>805</td>\n",
              "    </tr>\n",
              "    <tr>\n",
              "      <th>79</th>\n",
              "      <td>79</td>\n",
              "      <td>2018-05-30</td>\n",
              "      <td>a0efc1fa-1c7c-11ec-9e1c-16262ee38c7f</td>\n",
              "      <td>PRIMARY_DIAGNOSIS</td>\n",
              "      <td>827</td>\n",
              "    </tr>\n",
              "    <tr>\n",
              "      <th>80</th>\n",
              "      <td>80</td>\n",
              "      <td>2018-05-05</td>\n",
              "      <td>a0efc1fa-1c7c-11ec-9e1c-16262ee38c7f</td>\n",
              "      <td>DRUG_TYPE_1</td>\n",
              "      <td>852</td>\n",
              "    </tr>\n",
              "    <tr>\n",
              "      <th>81</th>\n",
              "      <td>81</td>\n",
              "      <td>2018-05-02</td>\n",
              "      <td>a0efc1fa-1c7c-11ec-9e1c-16262ee38c7f</td>\n",
              "      <td>PRIMARY_DIAGNOSIS</td>\n",
              "      <td>855</td>\n",
              "    </tr>\n",
              "  </tbody>\n",
              "</table>\n",
              "<p>82 rows × 5 columns</p>\n",
              "</div>"
            ],
            "text/plain": [
              "    Unnamed: 0        Date                           Patient-Uid  \\\n",
              "0            0  2019-04-16  a0efc1fa-1c7c-11ec-9e1c-16262ee38c7f   \n",
              "1            1  2019-04-11  a0efc1fa-1c7c-11ec-9e1c-16262ee38c7f   \n",
              "2            2  2019-04-11  a0efc1fa-1c7c-11ec-9e1c-16262ee38c7f   \n",
              "3            3  2019-03-23  a0efc1fa-1c7c-11ec-9e1c-16262ee38c7f   \n",
              "4            4  2019-03-16  a0efc1fa-1c7c-11ec-9e1c-16262ee38c7f   \n",
              "..         ...         ...                                   ...   \n",
              "77          77  2018-06-22  a0efc1fa-1c7c-11ec-9e1c-16262ee38c7f   \n",
              "78          78  2018-06-21  a0efc1fa-1c7c-11ec-9e1c-16262ee38c7f   \n",
              "79          79  2018-05-30  a0efc1fa-1c7c-11ec-9e1c-16262ee38c7f   \n",
              "80          80  2018-05-05  a0efc1fa-1c7c-11ec-9e1c-16262ee38c7f   \n",
              "81          81  2018-05-02  a0efc1fa-1c7c-11ec-9e1c-16262ee38c7f   \n",
              "\n",
              "             Incident  lastdrug  \n",
              "0         TARGET DRUG       506  \n",
              "1        DRUG_TYPE_14       511  \n",
              "2   PRIMARY_DIAGNOSIS       511  \n",
              "3         DRUG_TYPE_7       530  \n",
              "4      SYMPTOM_TYPE_0       537  \n",
              "..                ...       ...  \n",
              "77        DRUG_TYPE_2       804  \n",
              "78        DRUG_TYPE_6       805  \n",
              "79  PRIMARY_DIAGNOSIS       827  \n",
              "80        DRUG_TYPE_1       852  \n",
              "81  PRIMARY_DIAGNOSIS       855  \n",
              "\n",
              "[82 rows x 5 columns]"
            ]
          },
          "execution_count": 183,
          "metadata": {},
          "output_type": "execute_result"
        }
      ],
      "source": [
        "df_last.head(82)"
      ],
      "id": "aa933597"
    },
    {
      "cell_type": "code",
      "execution_count": null,
      "metadata": {
        "id": "9185a809"
      },
      "outputs": [],
      "source": [
        "df_last=df_last.drop([\"Unnamed: 0\"],axis=1)"
      ],
      "id": "9185a809"
    },
    {
      "cell_type": "code",
      "execution_count": null,
      "metadata": {
        "id": "5c785cac"
      },
      "outputs": [],
      "source": [
        "df_last.index=pd.to_datetime(df_last[\"Date\"])"
      ],
      "id": "5c785cac"
    },
    {
      "cell_type": "code",
      "execution_count": null,
      "metadata": {
        "id": "949aa162"
      },
      "outputs": [],
      "source": [
        "df_last=df_last.drop([\"Date\"],axis=1)"
      ],
      "id": "949aa162"
    },
    {
      "cell_type": "code",
      "execution_count": null,
      "metadata": {
        "id": "480e60d9",
        "outputId": "dfa78ce0-9bf9-4bf3-cc28-6528aa7359fc"
      },
      "outputs": [
        {
          "data": {
            "text/html": [
              "<div>\n",
              "<style scoped>\n",
              "    .dataframe tbody tr th:only-of-type {\n",
              "        vertical-align: middle;\n",
              "    }\n",
              "\n",
              "    .dataframe tbody tr th {\n",
              "        vertical-align: top;\n",
              "    }\n",
              "\n",
              "    .dataframe thead th {\n",
              "        text-align: right;\n",
              "    }\n",
              "</style>\n",
              "<table border=\"1\" class=\"dataframe\">\n",
              "  <thead>\n",
              "    <tr style=\"text-align: right;\">\n",
              "      <th></th>\n",
              "      <th>Patient-Uid</th>\n",
              "      <th>Incident</th>\n",
              "      <th>lastdrug</th>\n",
              "    </tr>\n",
              "    <tr>\n",
              "      <th>Date</th>\n",
              "      <th></th>\n",
              "      <th></th>\n",
              "      <th></th>\n",
              "    </tr>\n",
              "  </thead>\n",
              "  <tbody>\n",
              "    <tr>\n",
              "      <th>2019-04-16</th>\n",
              "      <td>a0efc1fa-1c7c-11ec-9e1c-16262ee38c7f</td>\n",
              "      <td>TARGET DRUG</td>\n",
              "      <td>506</td>\n",
              "    </tr>\n",
              "    <tr>\n",
              "      <th>2019-04-11</th>\n",
              "      <td>a0efc1fa-1c7c-11ec-9e1c-16262ee38c7f</td>\n",
              "      <td>DRUG_TYPE_14</td>\n",
              "      <td>511</td>\n",
              "    </tr>\n",
              "    <tr>\n",
              "      <th>2019-04-11</th>\n",
              "      <td>a0efc1fa-1c7c-11ec-9e1c-16262ee38c7f</td>\n",
              "      <td>PRIMARY_DIAGNOSIS</td>\n",
              "      <td>511</td>\n",
              "    </tr>\n",
              "    <tr>\n",
              "      <th>2019-03-23</th>\n",
              "      <td>a0efc1fa-1c7c-11ec-9e1c-16262ee38c7f</td>\n",
              "      <td>DRUG_TYPE_7</td>\n",
              "      <td>530</td>\n",
              "    </tr>\n",
              "    <tr>\n",
              "      <th>2019-03-16</th>\n",
              "      <td>a0efc1fa-1c7c-11ec-9e1c-16262ee38c7f</td>\n",
              "      <td>SYMPTOM_TYPE_0</td>\n",
              "      <td>537</td>\n",
              "    </tr>\n",
              "    <tr>\n",
              "      <th>...</th>\n",
              "      <td>...</td>\n",
              "      <td>...</td>\n",
              "      <td>...</td>\n",
              "    </tr>\n",
              "    <tr>\n",
              "      <th>2015-08-01</th>\n",
              "      <td>a0eb742b-1c7c-11ec-8f61-16262ee38c7f</td>\n",
              "      <td>DRUG_TYPE_1</td>\n",
              "      <td>1860</td>\n",
              "    </tr>\n",
              "    <tr>\n",
              "      <th>2015-06-22</th>\n",
              "      <td>a0eb742b-1c7c-11ec-8f61-16262ee38c7f</td>\n",
              "      <td>DRUG_TYPE_1</td>\n",
              "      <td>1900</td>\n",
              "    </tr>\n",
              "    <tr>\n",
              "      <th>2015-06-06</th>\n",
              "      <td>a0eb742b-1c7c-11ec-8f61-16262ee38c7f</td>\n",
              "      <td>DRUG_TYPE_1</td>\n",
              "      <td>1916</td>\n",
              "    </tr>\n",
              "    <tr>\n",
              "      <th>2015-05-14</th>\n",
              "      <td>a0eb742b-1c7c-11ec-8f61-16262ee38c7f</td>\n",
              "      <td>DRUG_TYPE_1</td>\n",
              "      <td>1939</td>\n",
              "    </tr>\n",
              "    <tr>\n",
              "      <th>2015-04-18</th>\n",
              "      <td>a0eb742b-1c7c-11ec-8f61-16262ee38c7f</td>\n",
              "      <td>DRUG_TYPE_1</td>\n",
              "      <td>1965</td>\n",
              "    </tr>\n",
              "  </tbody>\n",
              "</table>\n",
              "<p>970887 rows × 3 columns</p>\n",
              "</div>"
            ],
            "text/plain": [
              "                                     Patient-Uid           Incident  lastdrug\n",
              "Date                                                                         \n",
              "2019-04-16  a0efc1fa-1c7c-11ec-9e1c-16262ee38c7f        TARGET DRUG       506\n",
              "2019-04-11  a0efc1fa-1c7c-11ec-9e1c-16262ee38c7f       DRUG_TYPE_14       511\n",
              "2019-04-11  a0efc1fa-1c7c-11ec-9e1c-16262ee38c7f  PRIMARY_DIAGNOSIS       511\n",
              "2019-03-23  a0efc1fa-1c7c-11ec-9e1c-16262ee38c7f        DRUG_TYPE_7       530\n",
              "2019-03-16  a0efc1fa-1c7c-11ec-9e1c-16262ee38c7f     SYMPTOM_TYPE_0       537\n",
              "...                                          ...                ...       ...\n",
              "2015-08-01  a0eb742b-1c7c-11ec-8f61-16262ee38c7f        DRUG_TYPE_1      1860\n",
              "2015-06-22  a0eb742b-1c7c-11ec-8f61-16262ee38c7f        DRUG_TYPE_1      1900\n",
              "2015-06-06  a0eb742b-1c7c-11ec-8f61-16262ee38c7f        DRUG_TYPE_1      1916\n",
              "2015-05-14  a0eb742b-1c7c-11ec-8f61-16262ee38c7f        DRUG_TYPE_1      1939\n",
              "2015-04-18  a0eb742b-1c7c-11ec-8f61-16262ee38c7f        DRUG_TYPE_1      1965\n",
              "\n",
              "[970887 rows x 3 columns]"
            ]
          },
          "execution_count": 187,
          "metadata": {},
          "output_type": "execute_result"
        }
      ],
      "source": [
        "df_last"
      ],
      "id": "480e60d9"
    },
    {
      "cell_type": "code",
      "execution_count": null,
      "metadata": {
        "id": "a0de7e10"
      },
      "outputs": [],
      "source": [
        "jk=df_last[df_last[\"Patient-Uid\"]==\"a0ecc615-1c7c-11ec-aa31-16262ee38c7f\"]"
      ],
      "id": "a0de7e10"
    },
    {
      "cell_type": "code",
      "execution_count": null,
      "metadata": {
        "id": "c333dfa9",
        "outputId": "73eab54d-ba77-45df-81f4-6826d9932646",
        "scrolled": true
      },
      "outputs": [
        {
          "data": {
            "text/html": [
              "<div>\n",
              "<style scoped>\n",
              "    .dataframe tbody tr th:only-of-type {\n",
              "        vertical-align: middle;\n",
              "    }\n",
              "\n",
              "    .dataframe tbody tr th {\n",
              "        vertical-align: top;\n",
              "    }\n",
              "\n",
              "    .dataframe thead th {\n",
              "        text-align: right;\n",
              "    }\n",
              "</style>\n",
              "<table border=\"1\" class=\"dataframe\">\n",
              "  <thead>\n",
              "    <tr style=\"text-align: right;\">\n",
              "      <th></th>\n",
              "      <th>Patient-Uid</th>\n",
              "      <th>Incident</th>\n",
              "      <th>lastdrug</th>\n",
              "    </tr>\n",
              "    <tr>\n",
              "      <th>Date</th>\n",
              "      <th></th>\n",
              "      <th></th>\n",
              "      <th></th>\n",
              "    </tr>\n",
              "  </thead>\n",
              "  <tbody>\n",
              "    <tr>\n",
              "      <th>2018-04-25</th>\n",
              "      <td>a0ecc615-1c7c-11ec-aa31-16262ee38c7f</td>\n",
              "      <td>TARGET DRUG</td>\n",
              "      <td>862</td>\n",
              "    </tr>\n",
              "    <tr>\n",
              "      <th>2018-04-25</th>\n",
              "      <td>a0ecc615-1c7c-11ec-aa31-16262ee38c7f</td>\n",
              "      <td>PRIMARY_DIAGNOSIS</td>\n",
              "      <td>862</td>\n",
              "    </tr>\n",
              "    <tr>\n",
              "      <th>2018-04-13</th>\n",
              "      <td>a0ecc615-1c7c-11ec-aa31-16262ee38c7f</td>\n",
              "      <td>DRUG_TYPE_7</td>\n",
              "      <td>874</td>\n",
              "    </tr>\n",
              "    <tr>\n",
              "      <th>2018-03-17</th>\n",
              "      <td>a0ecc615-1c7c-11ec-aa31-16262ee38c7f</td>\n",
              "      <td>PRIMARY_DIAGNOSIS</td>\n",
              "      <td>901</td>\n",
              "    </tr>\n",
              "    <tr>\n",
              "      <th>2018-02-08</th>\n",
              "      <td>a0ecc615-1c7c-11ec-aa31-16262ee38c7f</td>\n",
              "      <td>PRIMARY_DIAGNOSIS</td>\n",
              "      <td>938</td>\n",
              "    </tr>\n",
              "    <tr>\n",
              "      <th>2018-01-20</th>\n",
              "      <td>a0ecc615-1c7c-11ec-aa31-16262ee38c7f</td>\n",
              "      <td>DRUG_TYPE_7</td>\n",
              "      <td>957</td>\n",
              "    </tr>\n",
              "    <tr>\n",
              "      <th>2017-12-15</th>\n",
              "      <td>a0ecc615-1c7c-11ec-aa31-16262ee38c7f</td>\n",
              "      <td>DRUG_TYPE_6</td>\n",
              "      <td>993</td>\n",
              "    </tr>\n",
              "    <tr>\n",
              "      <th>2017-12-14</th>\n",
              "      <td>a0ecc615-1c7c-11ec-aa31-16262ee38c7f</td>\n",
              "      <td>PRIMARY_DIAGNOSIS</td>\n",
              "      <td>994</td>\n",
              "    </tr>\n",
              "    <tr>\n",
              "      <th>2017-10-14</th>\n",
              "      <td>a0ecc615-1c7c-11ec-aa31-16262ee38c7f</td>\n",
              "      <td>PRIMARY_DIAGNOSIS</td>\n",
              "      <td>1055</td>\n",
              "    </tr>\n",
              "    <tr>\n",
              "      <th>2017-10-11</th>\n",
              "      <td>a0ecc615-1c7c-11ec-aa31-16262ee38c7f</td>\n",
              "      <td>DRUG_TYPE_7</td>\n",
              "      <td>1058</td>\n",
              "    </tr>\n",
              "    <tr>\n",
              "      <th>2017-09-16</th>\n",
              "      <td>a0ecc615-1c7c-11ec-aa31-16262ee38c7f</td>\n",
              "      <td>DRUG_TYPE_11</td>\n",
              "      <td>1083</td>\n",
              "    </tr>\n",
              "    <tr>\n",
              "      <th>2017-09-16</th>\n",
              "      <td>a0ecc615-1c7c-11ec-aa31-16262ee38c7f</td>\n",
              "      <td>PRIMARY_DIAGNOSIS</td>\n",
              "      <td>1083</td>\n",
              "    </tr>\n",
              "    <tr>\n",
              "      <th>2017-08-17</th>\n",
              "      <td>a0ecc615-1c7c-11ec-aa31-16262ee38c7f</td>\n",
              "      <td>PRIMARY_DIAGNOSIS</td>\n",
              "      <td>1113</td>\n",
              "    </tr>\n",
              "    <tr>\n",
              "      <th>2017-07-15</th>\n",
              "      <td>a0ecc615-1c7c-11ec-aa31-16262ee38c7f</td>\n",
              "      <td>PRIMARY_DIAGNOSIS</td>\n",
              "      <td>1146</td>\n",
              "    </tr>\n",
              "    <tr>\n",
              "      <th>2017-06-17</th>\n",
              "      <td>a0ecc615-1c7c-11ec-aa31-16262ee38c7f</td>\n",
              "      <td>PRIMARY_DIAGNOSIS</td>\n",
              "      <td>1174</td>\n",
              "    </tr>\n",
              "    <tr>\n",
              "      <th>2017-06-08</th>\n",
              "      <td>a0ecc615-1c7c-11ec-aa31-16262ee38c7f</td>\n",
              "      <td>DRUG_TYPE_2</td>\n",
              "      <td>1183</td>\n",
              "    </tr>\n",
              "    <tr>\n",
              "      <th>2017-05-05</th>\n",
              "      <td>a0ecc615-1c7c-11ec-aa31-16262ee38c7f</td>\n",
              "      <td>PRIMARY_DIAGNOSIS</td>\n",
              "      <td>1217</td>\n",
              "    </tr>\n",
              "    <tr>\n",
              "      <th>2017-05-05</th>\n",
              "      <td>a0ecc615-1c7c-11ec-aa31-16262ee38c7f</td>\n",
              "      <td>DRUG_TYPE_2</td>\n",
              "      <td>1217</td>\n",
              "    </tr>\n",
              "    <tr>\n",
              "      <th>2017-03-06</th>\n",
              "      <td>a0ecc615-1c7c-11ec-aa31-16262ee38c7f</td>\n",
              "      <td>DRUG_TYPE_2</td>\n",
              "      <td>1277</td>\n",
              "    </tr>\n",
              "    <tr>\n",
              "      <th>2017-01-10</th>\n",
              "      <td>a0ecc615-1c7c-11ec-aa31-16262ee38c7f</td>\n",
              "      <td>DRUG_TYPE_1</td>\n",
              "      <td>1332</td>\n",
              "    </tr>\n",
              "    <tr>\n",
              "      <th>2017-01-09</th>\n",
              "      <td>a0ecc615-1c7c-11ec-aa31-16262ee38c7f</td>\n",
              "      <td>DRUG_TYPE_7</td>\n",
              "      <td>1333</td>\n",
              "    </tr>\n",
              "    <tr>\n",
              "      <th>2017-01-09</th>\n",
              "      <td>a0ecc615-1c7c-11ec-aa31-16262ee38c7f</td>\n",
              "      <td>DRUG_TYPE_2</td>\n",
              "      <td>1333</td>\n",
              "    </tr>\n",
              "    <tr>\n",
              "      <th>2017-01-06</th>\n",
              "      <td>a0ecc615-1c7c-11ec-aa31-16262ee38c7f</td>\n",
              "      <td>SYMPTOM_TYPE_7</td>\n",
              "      <td>1336</td>\n",
              "    </tr>\n",
              "    <tr>\n",
              "      <th>2017-01-03</th>\n",
              "      <td>a0ecc615-1c7c-11ec-aa31-16262ee38c7f</td>\n",
              "      <td>PRIMARY_DIAGNOSIS</td>\n",
              "      <td>1339</td>\n",
              "    </tr>\n",
              "    <tr>\n",
              "      <th>2016-12-16</th>\n",
              "      <td>a0ecc615-1c7c-11ec-aa31-16262ee38c7f</td>\n",
              "      <td>DRUG_TYPE_7</td>\n",
              "      <td>1357</td>\n",
              "    </tr>\n",
              "    <tr>\n",
              "      <th>2016-12-10</th>\n",
              "      <td>a0ecc615-1c7c-11ec-aa31-16262ee38c7f</td>\n",
              "      <td>DRUG_TYPE_6</td>\n",
              "      <td>1363</td>\n",
              "    </tr>\n",
              "    <tr>\n",
              "      <th>2016-12-05</th>\n",
              "      <td>a0ecc615-1c7c-11ec-aa31-16262ee38c7f</td>\n",
              "      <td>DRUG_TYPE_1</td>\n",
              "      <td>1368</td>\n",
              "    </tr>\n",
              "    <tr>\n",
              "      <th>2016-11-13</th>\n",
              "      <td>a0ecc615-1c7c-11ec-aa31-16262ee38c7f</td>\n",
              "      <td>DRUG_TYPE_7</td>\n",
              "      <td>1390</td>\n",
              "    </tr>\n",
              "    <tr>\n",
              "      <th>2016-11-05</th>\n",
              "      <td>a0ecc615-1c7c-11ec-aa31-16262ee38c7f</td>\n",
              "      <td>DRUG_TYPE_1</td>\n",
              "      <td>1398</td>\n",
              "    </tr>\n",
              "    <tr>\n",
              "      <th>2016-10-13</th>\n",
              "      <td>a0ecc615-1c7c-11ec-aa31-16262ee38c7f</td>\n",
              "      <td>SYMPTOM_TYPE_0</td>\n",
              "      <td>1421</td>\n",
              "    </tr>\n",
              "    <tr>\n",
              "      <th>2016-10-05</th>\n",
              "      <td>a0ecc615-1c7c-11ec-aa31-16262ee38c7f</td>\n",
              "      <td>SYMPTOM_TYPE_0</td>\n",
              "      <td>1429</td>\n",
              "    </tr>\n",
              "    <tr>\n",
              "      <th>2016-10-04</th>\n",
              "      <td>a0ecc615-1c7c-11ec-aa31-16262ee38c7f</td>\n",
              "      <td>DRUG_TYPE_3</td>\n",
              "      <td>1430</td>\n",
              "    </tr>\n",
              "    <tr>\n",
              "      <th>2016-09-17</th>\n",
              "      <td>a0ecc615-1c7c-11ec-aa31-16262ee38c7f</td>\n",
              "      <td>DRUG_TYPE_2</td>\n",
              "      <td>1447</td>\n",
              "    </tr>\n",
              "    <tr>\n",
              "      <th>2016-09-01</th>\n",
              "      <td>a0ecc615-1c7c-11ec-aa31-16262ee38c7f</td>\n",
              "      <td>PRIMARY_DIAGNOSIS</td>\n",
              "      <td>1463</td>\n",
              "    </tr>\n",
              "    <tr>\n",
              "      <th>2016-09-01</th>\n",
              "      <td>a0ecc615-1c7c-11ec-aa31-16262ee38c7f</td>\n",
              "      <td>DRUG_TYPE_6</td>\n",
              "      <td>1463</td>\n",
              "    </tr>\n",
              "    <tr>\n",
              "      <th>2016-05-26</th>\n",
              "      <td>a0ecc615-1c7c-11ec-aa31-16262ee38c7f</td>\n",
              "      <td>DRUG_TYPE_6</td>\n",
              "      <td>1561</td>\n",
              "    </tr>\n",
              "    <tr>\n",
              "      <th>2016-04-24</th>\n",
              "      <td>a0ecc615-1c7c-11ec-aa31-16262ee38c7f</td>\n",
              "      <td>TEST_TYPE_0</td>\n",
              "      <td>1593</td>\n",
              "    </tr>\n",
              "    <tr>\n",
              "      <th>2016-04-24</th>\n",
              "      <td>a0ecc615-1c7c-11ec-aa31-16262ee38c7f</td>\n",
              "      <td>DRUG_TYPE_2</td>\n",
              "      <td>1593</td>\n",
              "    </tr>\n",
              "    <tr>\n",
              "      <th>2016-04-24</th>\n",
              "      <td>a0ecc615-1c7c-11ec-aa31-16262ee38c7f</td>\n",
              "      <td>PRIMARY_DIAGNOSIS</td>\n",
              "      <td>1593</td>\n",
              "    </tr>\n",
              "    <tr>\n",
              "      <th>2016-04-23</th>\n",
              "      <td>a0ecc615-1c7c-11ec-aa31-16262ee38c7f</td>\n",
              "      <td>DRUG_TYPE_2</td>\n",
              "      <td>1594</td>\n",
              "    </tr>\n",
              "    <tr>\n",
              "      <th>2016-04-14</th>\n",
              "      <td>a0ecc615-1c7c-11ec-aa31-16262ee38c7f</td>\n",
              "      <td>DRUG_TYPE_3</td>\n",
              "      <td>1603</td>\n",
              "    </tr>\n",
              "    <tr>\n",
              "      <th>2016-03-30</th>\n",
              "      <td>a0ecc615-1c7c-11ec-aa31-16262ee38c7f</td>\n",
              "      <td>DRUG_TYPE_2</td>\n",
              "      <td>1618</td>\n",
              "    </tr>\n",
              "    <tr>\n",
              "      <th>2016-02-26</th>\n",
              "      <td>a0ecc615-1c7c-11ec-aa31-16262ee38c7f</td>\n",
              "      <td>DRUG_TYPE_2</td>\n",
              "      <td>1651</td>\n",
              "    </tr>\n",
              "    <tr>\n",
              "      <th>2016-02-26</th>\n",
              "      <td>a0ecc615-1c7c-11ec-aa31-16262ee38c7f</td>\n",
              "      <td>DRUG_TYPE_7</td>\n",
              "      <td>1651</td>\n",
              "    </tr>\n",
              "    <tr>\n",
              "      <th>2016-01-26</th>\n",
              "      <td>a0ecc615-1c7c-11ec-aa31-16262ee38c7f</td>\n",
              "      <td>DRUG_TYPE_11</td>\n",
              "      <td>1682</td>\n",
              "    </tr>\n",
              "    <tr>\n",
              "      <th>2016-01-16</th>\n",
              "      <td>a0ecc615-1c7c-11ec-aa31-16262ee38c7f</td>\n",
              "      <td>DRUG_TYPE_7</td>\n",
              "      <td>1692</td>\n",
              "    </tr>\n",
              "    <tr>\n",
              "      <th>2016-01-09</th>\n",
              "      <td>a0ecc615-1c7c-11ec-aa31-16262ee38c7f</td>\n",
              "      <td>DRUG_TYPE_3</td>\n",
              "      <td>1699</td>\n",
              "    </tr>\n",
              "    <tr>\n",
              "      <th>2016-01-07</th>\n",
              "      <td>a0ecc615-1c7c-11ec-aa31-16262ee38c7f</td>\n",
              "      <td>DRUG_TYPE_7</td>\n",
              "      <td>1701</td>\n",
              "    </tr>\n",
              "    <tr>\n",
              "      <th>2015-11-24</th>\n",
              "      <td>a0ecc615-1c7c-11ec-aa31-16262ee38c7f</td>\n",
              "      <td>DRUG_TYPE_7</td>\n",
              "      <td>1745</td>\n",
              "    </tr>\n",
              "    <tr>\n",
              "      <th>2015-11-03</th>\n",
              "      <td>a0ecc615-1c7c-11ec-aa31-16262ee38c7f</td>\n",
              "      <td>DRUG_TYPE_7</td>\n",
              "      <td>1766</td>\n",
              "    </tr>\n",
              "    <tr>\n",
              "      <th>2015-10-26</th>\n",
              "      <td>a0ecc615-1c7c-11ec-aa31-16262ee38c7f</td>\n",
              "      <td>DRUG_TYPE_7</td>\n",
              "      <td>1774</td>\n",
              "    </tr>\n",
              "    <tr>\n",
              "      <th>2015-10-26</th>\n",
              "      <td>a0ecc615-1c7c-11ec-aa31-16262ee38c7f</td>\n",
              "      <td>PRIMARY_DIAGNOSIS</td>\n",
              "      <td>1774</td>\n",
              "    </tr>\n",
              "    <tr>\n",
              "      <th>2015-08-27</th>\n",
              "      <td>a0ecc615-1c7c-11ec-aa31-16262ee38c7f</td>\n",
              "      <td>DRUG_TYPE_7</td>\n",
              "      <td>1834</td>\n",
              "    </tr>\n",
              "    <tr>\n",
              "      <th>2015-08-21</th>\n",
              "      <td>a0ecc615-1c7c-11ec-aa31-16262ee38c7f</td>\n",
              "      <td>DRUG_TYPE_3</td>\n",
              "      <td>1840</td>\n",
              "    </tr>\n",
              "    <tr>\n",
              "      <th>2015-06-26</th>\n",
              "      <td>a0ecc615-1c7c-11ec-aa31-16262ee38c7f</td>\n",
              "      <td>DRUG_TYPE_7</td>\n",
              "      <td>1896</td>\n",
              "    </tr>\n",
              "    <tr>\n",
              "      <th>2015-05-21</th>\n",
              "      <td>a0ecc615-1c7c-11ec-aa31-16262ee38c7f</td>\n",
              "      <td>DRUG_TYPE_7</td>\n",
              "      <td>1932</td>\n",
              "    </tr>\n",
              "    <tr>\n",
              "      <th>2015-05-02</th>\n",
              "      <td>a0ecc615-1c7c-11ec-aa31-16262ee38c7f</td>\n",
              "      <td>DRUG_TYPE_6</td>\n",
              "      <td>1951</td>\n",
              "    </tr>\n",
              "  </tbody>\n",
              "</table>\n",
              "</div>"
            ],
            "text/plain": [
              "                                     Patient-Uid           Incident  lastdrug\n",
              "Date                                                                         \n",
              "2018-04-25  a0ecc615-1c7c-11ec-aa31-16262ee38c7f        TARGET DRUG       862\n",
              "2018-04-25  a0ecc615-1c7c-11ec-aa31-16262ee38c7f  PRIMARY_DIAGNOSIS       862\n",
              "2018-04-13  a0ecc615-1c7c-11ec-aa31-16262ee38c7f        DRUG_TYPE_7       874\n",
              "2018-03-17  a0ecc615-1c7c-11ec-aa31-16262ee38c7f  PRIMARY_DIAGNOSIS       901\n",
              "2018-02-08  a0ecc615-1c7c-11ec-aa31-16262ee38c7f  PRIMARY_DIAGNOSIS       938\n",
              "2018-01-20  a0ecc615-1c7c-11ec-aa31-16262ee38c7f        DRUG_TYPE_7       957\n",
              "2017-12-15  a0ecc615-1c7c-11ec-aa31-16262ee38c7f        DRUG_TYPE_6       993\n",
              "2017-12-14  a0ecc615-1c7c-11ec-aa31-16262ee38c7f  PRIMARY_DIAGNOSIS       994\n",
              "2017-10-14  a0ecc615-1c7c-11ec-aa31-16262ee38c7f  PRIMARY_DIAGNOSIS      1055\n",
              "2017-10-11  a0ecc615-1c7c-11ec-aa31-16262ee38c7f        DRUG_TYPE_7      1058\n",
              "2017-09-16  a0ecc615-1c7c-11ec-aa31-16262ee38c7f       DRUG_TYPE_11      1083\n",
              "2017-09-16  a0ecc615-1c7c-11ec-aa31-16262ee38c7f  PRIMARY_DIAGNOSIS      1083\n",
              "2017-08-17  a0ecc615-1c7c-11ec-aa31-16262ee38c7f  PRIMARY_DIAGNOSIS      1113\n",
              "2017-07-15  a0ecc615-1c7c-11ec-aa31-16262ee38c7f  PRIMARY_DIAGNOSIS      1146\n",
              "2017-06-17  a0ecc615-1c7c-11ec-aa31-16262ee38c7f  PRIMARY_DIAGNOSIS      1174\n",
              "2017-06-08  a0ecc615-1c7c-11ec-aa31-16262ee38c7f        DRUG_TYPE_2      1183\n",
              "2017-05-05  a0ecc615-1c7c-11ec-aa31-16262ee38c7f  PRIMARY_DIAGNOSIS      1217\n",
              "2017-05-05  a0ecc615-1c7c-11ec-aa31-16262ee38c7f        DRUG_TYPE_2      1217\n",
              "2017-03-06  a0ecc615-1c7c-11ec-aa31-16262ee38c7f        DRUG_TYPE_2      1277\n",
              "2017-01-10  a0ecc615-1c7c-11ec-aa31-16262ee38c7f        DRUG_TYPE_1      1332\n",
              "2017-01-09  a0ecc615-1c7c-11ec-aa31-16262ee38c7f        DRUG_TYPE_7      1333\n",
              "2017-01-09  a0ecc615-1c7c-11ec-aa31-16262ee38c7f        DRUG_TYPE_2      1333\n",
              "2017-01-06  a0ecc615-1c7c-11ec-aa31-16262ee38c7f     SYMPTOM_TYPE_7      1336\n",
              "2017-01-03  a0ecc615-1c7c-11ec-aa31-16262ee38c7f  PRIMARY_DIAGNOSIS      1339\n",
              "2016-12-16  a0ecc615-1c7c-11ec-aa31-16262ee38c7f        DRUG_TYPE_7      1357\n",
              "2016-12-10  a0ecc615-1c7c-11ec-aa31-16262ee38c7f        DRUG_TYPE_6      1363\n",
              "2016-12-05  a0ecc615-1c7c-11ec-aa31-16262ee38c7f        DRUG_TYPE_1      1368\n",
              "2016-11-13  a0ecc615-1c7c-11ec-aa31-16262ee38c7f        DRUG_TYPE_7      1390\n",
              "2016-11-05  a0ecc615-1c7c-11ec-aa31-16262ee38c7f        DRUG_TYPE_1      1398\n",
              "2016-10-13  a0ecc615-1c7c-11ec-aa31-16262ee38c7f     SYMPTOM_TYPE_0      1421\n",
              "2016-10-05  a0ecc615-1c7c-11ec-aa31-16262ee38c7f     SYMPTOM_TYPE_0      1429\n",
              "2016-10-04  a0ecc615-1c7c-11ec-aa31-16262ee38c7f        DRUG_TYPE_3      1430\n",
              "2016-09-17  a0ecc615-1c7c-11ec-aa31-16262ee38c7f        DRUG_TYPE_2      1447\n",
              "2016-09-01  a0ecc615-1c7c-11ec-aa31-16262ee38c7f  PRIMARY_DIAGNOSIS      1463\n",
              "2016-09-01  a0ecc615-1c7c-11ec-aa31-16262ee38c7f        DRUG_TYPE_6      1463\n",
              "2016-05-26  a0ecc615-1c7c-11ec-aa31-16262ee38c7f        DRUG_TYPE_6      1561\n",
              "2016-04-24  a0ecc615-1c7c-11ec-aa31-16262ee38c7f        TEST_TYPE_0      1593\n",
              "2016-04-24  a0ecc615-1c7c-11ec-aa31-16262ee38c7f        DRUG_TYPE_2      1593\n",
              "2016-04-24  a0ecc615-1c7c-11ec-aa31-16262ee38c7f  PRIMARY_DIAGNOSIS      1593\n",
              "2016-04-23  a0ecc615-1c7c-11ec-aa31-16262ee38c7f        DRUG_TYPE_2      1594\n",
              "2016-04-14  a0ecc615-1c7c-11ec-aa31-16262ee38c7f        DRUG_TYPE_3      1603\n",
              "2016-03-30  a0ecc615-1c7c-11ec-aa31-16262ee38c7f        DRUG_TYPE_2      1618\n",
              "2016-02-26  a0ecc615-1c7c-11ec-aa31-16262ee38c7f        DRUG_TYPE_2      1651\n",
              "2016-02-26  a0ecc615-1c7c-11ec-aa31-16262ee38c7f        DRUG_TYPE_7      1651\n",
              "2016-01-26  a0ecc615-1c7c-11ec-aa31-16262ee38c7f       DRUG_TYPE_11      1682\n",
              "2016-01-16  a0ecc615-1c7c-11ec-aa31-16262ee38c7f        DRUG_TYPE_7      1692\n",
              "2016-01-09  a0ecc615-1c7c-11ec-aa31-16262ee38c7f        DRUG_TYPE_3      1699\n",
              "2016-01-07  a0ecc615-1c7c-11ec-aa31-16262ee38c7f        DRUG_TYPE_7      1701\n",
              "2015-11-24  a0ecc615-1c7c-11ec-aa31-16262ee38c7f        DRUG_TYPE_7      1745\n",
              "2015-11-03  a0ecc615-1c7c-11ec-aa31-16262ee38c7f        DRUG_TYPE_7      1766\n",
              "2015-10-26  a0ecc615-1c7c-11ec-aa31-16262ee38c7f        DRUG_TYPE_7      1774\n",
              "2015-10-26  a0ecc615-1c7c-11ec-aa31-16262ee38c7f  PRIMARY_DIAGNOSIS      1774\n",
              "2015-08-27  a0ecc615-1c7c-11ec-aa31-16262ee38c7f        DRUG_TYPE_7      1834\n",
              "2015-08-21  a0ecc615-1c7c-11ec-aa31-16262ee38c7f        DRUG_TYPE_3      1840\n",
              "2015-06-26  a0ecc615-1c7c-11ec-aa31-16262ee38c7f        DRUG_TYPE_7      1896\n",
              "2015-05-21  a0ecc615-1c7c-11ec-aa31-16262ee38c7f        DRUG_TYPE_7      1932\n",
              "2015-05-02  a0ecc615-1c7c-11ec-aa31-16262ee38c7f        DRUG_TYPE_6      1951"
            ]
          },
          "execution_count": 189,
          "metadata": {},
          "output_type": "execute_result"
        }
      ],
      "source": [
        "jk"
      ],
      "id": "c333dfa9"
    },
    {
      "cell_type": "code",
      "execution_count": null,
      "metadata": {
        "id": "1fc20bf6",
        "outputId": "e5284ed1-1aac-48fa-b17c-268a51564408"
      },
      "outputs": [
        {
          "data": {
            "text/plain": [
              "Timestamp('2015-05-02 00:00:00')"
            ]
          },
          "execution_count": 190,
          "metadata": {},
          "output_type": "execute_result"
        }
      ],
      "source": [
        "jk[-1::].index[0]"
      ],
      "id": "1fc20bf6"
    },
    {
      "cell_type": "code",
      "execution_count": null,
      "metadata": {
        "id": "cd4ac0cf"
      },
      "outputs": [],
      "source": [
        "from datetime import date, timedelta\n",
        "\n",
        "\n"
      ],
      "id": "cd4ac0cf"
    },
    {
      "cell_type": "code",
      "execution_count": null,
      "metadata": {
        "id": "5b0d704f-04dc-4591-b9c0-71854cbdc9fc"
      },
      "outputs": [],
      "source": [
        "prev_day = jk.index[0] - timedelta(days=1)\n",
        "prev_days = jk.index[0] - timedelta(days=30)\n",
        "s=jk.loc[prev_day:prev_days][\"Incident\"].value_counts()\n",
        "jk=jk.loc[prev_day:prev_days]"
      ],
      "id": "5b0d704f-04dc-4591-b9c0-71854cbdc9fc"
    },
    {
      "cell_type": "code",
      "execution_count": null,
      "metadata": {
        "id": "1ec22a4a-280c-413c-bf25-0b09c078dd80",
        "outputId": "b518ac77-7b76-4963-f32e-6ff955b6473a"
      },
      "outputs": [
        {
          "data": {
            "text/plain": [
              "Timestamp('2018-04-24 00:00:00')"
            ]
          },
          "execution_count": 70,
          "metadata": {},
          "output_type": "execute_result"
        }
      ],
      "source": [
        "prev_day"
      ],
      "id": "1ec22a4a-280c-413c-bf25-0b09c078dd80"
    },
    {
      "cell_type": "code",
      "execution_count": null,
      "metadata": {
        "id": "88d60b6a-8e94-41ce-a894-976854f25269",
        "outputId": "f2a2982d-1ab4-4b34-fcd1-7d43f8d764c3"
      },
      "outputs": [
        {
          "data": {
            "text/plain": [
              "Timestamp('2018-03-26 00:00:00')"
            ]
          },
          "execution_count": 71,
          "metadata": {},
          "output_type": "execute_result"
        }
      ],
      "source": [
        "prev_days"
      ],
      "id": "88d60b6a-8e94-41ce-a894-976854f25269"
    },
    {
      "cell_type": "code",
      "execution_count": null,
      "metadata": {
        "id": "9d1dc686-89c0-4e0b-b5b4-f9e8bcf5ae9e",
        "outputId": "7185a3b9-233f-482c-eeee-cbc6c94cd1d3"
      },
      "outputs": [
        {
          "data": {
            "text/html": [
              "<div>\n",
              "<style scoped>\n",
              "    .dataframe tbody tr th:only-of-type {\n",
              "        vertical-align: middle;\n",
              "    }\n",
              "\n",
              "    .dataframe tbody tr th {\n",
              "        vertical-align: top;\n",
              "    }\n",
              "\n",
              "    .dataframe thead th {\n",
              "        text-align: right;\n",
              "    }\n",
              "</style>\n",
              "<table border=\"1\" class=\"dataframe\">\n",
              "  <thead>\n",
              "    <tr style=\"text-align: right;\">\n",
              "      <th></th>\n",
              "      <th>Patient-Uid</th>\n",
              "      <th>Incident</th>\n",
              "      <th>lastdrug</th>\n",
              "    </tr>\n",
              "    <tr>\n",
              "      <th>Date</th>\n",
              "      <th></th>\n",
              "      <th></th>\n",
              "      <th></th>\n",
              "    </tr>\n",
              "  </thead>\n",
              "  <tbody>\n",
              "    <tr>\n",
              "      <th>2018-04-13</th>\n",
              "      <td>a0ecc615-1c7c-11ec-aa31-16262ee38c7f</td>\n",
              "      <td>DRUG_TYPE_7</td>\n",
              "      <td>874</td>\n",
              "    </tr>\n",
              "  </tbody>\n",
              "</table>\n",
              "</div>"
            ],
            "text/plain": [
              "                                     Patient-Uid     Incident  lastdrug\n",
              "Date                                                                   \n",
              "2018-04-13  a0ecc615-1c7c-11ec-aa31-16262ee38c7f  DRUG_TYPE_7       874"
            ]
          },
          "execution_count": 69,
          "metadata": {},
          "output_type": "execute_result"
        }
      ],
      "source": [
        "jk"
      ],
      "id": "9d1dc686-89c0-4e0b-b5b4-f9e8bcf5ae9e"
    },
    {
      "cell_type": "code",
      "execution_count": null,
      "metadata": {
        "id": "c90541d2"
      },
      "outputs": [],
      "source": [
        "jk.index=jk.Date"
      ],
      "id": "c90541d2"
    },
    {
      "cell_type": "code",
      "execution_count": null,
      "metadata": {
        "id": "e2af4142"
      },
      "outputs": [],
      "source": [
        "jk=jk.drop(\"Date\",axis=1)"
      ],
      "id": "e2af4142"
    },
    {
      "cell_type": "code",
      "execution_count": null,
      "metadata": {
        "colab": {
          "referenced_widgets": [
            ""
          ]
        },
        "id": "67e9c73f-55a9-4a37-a4c8-221d5851c42b",
        "outputId": "edf3a88c-bf14-4ef5-9dea-cfa5258154ca"
      },
      "outputs": [
        {
          "data": {
            "application/vnd.jupyter.widget-view+json": {
              "model_id": "",
              "version_major": 2,
              "version_minor": 0
            },
            "text/plain": [
              "  0%|          | 0/9374 [00:00<?, ?it/s]"
            ]
          },
          "metadata": {},
          "output_type": "display_data"
        },
        {
          "name": "stdout",
          "output_type": "stream",
          "text": [
            "Execution Time:  568.3520055999979\n"
          ]
        }
      ],
      "source": [
        "df_news=pd.DataFrame()\n",
        "start = timeit.default_timer()\n",
        "\n",
        "for nameofid in tqdm(Patientdf1[\"Patient-Uid\"]):\n",
        "    try:\n",
        "        jk=df_last[df_last[\"Patient-Uid\"]==nameofid]\n",
        "        prev_day = jk.index[0] - timedelta(days=1)\n",
        "        prev_days = jk.index[0] - timedelta(days=30)\n",
        "        s=jk.loc[prev_day:prev_days][\"Incident\"].value_counts()\n",
        "        jk=jk.loc[prev_day:prev_days]\n",
        "        l=pd.DataFrame(s).T.reset_index()\n",
        "\n",
        "        valofdrug1=jk[:1:][\"lastdrug\"][0]\n",
        "        val=jk[~jk[\"Incident\"].duplicated()]\n",
        "\n",
        "        for i in l.columns[1:]:\n",
        "            l[\"{}_time_last\".format(i)]=[((val[val[\"Incident\"]==i][\"lastdrug\"])-valofdrug1)[0]]\n",
        "\n",
        "        l[\"classx\"]=1\n",
        "        l[\"id\"]=nameofid\n",
        "        df_news= pd.concat([df_news, l], ignore_index=True)\n",
        "    except:\n",
        "        l=pd.DataFrame({\"id\":[nameofid]})\n",
        "        l[\"id\"]=nameofid\n",
        "        df_news = pd.concat([df_news, l], ignore_index=True)\n",
        "\n",
        "\n",
        "\n",
        "end = timeit.default_timer()\n",
        "print('Execution Time: ', end - start)"
      ],
      "id": "67e9c73f-55a9-4a37-a4c8-221d5851c42b"
    },
    {
      "cell_type": "code",
      "execution_count": null,
      "metadata": {
        "id": "ae6ca60d-035a-41d7-b045-7a13103e1692",
        "outputId": "c473af5d-d901-4739-f231-31c3d2210c62"
      },
      "outputs": [
        {
          "data": {
            "text/html": [
              "<div>\n",
              "<style scoped>\n",
              "    .dataframe tbody tr th:only-of-type {\n",
              "        vertical-align: middle;\n",
              "    }\n",
              "\n",
              "    .dataframe tbody tr th {\n",
              "        vertical-align: top;\n",
              "    }\n",
              "\n",
              "    .dataframe thead th {\n",
              "        text-align: right;\n",
              "    }\n",
              "</style>\n",
              "<table border=\"1\" class=\"dataframe\">\n",
              "  <thead>\n",
              "    <tr style=\"text-align: right;\">\n",
              "      <th></th>\n",
              "      <th>Patient-Uid</th>\n",
              "      <th>Date</th>\n",
              "      <th>Incident</th>\n",
              "      <th>lastdrug</th>\n",
              "    </tr>\n",
              "  </thead>\n",
              "  <tbody>\n",
              "    <tr>\n",
              "      <th>0</th>\n",
              "      <td>a0db1e73-1c7c-11ec-ae39-16262ee38c7f</td>\n",
              "      <td>2019-03-09</td>\n",
              "      <td>PRIMARY_DIAGNOSIS</td>\n",
              "      <td>544</td>\n",
              "    </tr>\n",
              "    <tr>\n",
              "      <th>26810</th>\n",
              "      <td>a0db1e73-1c7c-11ec-ae39-16262ee38c7f</td>\n",
              "      <td>2020-08-04</td>\n",
              "      <td>DRUG_TYPE_2</td>\n",
              "      <td>30</td>\n",
              "    </tr>\n",
              "    <tr>\n",
              "      <th>54034</th>\n",
              "      <td>a0db1e73-1c7c-11ec-ae39-16262ee38c7f</td>\n",
              "      <td>2019-03-05</td>\n",
              "      <td>SYMPTOM_TYPE_0</td>\n",
              "      <td>548</td>\n",
              "    </tr>\n",
              "    <tr>\n",
              "      <th>69930</th>\n",
              "      <td>a0db1e73-1c7c-11ec-ae39-16262ee38c7f</td>\n",
              "      <td>2020-04-16</td>\n",
              "      <td>DRUG_TYPE_6</td>\n",
              "      <td>140</td>\n",
              "    </tr>\n",
              "    <tr>\n",
              "      <th>145155</th>\n",
              "      <td>a0db1e73-1c7c-11ec-ae39-16262ee38c7f</td>\n",
              "      <td>2019-12-27</td>\n",
              "      <td>DRUG_TYPE_0</td>\n",
              "      <td>251</td>\n",
              "    </tr>\n",
              "    <tr>\n",
              "      <th>...</th>\n",
              "      <td>...</td>\n",
              "      <td>...</td>\n",
              "      <td>...</td>\n",
              "      <td>...</td>\n",
              "    </tr>\n",
              "    <tr>\n",
              "      <th>3100536</th>\n",
              "      <td>a0db1e73-1c7c-11ec-ae39-16262ee38c7f</td>\n",
              "      <td>2020-08-03</td>\n",
              "      <td>SYMPTOM_TYPE_0</td>\n",
              "      <td>31</td>\n",
              "    </tr>\n",
              "    <tr>\n",
              "      <th>3119371</th>\n",
              "      <td>a0db1e73-1c7c-11ec-ae39-16262ee38c7f</td>\n",
              "      <td>2020-03-08</td>\n",
              "      <td>PRIMARY_DIAGNOSIS</td>\n",
              "      <td>179</td>\n",
              "    </tr>\n",
              "    <tr>\n",
              "      <th>3138153</th>\n",
              "      <td>a0db1e73-1c7c-11ec-ae39-16262ee38c7f</td>\n",
              "      <td>2020-01-09</td>\n",
              "      <td>TEST_TYPE_0</td>\n",
              "      <td>238</td>\n",
              "    </tr>\n",
              "    <tr>\n",
              "      <th>3178420</th>\n",
              "      <td>a0db1e73-1c7c-11ec-ae39-16262ee38c7f</td>\n",
              "      <td>2020-03-09</td>\n",
              "      <td>TEST_TYPE_0</td>\n",
              "      <td>178</td>\n",
              "    </tr>\n",
              "    <tr>\n",
              "      <th>3202906</th>\n",
              "      <td>a0db1e73-1c7c-11ec-ae39-16262ee38c7f</td>\n",
              "      <td>2020-08-09</td>\n",
              "      <td>DRUG_TYPE_2</td>\n",
              "      <td>25</td>\n",
              "    </tr>\n",
              "  </tbody>\n",
              "</table>\n",
              "<p>96 rows × 4 columns</p>\n",
              "</div>"
            ],
            "text/plain": [
              "                                  Patient-Uid       Date           Incident  \\\n",
              "0        a0db1e73-1c7c-11ec-ae39-16262ee38c7f 2019-03-09  PRIMARY_DIAGNOSIS   \n",
              "26810    a0db1e73-1c7c-11ec-ae39-16262ee38c7f 2020-08-04        DRUG_TYPE_2   \n",
              "54034    a0db1e73-1c7c-11ec-ae39-16262ee38c7f 2019-03-05     SYMPTOM_TYPE_0   \n",
              "69930    a0db1e73-1c7c-11ec-ae39-16262ee38c7f 2020-04-16        DRUG_TYPE_6   \n",
              "145155   a0db1e73-1c7c-11ec-ae39-16262ee38c7f 2019-12-27        DRUG_TYPE_0   \n",
              "...                                       ...        ...                ...   \n",
              "3100536  a0db1e73-1c7c-11ec-ae39-16262ee38c7f 2020-08-03     SYMPTOM_TYPE_0   \n",
              "3119371  a0db1e73-1c7c-11ec-ae39-16262ee38c7f 2020-03-08  PRIMARY_DIAGNOSIS   \n",
              "3138153  a0db1e73-1c7c-11ec-ae39-16262ee38c7f 2020-01-09        TEST_TYPE_0   \n",
              "3178420  a0db1e73-1c7c-11ec-ae39-16262ee38c7f 2020-03-09        TEST_TYPE_0   \n",
              "3202906  a0db1e73-1c7c-11ec-ae39-16262ee38c7f 2020-08-09        DRUG_TYPE_2   \n",
              "\n",
              "         lastdrug  \n",
              "0             544  \n",
              "26810          30  \n",
              "54034         548  \n",
              "69930         140  \n",
              "145155        251  \n",
              "...           ...  \n",
              "3100536        31  \n",
              "3119371       179  \n",
              "3138153       238  \n",
              "3178420       178  \n",
              "3202906        25  \n",
              "\n",
              "[96 rows x 4 columns]"
            ]
          },
          "execution_count": 102,
          "metadata": {},
          "output_type": "execute_result"
        }
      ],
      "source": [
        "df[df[\"Patient-Uid\"]==class0[0]]"
      ],
      "id": "ae6ca60d-035a-41d7-b045-7a13103e1692"
    },
    {
      "cell_type": "code",
      "execution_count": null,
      "metadata": {
        "id": "98bcc724-2f6f-490b-8443-f394be60026e"
      },
      "outputs": [],
      "source": [
        "df_lastclass0.to_csv(\"df_lastclass0.csv\")"
      ],
      "id": "98bcc724-2f6f-490b-8443-f394be60026e"
    },
    {
      "cell_type": "code",
      "execution_count": null,
      "metadata": {
        "id": "e2960f46-b5d7-46d8-a95b-7f83b93cb23d",
        "outputId": "55e6564c-5a71-4a63-9a10-f005a7b5d20a"
      },
      "outputs": [
        {
          "data": {
            "text/html": [
              "<div>\n",
              "<style scoped>\n",
              "    .dataframe tbody tr th:only-of-type {\n",
              "        vertical-align: middle;\n",
              "    }\n",
              "\n",
              "    .dataframe tbody tr th {\n",
              "        vertical-align: top;\n",
              "    }\n",
              "\n",
              "    .dataframe thead th {\n",
              "        text-align: right;\n",
              "    }\n",
              "</style>\n",
              "<table border=\"1\" class=\"dataframe\">\n",
              "  <thead>\n",
              "    <tr style=\"text-align: right;\">\n",
              "      <th></th>\n",
              "      <th>Patient-Uid</th>\n",
              "      <th>Incident</th>\n",
              "      <th>lastdrug</th>\n",
              "    </tr>\n",
              "    <tr>\n",
              "      <th>Date</th>\n",
              "      <th></th>\n",
              "      <th></th>\n",
              "      <th></th>\n",
              "    </tr>\n",
              "  </thead>\n",
              "  <tbody>\n",
              "    <tr>\n",
              "      <th>2020-08-09</th>\n",
              "      <td>a0db1e73-1c7c-11ec-ae39-16262ee38c7f</td>\n",
              "      <td>DRUG_TYPE_2</td>\n",
              "      <td>25</td>\n",
              "    </tr>\n",
              "    <tr>\n",
              "      <th>2020-08-07</th>\n",
              "      <td>a0db1e73-1c7c-11ec-ae39-16262ee38c7f</td>\n",
              "      <td>DRUG_TYPE_2</td>\n",
              "      <td>27</td>\n",
              "    </tr>\n",
              "    <tr>\n",
              "      <th>2020-08-05</th>\n",
              "      <td>a0db1e73-1c7c-11ec-ae39-16262ee38c7f</td>\n",
              "      <td>DRUG_TYPE_2</td>\n",
              "      <td>29</td>\n",
              "    </tr>\n",
              "    <tr>\n",
              "      <th>2020-08-05</th>\n",
              "      <td>a0db1e73-1c7c-11ec-ae39-16262ee38c7f</td>\n",
              "      <td>DRUG_TYPE_7</td>\n",
              "      <td>29</td>\n",
              "    </tr>\n",
              "    <tr>\n",
              "      <th>2020-08-04</th>\n",
              "      <td>a0db1e73-1c7c-11ec-ae39-16262ee38c7f</td>\n",
              "      <td>DRUG_TYPE_2</td>\n",
              "      <td>30</td>\n",
              "    </tr>\n",
              "    <tr>\n",
              "      <th>2020-08-04</th>\n",
              "      <td>a0db1e73-1c7c-11ec-ae39-16262ee38c7f</td>\n",
              "      <td>PRIMARY_DIAGNOSIS</td>\n",
              "      <td>30</td>\n",
              "    </tr>\n",
              "    <tr>\n",
              "      <th>2020-08-04</th>\n",
              "      <td>a0db1e73-1c7c-11ec-ae39-16262ee38c7f</td>\n",
              "      <td>DRUG_TYPE_7</td>\n",
              "      <td>30</td>\n",
              "    </tr>\n",
              "    <tr>\n",
              "      <th>2020-08-04</th>\n",
              "      <td>a0db1e73-1c7c-11ec-ae39-16262ee38c7f</td>\n",
              "      <td>TEST_TYPE_1</td>\n",
              "      <td>30</td>\n",
              "    </tr>\n",
              "    <tr>\n",
              "      <th>2020-08-03</th>\n",
              "      <td>a0db1e73-1c7c-11ec-ae39-16262ee38c7f</td>\n",
              "      <td>SYMPTOM_TYPE_0</td>\n",
              "      <td>31</td>\n",
              "    </tr>\n",
              "    <tr>\n",
              "      <th>2020-08-03</th>\n",
              "      <td>a0db1e73-1c7c-11ec-ae39-16262ee38c7f</td>\n",
              "      <td>PRIMARY_DIAGNOSIS</td>\n",
              "      <td>31</td>\n",
              "    </tr>\n",
              "    <tr>\n",
              "      <th>2020-08-03</th>\n",
              "      <td>a0db1e73-1c7c-11ec-ae39-16262ee38c7f</td>\n",
              "      <td>PRIMARY_DIAGNOSIS</td>\n",
              "      <td>31</td>\n",
              "    </tr>\n",
              "    <tr>\n",
              "      <th>2020-08-03</th>\n",
              "      <td>a0db1e73-1c7c-11ec-ae39-16262ee38c7f</td>\n",
              "      <td>TEST_TYPE_0</td>\n",
              "      <td>31</td>\n",
              "    </tr>\n",
              "    <tr>\n",
              "      <th>2020-08-02</th>\n",
              "      <td>a0db1e73-1c7c-11ec-ae39-16262ee38c7f</td>\n",
              "      <td>DRUG_TYPE_0</td>\n",
              "      <td>32</td>\n",
              "    </tr>\n",
              "    <tr>\n",
              "      <th>2020-07-21</th>\n",
              "      <td>a0db1e73-1c7c-11ec-ae39-16262ee38c7f</td>\n",
              "      <td>DRUG_TYPE_0</td>\n",
              "      <td>44</td>\n",
              "    </tr>\n",
              "    <tr>\n",
              "      <th>2020-07-20</th>\n",
              "      <td>a0db1e73-1c7c-11ec-ae39-16262ee38c7f</td>\n",
              "      <td>TEST_TYPE_0</td>\n",
              "      <td>45</td>\n",
              "    </tr>\n",
              "    <tr>\n",
              "      <th>2020-07-20</th>\n",
              "      <td>a0db1e73-1c7c-11ec-ae39-16262ee38c7f</td>\n",
              "      <td>DRUG_TYPE_0</td>\n",
              "      <td>45</td>\n",
              "    </tr>\n",
              "    <tr>\n",
              "      <th>2020-07-20</th>\n",
              "      <td>a0db1e73-1c7c-11ec-ae39-16262ee38c7f</td>\n",
              "      <td>PRIMARY_DIAGNOSIS</td>\n",
              "      <td>45</td>\n",
              "    </tr>\n",
              "    <tr>\n",
              "      <th>2020-07-20</th>\n",
              "      <td>a0db1e73-1c7c-11ec-ae39-16262ee38c7f</td>\n",
              "      <td>DRUG_TYPE_6</td>\n",
              "      <td>45</td>\n",
              "    </tr>\n",
              "  </tbody>\n",
              "</table>\n",
              "</div>"
            ],
            "text/plain": [
              "                                     Patient-Uid           Incident  lastdrug\n",
              "Date                                                                         \n",
              "2020-08-09  a0db1e73-1c7c-11ec-ae39-16262ee38c7f        DRUG_TYPE_2        25\n",
              "2020-08-07  a0db1e73-1c7c-11ec-ae39-16262ee38c7f        DRUG_TYPE_2        27\n",
              "2020-08-05  a0db1e73-1c7c-11ec-ae39-16262ee38c7f        DRUG_TYPE_2        29\n",
              "2020-08-05  a0db1e73-1c7c-11ec-ae39-16262ee38c7f        DRUG_TYPE_7        29\n",
              "2020-08-04  a0db1e73-1c7c-11ec-ae39-16262ee38c7f        DRUG_TYPE_2        30\n",
              "2020-08-04  a0db1e73-1c7c-11ec-ae39-16262ee38c7f  PRIMARY_DIAGNOSIS        30\n",
              "2020-08-04  a0db1e73-1c7c-11ec-ae39-16262ee38c7f        DRUG_TYPE_7        30\n",
              "2020-08-04  a0db1e73-1c7c-11ec-ae39-16262ee38c7f        TEST_TYPE_1        30\n",
              "2020-08-03  a0db1e73-1c7c-11ec-ae39-16262ee38c7f     SYMPTOM_TYPE_0        31\n",
              "2020-08-03  a0db1e73-1c7c-11ec-ae39-16262ee38c7f  PRIMARY_DIAGNOSIS        31\n",
              "2020-08-03  a0db1e73-1c7c-11ec-ae39-16262ee38c7f  PRIMARY_DIAGNOSIS        31\n",
              "2020-08-03  a0db1e73-1c7c-11ec-ae39-16262ee38c7f        TEST_TYPE_0        31\n",
              "2020-08-02  a0db1e73-1c7c-11ec-ae39-16262ee38c7f        DRUG_TYPE_0        32\n",
              "2020-07-21  a0db1e73-1c7c-11ec-ae39-16262ee38c7f        DRUG_TYPE_0        44\n",
              "2020-07-20  a0db1e73-1c7c-11ec-ae39-16262ee38c7f        TEST_TYPE_0        45\n",
              "2020-07-20  a0db1e73-1c7c-11ec-ae39-16262ee38c7f        DRUG_TYPE_0        45\n",
              "2020-07-20  a0db1e73-1c7c-11ec-ae39-16262ee38c7f  PRIMARY_DIAGNOSIS        45\n",
              "2020-07-20  a0db1e73-1c7c-11ec-ae39-16262ee38c7f        DRUG_TYPE_6        45"
            ]
          },
          "execution_count": 177,
          "metadata": {},
          "output_type": "execute_result"
        }
      ],
      "source": [
        "df_lastclass0[df_lastclass0[\"Patient-Uid\"]==\"a0db1e73-1c7c-11ec-ae39-16262ee38c7f\"]"
      ],
      "id": "e2960f46-b5d7-46d8-a95b-7f83b93cb23d"
    },
    {
      "cell_type": "code",
      "execution_count": null,
      "metadata": {
        "id": "6c203701-776c-4570-96e6-c5f23ccd9466"
      },
      "outputs": [],
      "source": [
        "df_news.to_csv(\"df_news.csv\")"
      ],
      "id": "6c203701-776c-4570-96e6-c5f23ccd9466"
    },
    {
      "cell_type": "code",
      "execution_count": null,
      "metadata": {
        "colab": {
          "referenced_widgets": [
            "c4b9bd04555646e6852f82479ca446fd"
          ]
        },
        "id": "8af0d07d-1178-4a8d-b8c5-6e9bbee0303c",
        "outputId": "d53e490b-b6c1-492c-f333-b762ae93fbe2"
      },
      "outputs": [
        {
          "data": {
            "application/vnd.jupyter.widget-view+json": {
              "model_id": "c4b9bd04555646e6852f82479ca446fd",
              "version_major": 2,
              "version_minor": 0
            },
            "text/plain": [
              "  0%|          | 0/17659 [00:00<?, ?it/s]"
            ]
          },
          "metadata": {},
          "output_type": "display_data"
        },
        {
          "name": "stdout",
          "output_type": "stream",
          "text": [
            "Execution Time:  233.44748490001075\n"
          ]
        }
      ],
      "source": [
        "df_last0=pd.DataFrame()\n",
        "start = timeit.default_timer()\n",
        "\n",
        "for nameofid in tqdm(class0):\n",
        "    try:\n",
        "        jk=df_lastclass0[df_lastclass0[\"Patient-Uid\"]==nameofid]\n",
        "\n",
        "        s=jk[\"Incident\"].value_counts()\n",
        "\n",
        "        l=pd.DataFrame(s).T.reset_index()\n",
        "\n",
        "        valofdrug1=jk[:1:][\"lastdrug\"][0]\n",
        "        val=jk[~jk[\"Incident\"].duplicated()]\n",
        "\n",
        "        for i in l.columns[1:]:\n",
        "            l[\"{}_time_last\".format(i)]=[((val[val[\"Incident\"]==i][\"lastdrug\"])-valofdrug1)[0]]\n",
        "\n",
        "        l[\"classx\"]=0\n",
        "        l[\"id\"]=nameofid\n",
        "        df_last0= pd.concat([df_last0, l], ignore_index=True)\n",
        "    except:\n",
        "        l=pd.DataFrame({\"id\":[nameofid]})\n",
        "        l[\"id\"]=nameofid\n",
        "        df_last0 = pd.concat([df_last0, l], ignore_index=True)\n",
        "\n",
        "\n",
        "\n",
        "end = timeit.default_timer()\n",
        "print('Execution Time: ', end - start)"
      ],
      "id": "8af0d07d-1178-4a8d-b8c5-6e9bbee0303c"
    },
    {
      "cell_type": "code",
      "execution_count": null,
      "metadata": {
        "id": "36bf4896-a786-45c2-8063-1f771491d287",
        "outputId": "41d41d4d-205c-4c66-90d2-1e72b658492d"
      },
      "outputs": [
        {
          "data": {
            "text/html": [
              "<div>\n",
              "<style scoped>\n",
              "    .dataframe tbody tr th:only-of-type {\n",
              "        vertical-align: middle;\n",
              "    }\n",
              "\n",
              "    .dataframe tbody tr th {\n",
              "        vertical-align: top;\n",
              "    }\n",
              "\n",
              "    .dataframe thead th {\n",
              "        text-align: right;\n",
              "    }\n",
              "</style>\n",
              "<table border=\"1\" class=\"dataframe\">\n",
              "  <thead>\n",
              "    <tr style=\"text-align: right;\">\n",
              "      <th></th>\n",
              "      <th>Patient-Uid</th>\n",
              "      <th>Incident</th>\n",
              "      <th>lastdrug</th>\n",
              "    </tr>\n",
              "    <tr>\n",
              "      <th>Date</th>\n",
              "      <th></th>\n",
              "      <th></th>\n",
              "      <th></th>\n",
              "    </tr>\n",
              "  </thead>\n",
              "  <tbody>\n",
              "    <tr>\n",
              "      <th>2020-08-09</th>\n",
              "      <td>a0db1e73-1c7c-11ec-ae39-16262ee38c7f</td>\n",
              "      <td>DRUG_TYPE_2</td>\n",
              "      <td>25</td>\n",
              "    </tr>\n",
              "    <tr>\n",
              "      <th>2020-08-07</th>\n",
              "      <td>a0db1e73-1c7c-11ec-ae39-16262ee38c7f</td>\n",
              "      <td>DRUG_TYPE_2</td>\n",
              "      <td>27</td>\n",
              "    </tr>\n",
              "    <tr>\n",
              "      <th>2020-08-05</th>\n",
              "      <td>a0db1e73-1c7c-11ec-ae39-16262ee38c7f</td>\n",
              "      <td>DRUG_TYPE_2</td>\n",
              "      <td>29</td>\n",
              "    </tr>\n",
              "    <tr>\n",
              "      <th>2020-08-05</th>\n",
              "      <td>a0db1e73-1c7c-11ec-ae39-16262ee38c7f</td>\n",
              "      <td>DRUG_TYPE_7</td>\n",
              "      <td>29</td>\n",
              "    </tr>\n",
              "    <tr>\n",
              "      <th>2020-08-04</th>\n",
              "      <td>a0db1e73-1c7c-11ec-ae39-16262ee38c7f</td>\n",
              "      <td>DRUG_TYPE_2</td>\n",
              "      <td>30</td>\n",
              "    </tr>\n",
              "    <tr>\n",
              "      <th>...</th>\n",
              "      <td>...</td>\n",
              "      <td>...</td>\n",
              "      <td>...</td>\n",
              "    </tr>\n",
              "    <tr>\n",
              "      <th>2018-07-11</th>\n",
              "      <td>a0e9c325-1c7c-11ec-8885-16262ee38c7f</td>\n",
              "      <td>PRIMARY_DIAGNOSIS</td>\n",
              "      <td>785</td>\n",
              "    </tr>\n",
              "    <tr>\n",
              "      <th>2018-06-15</th>\n",
              "      <td>a0e9c325-1c7c-11ec-8885-16262ee38c7f</td>\n",
              "      <td>DRUG_TYPE_0</td>\n",
              "      <td>811</td>\n",
              "    </tr>\n",
              "    <tr>\n",
              "      <th>2018-06-14</th>\n",
              "      <td>a0e9c325-1c7c-11ec-8885-16262ee38c7f</td>\n",
              "      <td>DRUG_TYPE_0</td>\n",
              "      <td>812</td>\n",
              "    </tr>\n",
              "    <tr>\n",
              "      <th>2020-08-27</th>\n",
              "      <td>a0e9c354-1c7c-11ec-84f5-16262ee38c7f</td>\n",
              "      <td>DRUG_TYPE_1</td>\n",
              "      <td>7</td>\n",
              "    </tr>\n",
              "    <tr>\n",
              "      <th>2020-08-06</th>\n",
              "      <td>a0e9c354-1c7c-11ec-84f5-16262ee38c7f</td>\n",
              "      <td>DRUG_TYPE_1</td>\n",
              "      <td>28</td>\n",
              "    </tr>\n",
              "  </tbody>\n",
              "</table>\n",
              "<p>51370 rows × 3 columns</p>\n",
              "</div>"
            ],
            "text/plain": [
              "                                     Patient-Uid           Incident  lastdrug\n",
              "Date                                                                         \n",
              "2020-08-09  a0db1e73-1c7c-11ec-ae39-16262ee38c7f        DRUG_TYPE_2        25\n",
              "2020-08-07  a0db1e73-1c7c-11ec-ae39-16262ee38c7f        DRUG_TYPE_2        27\n",
              "2020-08-05  a0db1e73-1c7c-11ec-ae39-16262ee38c7f        DRUG_TYPE_2        29\n",
              "2020-08-05  a0db1e73-1c7c-11ec-ae39-16262ee38c7f        DRUG_TYPE_7        29\n",
              "2020-08-04  a0db1e73-1c7c-11ec-ae39-16262ee38c7f        DRUG_TYPE_2        30\n",
              "...                                          ...                ...       ...\n",
              "2018-07-11  a0e9c325-1c7c-11ec-8885-16262ee38c7f  PRIMARY_DIAGNOSIS       785\n",
              "2018-06-15  a0e9c325-1c7c-11ec-8885-16262ee38c7f        DRUG_TYPE_0       811\n",
              "2018-06-14  a0e9c325-1c7c-11ec-8885-16262ee38c7f        DRUG_TYPE_0       812\n",
              "2020-08-27  a0e9c354-1c7c-11ec-84f5-16262ee38c7f        DRUG_TYPE_1         7\n",
              "2020-08-06  a0e9c354-1c7c-11ec-84f5-16262ee38c7f        DRUG_TYPE_1        28\n",
              "\n",
              "[51370 rows x 3 columns]"
            ]
          },
          "execution_count": 203,
          "metadata": {},
          "output_type": "execute_result"
        }
      ],
      "source": [
        "df_lastclass0"
      ],
      "id": "36bf4896-a786-45c2-8063-1f771491d287"
    },
    {
      "cell_type": "code",
      "execution_count": null,
      "metadata": {
        "id": "63f00f4b-9a5c-4db8-90fa-039a4b64904e",
        "outputId": "ad2bea4e-e79e-4495-dae5-244217aab58b"
      },
      "outputs": [
        {
          "data": {
            "text/html": [
              "<div>\n",
              "<style scoped>\n",
              "    .dataframe tbody tr th:only-of-type {\n",
              "        vertical-align: middle;\n",
              "    }\n",
              "\n",
              "    .dataframe tbody tr th {\n",
              "        vertical-align: top;\n",
              "    }\n",
              "\n",
              "    .dataframe thead th {\n",
              "        text-align: right;\n",
              "    }\n",
              "</style>\n",
              "<table border=\"1\" class=\"dataframe\">\n",
              "  <thead>\n",
              "    <tr style=\"text-align: right;\">\n",
              "      <th></th>\n",
              "      <th>index</th>\n",
              "      <th>DRUG_TYPE_2</th>\n",
              "      <th>PRIMARY_DIAGNOSIS</th>\n",
              "      <th>DRUG_TYPE_0</th>\n",
              "      <th>DRUG_TYPE_7</th>\n",
              "      <th>TEST_TYPE_0</th>\n",
              "      <th>TEST_TYPE_1</th>\n",
              "      <th>SYMPTOM_TYPE_0</th>\n",
              "      <th>DRUG_TYPE_6</th>\n",
              "      <th>DRUG_TYPE_2_time_last</th>\n",
              "      <th>...</th>\n",
              "      <th>SYMPTOM_TYPE_22</th>\n",
              "      <th>SYMPTOM_TYPE_22_time_last</th>\n",
              "      <th>SYMPTOM_TYPE_21</th>\n",
              "      <th>SYMPTOM_TYPE_21_time_last</th>\n",
              "      <th>SYMPTOM_TYPE_23</th>\n",
              "      <th>SYMPTOM_TYPE_23_time_last</th>\n",
              "      <th>SYMPTOM_TYPE_19</th>\n",
              "      <th>SYMPTOM_TYPE_19_time_last</th>\n",
              "      <th>SYMPTOM_TYPE_27</th>\n",
              "      <th>SYMPTOM_TYPE_27_time_last</th>\n",
              "    </tr>\n",
              "  </thead>\n",
              "  <tbody>\n",
              "    <tr>\n",
              "      <th>0</th>\n",
              "      <td>Incident</td>\n",
              "      <td>4.0</td>\n",
              "      <td>4.0</td>\n",
              "      <td>3.0</td>\n",
              "      <td>2.0</td>\n",
              "      <td>2.0</td>\n",
              "      <td>1.0</td>\n",
              "      <td>1.0</td>\n",
              "      <td>1.0</td>\n",
              "      <td>0.0</td>\n",
              "      <td>...</td>\n",
              "      <td>NaN</td>\n",
              "      <td>NaN</td>\n",
              "      <td>NaN</td>\n",
              "      <td>NaN</td>\n",
              "      <td>NaN</td>\n",
              "      <td>NaN</td>\n",
              "      <td>NaN</td>\n",
              "      <td>NaN</td>\n",
              "      <td>NaN</td>\n",
              "      <td>NaN</td>\n",
              "    </tr>\n",
              "    <tr>\n",
              "      <th>1</th>\n",
              "      <td>Incident</td>\n",
              "      <td>NaN</td>\n",
              "      <td>NaN</td>\n",
              "      <td>NaN</td>\n",
              "      <td>2.0</td>\n",
              "      <td>NaN</td>\n",
              "      <td>NaN</td>\n",
              "      <td>NaN</td>\n",
              "      <td>NaN</td>\n",
              "      <td>NaN</td>\n",
              "      <td>...</td>\n",
              "      <td>NaN</td>\n",
              "      <td>NaN</td>\n",
              "      <td>NaN</td>\n",
              "      <td>NaN</td>\n",
              "      <td>NaN</td>\n",
              "      <td>NaN</td>\n",
              "      <td>NaN</td>\n",
              "      <td>NaN</td>\n",
              "      <td>NaN</td>\n",
              "      <td>NaN</td>\n",
              "    </tr>\n",
              "    <tr>\n",
              "      <th>2</th>\n",
              "      <td>Incident</td>\n",
              "      <td>NaN</td>\n",
              "      <td>NaN</td>\n",
              "      <td>NaN</td>\n",
              "      <td>NaN</td>\n",
              "      <td>NaN</td>\n",
              "      <td>NaN</td>\n",
              "      <td>NaN</td>\n",
              "      <td>NaN</td>\n",
              "      <td>NaN</td>\n",
              "      <td>...</td>\n",
              "      <td>NaN</td>\n",
              "      <td>NaN</td>\n",
              "      <td>NaN</td>\n",
              "      <td>NaN</td>\n",
              "      <td>NaN</td>\n",
              "      <td>NaN</td>\n",
              "      <td>NaN</td>\n",
              "      <td>NaN</td>\n",
              "      <td>NaN</td>\n",
              "      <td>NaN</td>\n",
              "    </tr>\n",
              "    <tr>\n",
              "      <th>3</th>\n",
              "      <td>Incident</td>\n",
              "      <td>1.0</td>\n",
              "      <td>1.0</td>\n",
              "      <td>NaN</td>\n",
              "      <td>NaN</td>\n",
              "      <td>NaN</td>\n",
              "      <td>NaN</td>\n",
              "      <td>NaN</td>\n",
              "      <td>NaN</td>\n",
              "      <td>22.0</td>\n",
              "      <td>...</td>\n",
              "      <td>NaN</td>\n",
              "      <td>NaN</td>\n",
              "      <td>NaN</td>\n",
              "      <td>NaN</td>\n",
              "      <td>NaN</td>\n",
              "      <td>NaN</td>\n",
              "      <td>NaN</td>\n",
              "      <td>NaN</td>\n",
              "      <td>NaN</td>\n",
              "      <td>NaN</td>\n",
              "    </tr>\n",
              "    <tr>\n",
              "      <th>4</th>\n",
              "      <td>Incident</td>\n",
              "      <td>NaN</td>\n",
              "      <td>NaN</td>\n",
              "      <td>NaN</td>\n",
              "      <td>NaN</td>\n",
              "      <td>NaN</td>\n",
              "      <td>NaN</td>\n",
              "      <td>NaN</td>\n",
              "      <td>NaN</td>\n",
              "      <td>NaN</td>\n",
              "      <td>...</td>\n",
              "      <td>NaN</td>\n",
              "      <td>NaN</td>\n",
              "      <td>NaN</td>\n",
              "      <td>NaN</td>\n",
              "      <td>NaN</td>\n",
              "      <td>NaN</td>\n",
              "      <td>NaN</td>\n",
              "      <td>NaN</td>\n",
              "      <td>NaN</td>\n",
              "      <td>NaN</td>\n",
              "    </tr>\n",
              "    <tr>\n",
              "      <th>...</th>\n",
              "      <td>...</td>\n",
              "      <td>...</td>\n",
              "      <td>...</td>\n",
              "      <td>...</td>\n",
              "      <td>...</td>\n",
              "      <td>...</td>\n",
              "      <td>...</td>\n",
              "      <td>...</td>\n",
              "      <td>...</td>\n",
              "      <td>...</td>\n",
              "      <td>...</td>\n",
              "      <td>...</td>\n",
              "      <td>...</td>\n",
              "      <td>...</td>\n",
              "      <td>...</td>\n",
              "      <td>...</td>\n",
              "      <td>...</td>\n",
              "      <td>...</td>\n",
              "      <td>...</td>\n",
              "      <td>...</td>\n",
              "      <td>...</td>\n",
              "    </tr>\n",
              "    <tr>\n",
              "      <th>17654</th>\n",
              "      <td>Incident</td>\n",
              "      <td>NaN</td>\n",
              "      <td>NaN</td>\n",
              "      <td>NaN</td>\n",
              "      <td>NaN</td>\n",
              "      <td>NaN</td>\n",
              "      <td>NaN</td>\n",
              "      <td>NaN</td>\n",
              "      <td>NaN</td>\n",
              "      <td>NaN</td>\n",
              "      <td>...</td>\n",
              "      <td>NaN</td>\n",
              "      <td>NaN</td>\n",
              "      <td>NaN</td>\n",
              "      <td>NaN</td>\n",
              "      <td>NaN</td>\n",
              "      <td>NaN</td>\n",
              "      <td>NaN</td>\n",
              "      <td>NaN</td>\n",
              "      <td>NaN</td>\n",
              "      <td>NaN</td>\n",
              "    </tr>\n",
              "    <tr>\n",
              "      <th>17655</th>\n",
              "      <td>Incident</td>\n",
              "      <td>NaN</td>\n",
              "      <td>1.0</td>\n",
              "      <td>1.0</td>\n",
              "      <td>NaN</td>\n",
              "      <td>1.0</td>\n",
              "      <td>NaN</td>\n",
              "      <td>NaN</td>\n",
              "      <td>3.0</td>\n",
              "      <td>NaN</td>\n",
              "      <td>...</td>\n",
              "      <td>NaN</td>\n",
              "      <td>NaN</td>\n",
              "      <td>NaN</td>\n",
              "      <td>NaN</td>\n",
              "      <td>NaN</td>\n",
              "      <td>NaN</td>\n",
              "      <td>NaN</td>\n",
              "      <td>NaN</td>\n",
              "      <td>NaN</td>\n",
              "      <td>NaN</td>\n",
              "    </tr>\n",
              "    <tr>\n",
              "      <th>17656</th>\n",
              "      <td>Incident</td>\n",
              "      <td>NaN</td>\n",
              "      <td>NaN</td>\n",
              "      <td>NaN</td>\n",
              "      <td>NaN</td>\n",
              "      <td>NaN</td>\n",
              "      <td>NaN</td>\n",
              "      <td>NaN</td>\n",
              "      <td>2.0</td>\n",
              "      <td>NaN</td>\n",
              "      <td>...</td>\n",
              "      <td>NaN</td>\n",
              "      <td>NaN</td>\n",
              "      <td>NaN</td>\n",
              "      <td>NaN</td>\n",
              "      <td>NaN</td>\n",
              "      <td>NaN</td>\n",
              "      <td>NaN</td>\n",
              "      <td>NaN</td>\n",
              "      <td>NaN</td>\n",
              "      <td>NaN</td>\n",
              "    </tr>\n",
              "    <tr>\n",
              "      <th>17657</th>\n",
              "      <td>Incident</td>\n",
              "      <td>NaN</td>\n",
              "      <td>1.0</td>\n",
              "      <td>3.0</td>\n",
              "      <td>NaN</td>\n",
              "      <td>NaN</td>\n",
              "      <td>NaN</td>\n",
              "      <td>NaN</td>\n",
              "      <td>NaN</td>\n",
              "      <td>NaN</td>\n",
              "      <td>...</td>\n",
              "      <td>NaN</td>\n",
              "      <td>NaN</td>\n",
              "      <td>NaN</td>\n",
              "      <td>NaN</td>\n",
              "      <td>NaN</td>\n",
              "      <td>NaN</td>\n",
              "      <td>NaN</td>\n",
              "      <td>NaN</td>\n",
              "      <td>NaN</td>\n",
              "      <td>NaN</td>\n",
              "    </tr>\n",
              "    <tr>\n",
              "      <th>17658</th>\n",
              "      <td>Incident</td>\n",
              "      <td>NaN</td>\n",
              "      <td>NaN</td>\n",
              "      <td>NaN</td>\n",
              "      <td>NaN</td>\n",
              "      <td>NaN</td>\n",
              "      <td>NaN</td>\n",
              "      <td>NaN</td>\n",
              "      <td>NaN</td>\n",
              "      <td>NaN</td>\n",
              "      <td>...</td>\n",
              "      <td>NaN</td>\n",
              "      <td>NaN</td>\n",
              "      <td>NaN</td>\n",
              "      <td>NaN</td>\n",
              "      <td>NaN</td>\n",
              "      <td>NaN</td>\n",
              "      <td>NaN</td>\n",
              "      <td>NaN</td>\n",
              "      <td>NaN</td>\n",
              "      <td>NaN</td>\n",
              "    </tr>\n",
              "  </tbody>\n",
              "</table>\n",
              "<p>17659 rows × 105 columns</p>\n",
              "</div>"
            ],
            "text/plain": [
              "          index  DRUG_TYPE_2  PRIMARY_DIAGNOSIS  DRUG_TYPE_0  DRUG_TYPE_7  \\\n",
              "0      Incident          4.0                4.0          3.0          2.0   \n",
              "1      Incident          NaN                NaN          NaN          2.0   \n",
              "2      Incident          NaN                NaN          NaN          NaN   \n",
              "3      Incident          1.0                1.0          NaN          NaN   \n",
              "4      Incident          NaN                NaN          NaN          NaN   \n",
              "...         ...          ...                ...          ...          ...   \n",
              "17654  Incident          NaN                NaN          NaN          NaN   \n",
              "17655  Incident          NaN                1.0          1.0          NaN   \n",
              "17656  Incident          NaN                NaN          NaN          NaN   \n",
              "17657  Incident          NaN                1.0          3.0          NaN   \n",
              "17658  Incident          NaN                NaN          NaN          NaN   \n",
              "\n",
              "       TEST_TYPE_0  TEST_TYPE_1  SYMPTOM_TYPE_0  DRUG_TYPE_6  \\\n",
              "0              2.0          1.0             1.0          1.0   \n",
              "1              NaN          NaN             NaN          NaN   \n",
              "2              NaN          NaN             NaN          NaN   \n",
              "3              NaN          NaN             NaN          NaN   \n",
              "4              NaN          NaN             NaN          NaN   \n",
              "...            ...          ...             ...          ...   \n",
              "17654          NaN          NaN             NaN          NaN   \n",
              "17655          1.0          NaN             NaN          3.0   \n",
              "17656          NaN          NaN             NaN          2.0   \n",
              "17657          NaN          NaN             NaN          NaN   \n",
              "17658          NaN          NaN             NaN          NaN   \n",
              "\n",
              "       DRUG_TYPE_2_time_last  ...  SYMPTOM_TYPE_22  SYMPTOM_TYPE_22_time_last  \\\n",
              "0                        0.0  ...              NaN                        NaN   \n",
              "1                        NaN  ...              NaN                        NaN   \n",
              "2                        NaN  ...              NaN                        NaN   \n",
              "3                       22.0  ...              NaN                        NaN   \n",
              "4                        NaN  ...              NaN                        NaN   \n",
              "...                      ...  ...              ...                        ...   \n",
              "17654                    NaN  ...              NaN                        NaN   \n",
              "17655                    NaN  ...              NaN                        NaN   \n",
              "17656                    NaN  ...              NaN                        NaN   \n",
              "17657                    NaN  ...              NaN                        NaN   \n",
              "17658                    NaN  ...              NaN                        NaN   \n",
              "\n",
              "       SYMPTOM_TYPE_21  SYMPTOM_TYPE_21_time_last  SYMPTOM_TYPE_23  \\\n",
              "0                  NaN                        NaN              NaN   \n",
              "1                  NaN                        NaN              NaN   \n",
              "2                  NaN                        NaN              NaN   \n",
              "3                  NaN                        NaN              NaN   \n",
              "4                  NaN                        NaN              NaN   \n",
              "...                ...                        ...              ...   \n",
              "17654              NaN                        NaN              NaN   \n",
              "17655              NaN                        NaN              NaN   \n",
              "17656              NaN                        NaN              NaN   \n",
              "17657              NaN                        NaN              NaN   \n",
              "17658              NaN                        NaN              NaN   \n",
              "\n",
              "       SYMPTOM_TYPE_23_time_last  SYMPTOM_TYPE_19  SYMPTOM_TYPE_19_time_last  \\\n",
              "0                            NaN              NaN                        NaN   \n",
              "1                            NaN              NaN                        NaN   \n",
              "2                            NaN              NaN                        NaN   \n",
              "3                            NaN              NaN                        NaN   \n",
              "4                            NaN              NaN                        NaN   \n",
              "...                          ...              ...                        ...   \n",
              "17654                        NaN              NaN                        NaN   \n",
              "17655                        NaN              NaN                        NaN   \n",
              "17656                        NaN              NaN                        NaN   \n",
              "17657                        NaN              NaN                        NaN   \n",
              "17658                        NaN              NaN                        NaN   \n",
              "\n",
              "      SYMPTOM_TYPE_27  SYMPTOM_TYPE_27_time_last  \n",
              "0                 NaN                        NaN  \n",
              "1                 NaN                        NaN  \n",
              "2                 NaN                        NaN  \n",
              "3                 NaN                        NaN  \n",
              "4                 NaN                        NaN  \n",
              "...               ...                        ...  \n",
              "17654             NaN                        NaN  \n",
              "17655             NaN                        NaN  \n",
              "17656             NaN                        NaN  \n",
              "17657             NaN                        NaN  \n",
              "17658             NaN                        NaN  \n",
              "\n",
              "[17659 rows x 105 columns]"
            ]
          },
          "execution_count": 204,
          "metadata": {},
          "output_type": "execute_result"
        }
      ],
      "source": [
        "df_last0"
      ],
      "id": "63f00f4b-9a5c-4db8-90fa-039a4b64904e"
    },
    {
      "cell_type": "code",
      "execution_count": null,
      "metadata": {
        "id": "1906d247-a767-4c95-8de3-b7add657e5b0"
      },
      "outputs": [],
      "source": [
        "df_last0.to_csv(\"df_last0.csv\")"
      ],
      "id": "1906d247-a767-4c95-8de3-b7add657e5b0"
    },
    {
      "cell_type": "code",
      "execution_count": null,
      "metadata": {
        "id": "ee2413a6-e357-4cdd-ac05-605e3bbfd0ea"
      },
      "outputs": [],
      "source": [
        "df_new=pd.read_csv(\"df_news.csv\")"
      ],
      "id": "ee2413a6-e357-4cdd-ac05-605e3bbfd0ea"
    },
    {
      "cell_type": "code",
      "execution_count": null,
      "metadata": {
        "id": "5c2d6ed1-98dd-4ee5-93a7-e9a7206fadc8"
      },
      "outputs": [],
      "source": [
        "df_new=df_new.drop([\"Unnamed: 0\"],axis=1)"
      ],
      "id": "5c2d6ed1-98dd-4ee5-93a7-e9a7206fadc8"
    },
    {
      "cell_type": "code",
      "execution_count": null,
      "metadata": {
        "id": "ffe5351d",
        "outputId": "c6a44161-d98e-4bbb-f32c-e4e98ca8b8fb"
      },
      "outputs": [
        {
          "ename": "NameError",
          "evalue": "name 'df_last0' is not defined",
          "output_type": "error",
          "traceback": [
            "\u001b[1;31m---------------------------------------------------------------------------\u001b[0m",
            "\u001b[1;31mNameError\u001b[0m                                 Traceback (most recent call last)",
            "Cell \u001b[1;32mIn [32], line 1\u001b[0m\n\u001b[1;32m----> 1\u001b[0m dfs\u001b[38;5;241m=\u001b[39mpd\u001b[38;5;241m.\u001b[39mconcat([df_new,\u001b[43mdf_last0\u001b[49m],ignore_index\u001b[38;5;241m=\u001b[39m\u001b[38;5;28;01mTrue\u001b[39;00m)\n",
            "\u001b[1;31mNameError\u001b[0m: name 'df_last0' is not defined"
          ]
        }
      ],
      "source": [
        "dfs=pd.concat([df_new,df_last0],ignore_index=True)"
      ],
      "id": "ffe5351d"
    },
    {
      "cell_type": "code",
      "execution_count": null,
      "metadata": {
        "id": "6345c3b8"
      },
      "outputs": [],
      "source": [
        "dfs"
      ],
      "id": "6345c3b8"
    },
    {
      "cell_type": "code",
      "execution_count": null,
      "metadata": {
        "id": "4787d1c2"
      },
      "outputs": [],
      "source": [
        "dfs.to_csv(\"last_csv.csv\",index_label=False)"
      ],
      "id": "4787d1c2"
    },
    {
      "cell_type": "code",
      "execution_count": null,
      "metadata": {
        "id": "1449bb01-e17a-43ba-806a-127e2fa85108"
      },
      "outputs": [],
      "source": [
        "dfs=pd.read_csv(\"last_csv.csv\")"
      ],
      "id": "1449bb01-e17a-43ba-806a-127e2fa85108"
    },
    {
      "cell_type": "code",
      "execution_count": null,
      "metadata": {
        "id": "54de3651"
      },
      "outputs": [],
      "source": [
        "dfs=dfs.drop([\"index\"],axis=1)"
      ],
      "id": "54de3651"
    },
    {
      "cell_type": "code",
      "execution_count": null,
      "metadata": {
        "id": "86b30f52",
        "outputId": "98ec78eb-760b-4835-d9fa-e927874a897c",
        "colab": {
          "base_uri": "https://localhost:8080/",
          "height": 1000
        }
      },
      "outputs": [
        {
          "output_type": "execute_result",
          "data": {
            "text/plain": [
              "       DRUG_TYPE_6  DRUG_TYPE_1  PRIMARY_DIAGNOSIS  DRUG_TYPE_6_time_last  \\\n",
              "0              1.0          1.0                1.0                    0.0   \n",
              "1              1.0          1.0                NaN                   17.0   \n",
              "2              NaN          NaN                NaN                    NaN   \n",
              "3              NaN          NaN                NaN                    NaN   \n",
              "4              NaN          NaN                NaN                    NaN   \n",
              "...            ...          ...                ...                    ...   \n",
              "27028          NaN          1.0                NaN                    NaN   \n",
              "27029          3.0          NaN                1.0                    0.0   \n",
              "27030          2.0          NaN                NaN                   28.0   \n",
              "27031          NaN          NaN                1.0                    NaN   \n",
              "27032          NaN          2.0                NaN                    NaN   \n",
              "\n",
              "       DRUG_TYPE_1_time_last  PRIMARY_DIAGNOSIS_time_last  classx  \\\n",
              "0                        8.0                          8.0     1.0   \n",
              "1                        3.0                          NaN     1.0   \n",
              "2                        NaN                          NaN     1.0   \n",
              "3                        NaN                          NaN     1.0   \n",
              "4                        NaN                          NaN     1.0   \n",
              "...                      ...                          ...     ...   \n",
              "27028                   21.0                          NaN     0.0   \n",
              "27029                    NaN                         22.0     0.0   \n",
              "27030                    NaN                          NaN     0.0   \n",
              "27031                    NaN                          0.0     0.0   \n",
              "27032                    0.0                          NaN     0.0   \n",
              "\n",
              "                                         id  DRUG_TYPE_7  TEST_TYPE_1  ...  \\\n",
              "0      a0eb742b-1c7c-11ec-8f61-16262ee38c7f          NaN          NaN  ...   \n",
              "1      a0edaf09-1c7c-11ec-a360-16262ee38c7f          2.0          1.0  ...   \n",
              "2      a0e9fa0e-1c7c-11ec-8dc7-16262ee38c7f          1.0          NaN  ...   \n",
              "3      a0ecc615-1c7c-11ec-aa31-16262ee38c7f          1.0          NaN  ...   \n",
              "4      a0ea612f-1c7c-11ec-8cf0-16262ee38c7f          NaN          NaN  ...   \n",
              "...                                     ...          ...          ...  ...   \n",
              "27028  a0e9c298-1c7c-11ec-954b-16262ee38c7f          NaN          NaN  ...   \n",
              "27029  a0e9c2c7-1c7c-11ec-9b2e-16262ee38c7f          NaN          NaN  ...   \n",
              "27030  a0e9c2f7-1c7c-11ec-8bac-16262ee38c7f          NaN          NaN  ...   \n",
              "27031  a0e9c325-1c7c-11ec-8885-16262ee38c7f          NaN          NaN  ...   \n",
              "27032  a0e9c354-1c7c-11ec-84f5-16262ee38c7f          NaN          NaN  ...   \n",
              "\n",
              "       SYMPTOM_TYPE_24  SYMPTOM_TYPE_24_time_last  SYMPTOM_TYPE_25  \\\n",
              "0                  NaN                        NaN              NaN   \n",
              "1                  NaN                        NaN              NaN   \n",
              "2                  NaN                        NaN              NaN   \n",
              "3                  NaN                        NaN              NaN   \n",
              "4                  NaN                        NaN              NaN   \n",
              "...                ...                        ...              ...   \n",
              "27028              NaN                        NaN              NaN   \n",
              "27029              NaN                        NaN              NaN   \n",
              "27030              NaN                        NaN              NaN   \n",
              "27031              NaN                        NaN              NaN   \n",
              "27032              NaN                        NaN              NaN   \n",
              "\n",
              "       SYMPTOM_TYPE_25_time_last  SYMPTOM_TYPE_21  SYMPTOM_TYPE_21_time_last  \\\n",
              "0                            NaN              NaN                        NaN   \n",
              "1                            NaN              NaN                        NaN   \n",
              "2                            NaN              NaN                        NaN   \n",
              "3                            NaN              NaN                        NaN   \n",
              "4                            NaN              NaN                        NaN   \n",
              "...                          ...              ...                        ...   \n",
              "27028                        NaN              NaN                        NaN   \n",
              "27029                        NaN              NaN                        NaN   \n",
              "27030                        NaN              NaN                        NaN   \n",
              "27031                        NaN              NaN                        NaN   \n",
              "27032                        NaN              NaN                        NaN   \n",
              "\n",
              "       SYMPTOM_TYPE_23  SYMPTOM_TYPE_23_time_last  SYMPTOM_TYPE_27  \\\n",
              "0                  NaN                        NaN              NaN   \n",
              "1                  NaN                        NaN              NaN   \n",
              "2                  NaN                        NaN              NaN   \n",
              "3                  NaN                        NaN              NaN   \n",
              "4                  NaN                        NaN              NaN   \n",
              "...                ...                        ...              ...   \n",
              "27028              NaN                        NaN              NaN   \n",
              "27029              NaN                        NaN              NaN   \n",
              "27030              NaN                        NaN              NaN   \n",
              "27031              NaN                        NaN              NaN   \n",
              "27032              NaN                        NaN              NaN   \n",
              "\n",
              "       SYMPTOM_TYPE_27_time_last  \n",
              "0                            NaN  \n",
              "1                            NaN  \n",
              "2                            NaN  \n",
              "3                            NaN  \n",
              "4                            NaN  \n",
              "...                          ...  \n",
              "27028                        NaN  \n",
              "27029                        NaN  \n",
              "27030                        NaN  \n",
              "27031                        NaN  \n",
              "27032                        NaN  \n",
              "\n",
              "[27033 rows x 110 columns]"
            ],
            "text/html": [
              "\n",
              "  <div id=\"df-5b8b4524-5cfc-45d4-9646-a383dcf5fba4\">\n",
              "    <div class=\"colab-df-container\">\n",
              "      <div>\n",
              "<style scoped>\n",
              "    .dataframe tbody tr th:only-of-type {\n",
              "        vertical-align: middle;\n",
              "    }\n",
              "\n",
              "    .dataframe tbody tr th {\n",
              "        vertical-align: top;\n",
              "    }\n",
              "\n",
              "    .dataframe thead th {\n",
              "        text-align: right;\n",
              "    }\n",
              "</style>\n",
              "<table border=\"1\" class=\"dataframe\">\n",
              "  <thead>\n",
              "    <tr style=\"text-align: right;\">\n",
              "      <th></th>\n",
              "      <th>DRUG_TYPE_6</th>\n",
              "      <th>DRUG_TYPE_1</th>\n",
              "      <th>PRIMARY_DIAGNOSIS</th>\n",
              "      <th>DRUG_TYPE_6_time_last</th>\n",
              "      <th>DRUG_TYPE_1_time_last</th>\n",
              "      <th>PRIMARY_DIAGNOSIS_time_last</th>\n",
              "      <th>classx</th>\n",
              "      <th>id</th>\n",
              "      <th>DRUG_TYPE_7</th>\n",
              "      <th>TEST_TYPE_1</th>\n",
              "      <th>...</th>\n",
              "      <th>SYMPTOM_TYPE_24</th>\n",
              "      <th>SYMPTOM_TYPE_24_time_last</th>\n",
              "      <th>SYMPTOM_TYPE_25</th>\n",
              "      <th>SYMPTOM_TYPE_25_time_last</th>\n",
              "      <th>SYMPTOM_TYPE_21</th>\n",
              "      <th>SYMPTOM_TYPE_21_time_last</th>\n",
              "      <th>SYMPTOM_TYPE_23</th>\n",
              "      <th>SYMPTOM_TYPE_23_time_last</th>\n",
              "      <th>SYMPTOM_TYPE_27</th>\n",
              "      <th>SYMPTOM_TYPE_27_time_last</th>\n",
              "    </tr>\n",
              "  </thead>\n",
              "  <tbody>\n",
              "    <tr>\n",
              "      <th>0</th>\n",
              "      <td>1.0</td>\n",
              "      <td>1.0</td>\n",
              "      <td>1.0</td>\n",
              "      <td>0.0</td>\n",
              "      <td>8.0</td>\n",
              "      <td>8.0</td>\n",
              "      <td>1.0</td>\n",
              "      <td>a0eb742b-1c7c-11ec-8f61-16262ee38c7f</td>\n",
              "      <td>NaN</td>\n",
              "      <td>NaN</td>\n",
              "      <td>...</td>\n",
              "      <td>NaN</td>\n",
              "      <td>NaN</td>\n",
              "      <td>NaN</td>\n",
              "      <td>NaN</td>\n",
              "      <td>NaN</td>\n",
              "      <td>NaN</td>\n",
              "      <td>NaN</td>\n",
              "      <td>NaN</td>\n",
              "      <td>NaN</td>\n",
              "      <td>NaN</td>\n",
              "    </tr>\n",
              "    <tr>\n",
              "      <th>1</th>\n",
              "      <td>1.0</td>\n",
              "      <td>1.0</td>\n",
              "      <td>NaN</td>\n",
              "      <td>17.0</td>\n",
              "      <td>3.0</td>\n",
              "      <td>NaN</td>\n",
              "      <td>1.0</td>\n",
              "      <td>a0edaf09-1c7c-11ec-a360-16262ee38c7f</td>\n",
              "      <td>2.0</td>\n",
              "      <td>1.0</td>\n",
              "      <td>...</td>\n",
              "      <td>NaN</td>\n",
              "      <td>NaN</td>\n",
              "      <td>NaN</td>\n",
              "      <td>NaN</td>\n",
              "      <td>NaN</td>\n",
              "      <td>NaN</td>\n",
              "      <td>NaN</td>\n",
              "      <td>NaN</td>\n",
              "      <td>NaN</td>\n",
              "      <td>NaN</td>\n",
              "    </tr>\n",
              "    <tr>\n",
              "      <th>2</th>\n",
              "      <td>NaN</td>\n",
              "      <td>NaN</td>\n",
              "      <td>NaN</td>\n",
              "      <td>NaN</td>\n",
              "      <td>NaN</td>\n",
              "      <td>NaN</td>\n",
              "      <td>1.0</td>\n",
              "      <td>a0e9fa0e-1c7c-11ec-8dc7-16262ee38c7f</td>\n",
              "      <td>1.0</td>\n",
              "      <td>NaN</td>\n",
              "      <td>...</td>\n",
              "      <td>NaN</td>\n",
              "      <td>NaN</td>\n",
              "      <td>NaN</td>\n",
              "      <td>NaN</td>\n",
              "      <td>NaN</td>\n",
              "      <td>NaN</td>\n",
              "      <td>NaN</td>\n",
              "      <td>NaN</td>\n",
              "      <td>NaN</td>\n",
              "      <td>NaN</td>\n",
              "    </tr>\n",
              "    <tr>\n",
              "      <th>3</th>\n",
              "      <td>NaN</td>\n",
              "      <td>NaN</td>\n",
              "      <td>NaN</td>\n",
              "      <td>NaN</td>\n",
              "      <td>NaN</td>\n",
              "      <td>NaN</td>\n",
              "      <td>1.0</td>\n",
              "      <td>a0ecc615-1c7c-11ec-aa31-16262ee38c7f</td>\n",
              "      <td>1.0</td>\n",
              "      <td>NaN</td>\n",
              "      <td>...</td>\n",
              "      <td>NaN</td>\n",
              "      <td>NaN</td>\n",
              "      <td>NaN</td>\n",
              "      <td>NaN</td>\n",
              "      <td>NaN</td>\n",
              "      <td>NaN</td>\n",
              "      <td>NaN</td>\n",
              "      <td>NaN</td>\n",
              "      <td>NaN</td>\n",
              "      <td>NaN</td>\n",
              "    </tr>\n",
              "    <tr>\n",
              "      <th>4</th>\n",
              "      <td>NaN</td>\n",
              "      <td>NaN</td>\n",
              "      <td>NaN</td>\n",
              "      <td>NaN</td>\n",
              "      <td>NaN</td>\n",
              "      <td>NaN</td>\n",
              "      <td>1.0</td>\n",
              "      <td>a0ea612f-1c7c-11ec-8cf0-16262ee38c7f</td>\n",
              "      <td>NaN</td>\n",
              "      <td>NaN</td>\n",
              "      <td>...</td>\n",
              "      <td>NaN</td>\n",
              "      <td>NaN</td>\n",
              "      <td>NaN</td>\n",
              "      <td>NaN</td>\n",
              "      <td>NaN</td>\n",
              "      <td>NaN</td>\n",
              "      <td>NaN</td>\n",
              "      <td>NaN</td>\n",
              "      <td>NaN</td>\n",
              "      <td>NaN</td>\n",
              "    </tr>\n",
              "    <tr>\n",
              "      <th>...</th>\n",
              "      <td>...</td>\n",
              "      <td>...</td>\n",
              "      <td>...</td>\n",
              "      <td>...</td>\n",
              "      <td>...</td>\n",
              "      <td>...</td>\n",
              "      <td>...</td>\n",
              "      <td>...</td>\n",
              "      <td>...</td>\n",
              "      <td>...</td>\n",
              "      <td>...</td>\n",
              "      <td>...</td>\n",
              "      <td>...</td>\n",
              "      <td>...</td>\n",
              "      <td>...</td>\n",
              "      <td>...</td>\n",
              "      <td>...</td>\n",
              "      <td>...</td>\n",
              "      <td>...</td>\n",
              "      <td>...</td>\n",
              "      <td>...</td>\n",
              "    </tr>\n",
              "    <tr>\n",
              "      <th>27028</th>\n",
              "      <td>NaN</td>\n",
              "      <td>1.0</td>\n",
              "      <td>NaN</td>\n",
              "      <td>NaN</td>\n",
              "      <td>21.0</td>\n",
              "      <td>NaN</td>\n",
              "      <td>0.0</td>\n",
              "      <td>a0e9c298-1c7c-11ec-954b-16262ee38c7f</td>\n",
              "      <td>NaN</td>\n",
              "      <td>NaN</td>\n",
              "      <td>...</td>\n",
              "      <td>NaN</td>\n",
              "      <td>NaN</td>\n",
              "      <td>NaN</td>\n",
              "      <td>NaN</td>\n",
              "      <td>NaN</td>\n",
              "      <td>NaN</td>\n",
              "      <td>NaN</td>\n",
              "      <td>NaN</td>\n",
              "      <td>NaN</td>\n",
              "      <td>NaN</td>\n",
              "    </tr>\n",
              "    <tr>\n",
              "      <th>27029</th>\n",
              "      <td>3.0</td>\n",
              "      <td>NaN</td>\n",
              "      <td>1.0</td>\n",
              "      <td>0.0</td>\n",
              "      <td>NaN</td>\n",
              "      <td>22.0</td>\n",
              "      <td>0.0</td>\n",
              "      <td>a0e9c2c7-1c7c-11ec-9b2e-16262ee38c7f</td>\n",
              "      <td>NaN</td>\n",
              "      <td>NaN</td>\n",
              "      <td>...</td>\n",
              "      <td>NaN</td>\n",
              "      <td>NaN</td>\n",
              "      <td>NaN</td>\n",
              "      <td>NaN</td>\n",
              "      <td>NaN</td>\n",
              "      <td>NaN</td>\n",
              "      <td>NaN</td>\n",
              "      <td>NaN</td>\n",
              "      <td>NaN</td>\n",
              "      <td>NaN</td>\n",
              "    </tr>\n",
              "    <tr>\n",
              "      <th>27030</th>\n",
              "      <td>2.0</td>\n",
              "      <td>NaN</td>\n",
              "      <td>NaN</td>\n",
              "      <td>28.0</td>\n",
              "      <td>NaN</td>\n",
              "      <td>NaN</td>\n",
              "      <td>0.0</td>\n",
              "      <td>a0e9c2f7-1c7c-11ec-8bac-16262ee38c7f</td>\n",
              "      <td>NaN</td>\n",
              "      <td>NaN</td>\n",
              "      <td>...</td>\n",
              "      <td>NaN</td>\n",
              "      <td>NaN</td>\n",
              "      <td>NaN</td>\n",
              "      <td>NaN</td>\n",
              "      <td>NaN</td>\n",
              "      <td>NaN</td>\n",
              "      <td>NaN</td>\n",
              "      <td>NaN</td>\n",
              "      <td>NaN</td>\n",
              "      <td>NaN</td>\n",
              "    </tr>\n",
              "    <tr>\n",
              "      <th>27031</th>\n",
              "      <td>NaN</td>\n",
              "      <td>NaN</td>\n",
              "      <td>1.0</td>\n",
              "      <td>NaN</td>\n",
              "      <td>NaN</td>\n",
              "      <td>0.0</td>\n",
              "      <td>0.0</td>\n",
              "      <td>a0e9c325-1c7c-11ec-8885-16262ee38c7f</td>\n",
              "      <td>NaN</td>\n",
              "      <td>NaN</td>\n",
              "      <td>...</td>\n",
              "      <td>NaN</td>\n",
              "      <td>NaN</td>\n",
              "      <td>NaN</td>\n",
              "      <td>NaN</td>\n",
              "      <td>NaN</td>\n",
              "      <td>NaN</td>\n",
              "      <td>NaN</td>\n",
              "      <td>NaN</td>\n",
              "      <td>NaN</td>\n",
              "      <td>NaN</td>\n",
              "    </tr>\n",
              "    <tr>\n",
              "      <th>27032</th>\n",
              "      <td>NaN</td>\n",
              "      <td>2.0</td>\n",
              "      <td>NaN</td>\n",
              "      <td>NaN</td>\n",
              "      <td>0.0</td>\n",
              "      <td>NaN</td>\n",
              "      <td>0.0</td>\n",
              "      <td>a0e9c354-1c7c-11ec-84f5-16262ee38c7f</td>\n",
              "      <td>NaN</td>\n",
              "      <td>NaN</td>\n",
              "      <td>...</td>\n",
              "      <td>NaN</td>\n",
              "      <td>NaN</td>\n",
              "      <td>NaN</td>\n",
              "      <td>NaN</td>\n",
              "      <td>NaN</td>\n",
              "      <td>NaN</td>\n",
              "      <td>NaN</td>\n",
              "      <td>NaN</td>\n",
              "      <td>NaN</td>\n",
              "      <td>NaN</td>\n",
              "    </tr>\n",
              "  </tbody>\n",
              "</table>\n",
              "<p>27033 rows × 110 columns</p>\n",
              "</div>\n",
              "      <button class=\"colab-df-convert\" onclick=\"convertToInteractive('df-5b8b4524-5cfc-45d4-9646-a383dcf5fba4')\"\n",
              "              title=\"Convert this dataframe to an interactive table.\"\n",
              "              style=\"display:none;\">\n",
              "        \n",
              "  <svg xmlns=\"http://www.w3.org/2000/svg\" height=\"24px\"viewBox=\"0 0 24 24\"\n",
              "       width=\"24px\">\n",
              "    <path d=\"M0 0h24v24H0V0z\" fill=\"none\"/>\n",
              "    <path d=\"M18.56 5.44l.94 2.06.94-2.06 2.06-.94-2.06-.94-.94-2.06-.94 2.06-2.06.94zm-11 1L8.5 8.5l.94-2.06 2.06-.94-2.06-.94L8.5 2.5l-.94 2.06-2.06.94zm10 10l.94 2.06.94-2.06 2.06-.94-2.06-.94-.94-2.06-.94 2.06-2.06.94z\"/><path d=\"M17.41 7.96l-1.37-1.37c-.4-.4-.92-.59-1.43-.59-.52 0-1.04.2-1.43.59L10.3 9.45l-7.72 7.72c-.78.78-.78 2.05 0 2.83L4 21.41c.39.39.9.59 1.41.59.51 0 1.02-.2 1.41-.59l7.78-7.78 2.81-2.81c.8-.78.8-2.07 0-2.86zM5.41 20L4 18.59l7.72-7.72 1.47 1.35L5.41 20z\"/>\n",
              "  </svg>\n",
              "      </button>\n",
              "      \n",
              "  <style>\n",
              "    .colab-df-container {\n",
              "      display:flex;\n",
              "      flex-wrap:wrap;\n",
              "      gap: 12px;\n",
              "    }\n",
              "\n",
              "    .colab-df-convert {\n",
              "      background-color: #E8F0FE;\n",
              "      border: none;\n",
              "      border-radius: 50%;\n",
              "      cursor: pointer;\n",
              "      display: none;\n",
              "      fill: #1967D2;\n",
              "      height: 32px;\n",
              "      padding: 0 0 0 0;\n",
              "      width: 32px;\n",
              "    }\n",
              "\n",
              "    .colab-df-convert:hover {\n",
              "      background-color: #E2EBFA;\n",
              "      box-shadow: 0px 1px 2px rgba(60, 64, 67, 0.3), 0px 1px 3px 1px rgba(60, 64, 67, 0.15);\n",
              "      fill: #174EA6;\n",
              "    }\n",
              "\n",
              "    [theme=dark] .colab-df-convert {\n",
              "      background-color: #3B4455;\n",
              "      fill: #D2E3FC;\n",
              "    }\n",
              "\n",
              "    [theme=dark] .colab-df-convert:hover {\n",
              "      background-color: #434B5C;\n",
              "      box-shadow: 0px 1px 3px 1px rgba(0, 0, 0, 0.15);\n",
              "      filter: drop-shadow(0px 1px 2px rgba(0, 0, 0, 0.3));\n",
              "      fill: #FFFFFF;\n",
              "    }\n",
              "  </style>\n",
              "\n",
              "      <script>\n",
              "        const buttonEl =\n",
              "          document.querySelector('#df-5b8b4524-5cfc-45d4-9646-a383dcf5fba4 button.colab-df-convert');\n",
              "        buttonEl.style.display =\n",
              "          google.colab.kernel.accessAllowed ? 'block' : 'none';\n",
              "\n",
              "        async function convertToInteractive(key) {\n",
              "          const element = document.querySelector('#df-5b8b4524-5cfc-45d4-9646-a383dcf5fba4');\n",
              "          const dataTable =\n",
              "            await google.colab.kernel.invokeFunction('convertToInteractive',\n",
              "                                                     [key], {});\n",
              "          if (!dataTable) return;\n",
              "\n",
              "          const docLinkHtml = 'Like what you see? Visit the ' +\n",
              "            '<a target=\"_blank\" href=https://colab.research.google.com/notebooks/data_table.ipynb>data table notebook</a>'\n",
              "            + ' to learn more about interactive tables.';\n",
              "          element.innerHTML = '';\n",
              "          dataTable['output_type'] = 'display_data';\n",
              "          await google.colab.output.renderOutput(dataTable, element);\n",
              "          const docLink = document.createElement('div');\n",
              "          docLink.innerHTML = docLinkHtml;\n",
              "          element.appendChild(docLink);\n",
              "        }\n",
              "      </script>\n",
              "    </div>\n",
              "  </div>\n",
              "  "
            ]
          },
          "metadata": {},
          "execution_count": 45
        }
      ],
      "source": [
        "dfs"
      ],
      "id": "86b30f52"
    },
    {
      "cell_type": "code",
      "execution_count": null,
      "metadata": {
        "id": "dedd3b44"
      },
      "outputs": [],
      "source": [
        "nan_replace_value={}\n",
        "for i in df.Incident.unique()[:-1]:\n",
        "    nan_replace_value[i]=0\n",
        ""
      ],
      "id": "dedd3b44"
    },
    {
      "cell_type": "code",
      "execution_count": null,
      "metadata": {
        "id": "aa2a3a8e"
      },
      "outputs": [],
      "source": [
        "df6=dfs.fillna(nan_replace_value)"
      ],
      "id": "aa2a3a8e"
    },
    {
      "cell_type": "code",
      "execution_count": null,
      "metadata": {
        "id": "abaa270d",
        "outputId": "98b666cb-3549-45b2-9ceb-b8e7b21a944c",
        "colab": {
          "base_uri": "https://localhost:8080/"
        }
      },
      "outputs": [
        {
          "output_type": "execute_result",
          "data": {
            "text/plain": [
              "DRUG_TYPE_6                      0\n",
              "DRUG_TYPE_1                      0\n",
              "PRIMARY_DIAGNOSIS                0\n",
              "DRUG_TYPE_6_time_last        16948\n",
              "DRUG_TYPE_1_time_last        18070\n",
              "                             ...  \n",
              "SYMPTOM_TYPE_21_time_last    27022\n",
              "SYMPTOM_TYPE_23                  0\n",
              "SYMPTOM_TYPE_23_time_last    27032\n",
              "SYMPTOM_TYPE_27                  0\n",
              "SYMPTOM_TYPE_27_time_last    27032\n",
              "Length: 110, dtype: int64"
            ]
          },
          "metadata": {},
          "execution_count": 48
        }
      ],
      "source": [
        "df6.isnull().sum()"
      ],
      "id": "abaa270d"
    },
    {
      "cell_type": "code",
      "execution_count": null,
      "metadata": {
        "id": "bd536db1"
      },
      "outputs": [],
      "source": [
        "dfv=pd.DataFrame(df6.isnull().sum())"
      ],
      "id": "bd536db1"
    },
    {
      "cell_type": "code",
      "execution_count": null,
      "metadata": {
        "id": "d81bb6dc"
      },
      "outputs": [],
      "source": [
        "valindex=dfv[df6.isnull().sum()<10000].index"
      ],
      "id": "d81bb6dc"
    },
    {
      "cell_type": "code",
      "execution_count": null,
      "metadata": {
        "id": "5cd02b50"
      },
      "outputs": [],
      "source": [
        "df7=df6[valindex]"
      ],
      "id": "5cd02b50"
    },
    {
      "cell_type": "code",
      "execution_count": null,
      "metadata": {
        "id": "4579419d"
      },
      "outputs": [],
      "source": [
        "df8=df7.dropna()"
      ],
      "id": "4579419d"
    },
    {
      "cell_type": "code",
      "execution_count": null,
      "metadata": {
        "id": "29c10b99",
        "outputId": "cf28506b-8999-43ad-d23e-273124177e73",
        "colab": {
          "base_uri": "https://localhost:8080/"
        }
      },
      "outputs": [
        {
          "output_type": "execute_result",
          "data": {
            "text/plain": [
              "DRUG_TYPE_6          0\n",
              "DRUG_TYPE_1          0\n",
              "PRIMARY_DIAGNOSIS    0\n",
              "classx               0\n",
              "id                   0\n",
              "DRUG_TYPE_7          0\n",
              "TEST_TYPE_1          0\n",
              "DRUG_TYPE_9          0\n",
              "TEST_TYPE_3          0\n",
              "DRUG_TYPE_3          0\n",
              "TEST_TYPE_2          0\n",
              "DRUG_TYPE_5          0\n",
              "DRUG_TYPE_2          0\n",
              "DRUG_TYPE_15         0\n",
              "DRUG_TYPE_8          0\n",
              "DRUG_TYPE_10         0\n",
              "DRUG_TYPE_11         0\n",
              "SYMPTOM_TYPE_6       0\n",
              "DRUG_TYPE_0          0\n",
              "DRUG_TYPE_14         0\n",
              "SYMPTOM_TYPE_11      0\n",
              "SYMPTOM_TYPE_0       0\n",
              "TEST_TYPE_0          0\n",
              "SYMPTOM_TYPE_16      0\n",
              "SYMPTOM_TYPE_8       0\n",
              "DRUG_TYPE_13         0\n",
              "SYMPTOM_TYPE_5       0\n",
              "SYMPTOM_TYPE_2       0\n",
              "DRUG_TYPE_12         0\n",
              "SYMPTOM_TYPE_1       0\n",
              "SYMPTOM_TYPE_17      0\n",
              "SYMPTOM_TYPE_7       0\n",
              "SYMPTOM_TYPE_4       0\n",
              "SYMPTOM_TYPE_13      0\n",
              "SYMPTOM_TYPE_9       0\n",
              "SYMPTOM_TYPE_29      0\n",
              "SYMPTOM_TYPE_12      0\n",
              "SYMPTOM_TYPE_15      0\n",
              "SYMPTOM_TYPE_14      0\n",
              "SYMPTOM_TYPE_10      0\n",
              "SYMPTOM_TYPE_3       0\n",
              "TEST_TYPE_4          0\n",
              "DRUG_TYPE_4          0\n",
              "TEST_TYPE_5          0\n",
              "SYMPTOM_TYPE_20      0\n",
              "SYMPTOM_TYPE_18      0\n",
              "DRUG_TYPE_16         0\n",
              "SYMPTOM_TYPE_19      0\n",
              "SYMPTOM_TYPE_22      0\n",
              "DRUG_TYPE_17         0\n",
              "SYMPTOM_TYPE_26      0\n",
              "SYMPTOM_TYPE_24      0\n",
              "SYMPTOM_TYPE_25      0\n",
              "SYMPTOM_TYPE_21      0\n",
              "SYMPTOM_TYPE_23      0\n",
              "SYMPTOM_TYPE_27      0\n",
              "dtype: int64"
            ]
          },
          "metadata": {},
          "execution_count": 53
        }
      ],
      "source": [
        "df8.isnull().sum()"
      ],
      "id": "29c10b99"
    },
    {
      "cell_type": "code",
      "execution_count": null,
      "metadata": {
        "id": "b1e2d4a5",
        "outputId": "c1cfa52e-2d62-4e6b-9ac3-5c0ee3a96f0e",
        "scrolled": true,
        "colab": {
          "base_uri": "https://localhost:8080/"
        }
      },
      "outputs": [
        {
          "output_type": "execute_result",
          "data": {
            "text/plain": [
              "0.0    17659\n",
              "1.0     7840\n",
              "Name: classx, dtype: int64"
            ]
          },
          "metadata": {},
          "execution_count": 54
        }
      ],
      "source": [
        "df8.classx.value_counts()"
      ],
      "id": "b1e2d4a5"
    },
    {
      "cell_type": "code",
      "execution_count": null,
      "metadata": {
        "id": "38a07db2"
      },
      "outputs": [],
      "source": [
        "import seaborn as sns"
      ],
      "id": "38a07db2"
    },
    {
      "cell_type": "code",
      "execution_count": null,
      "metadata": {
        "id": "ebd86490-e3f3-4908-b037-e384b2f8f35e",
        "outputId": "df916f69-de10-4b45-cb7b-6d1da6e38ba9",
        "colab": {
          "base_uri": "https://localhost:8080/"
        }
      },
      "outputs": [
        {
          "output_type": "execute_result",
          "data": {
            "text/plain": [
              "Index(['DRUG_TYPE_6', 'DRUG_TYPE_1', 'PRIMARY_DIAGNOSIS', 'classx', 'id',\n",
              "       'DRUG_TYPE_7', 'TEST_TYPE_1', 'DRUG_TYPE_9', 'TEST_TYPE_3',\n",
              "       'DRUG_TYPE_3', 'TEST_TYPE_2', 'DRUG_TYPE_5', 'DRUG_TYPE_2',\n",
              "       'DRUG_TYPE_15', 'DRUG_TYPE_8', 'DRUG_TYPE_10', 'DRUG_TYPE_11',\n",
              "       'SYMPTOM_TYPE_6', 'DRUG_TYPE_0', 'DRUG_TYPE_14', 'SYMPTOM_TYPE_11',\n",
              "       'SYMPTOM_TYPE_0', 'TEST_TYPE_0', 'SYMPTOM_TYPE_16', 'SYMPTOM_TYPE_8',\n",
              "       'DRUG_TYPE_13', 'SYMPTOM_TYPE_5', 'SYMPTOM_TYPE_2', 'DRUG_TYPE_12',\n",
              "       'SYMPTOM_TYPE_1', 'SYMPTOM_TYPE_17', 'SYMPTOM_TYPE_7', 'SYMPTOM_TYPE_4',\n",
              "       'SYMPTOM_TYPE_13', 'SYMPTOM_TYPE_9', 'SYMPTOM_TYPE_29',\n",
              "       'SYMPTOM_TYPE_12', 'SYMPTOM_TYPE_15', 'SYMPTOM_TYPE_14',\n",
              "       'SYMPTOM_TYPE_10', 'SYMPTOM_TYPE_3', 'TEST_TYPE_4', 'DRUG_TYPE_4',\n",
              "       'TEST_TYPE_5', 'SYMPTOM_TYPE_20', 'SYMPTOM_TYPE_18', 'DRUG_TYPE_16',\n",
              "       'SYMPTOM_TYPE_19', 'SYMPTOM_TYPE_22', 'DRUG_TYPE_17', 'SYMPTOM_TYPE_26',\n",
              "       'SYMPTOM_TYPE_24', 'SYMPTOM_TYPE_25', 'SYMPTOM_TYPE_21',\n",
              "       'SYMPTOM_TYPE_23', 'SYMPTOM_TYPE_27'],\n",
              "      dtype='object')"
            ]
          },
          "metadata": {},
          "execution_count": 56
        }
      ],
      "source": [
        "df8.columns"
      ],
      "id": "ebd86490-e3f3-4908-b037-e384b2f8f35e"
    },
    {
      "cell_type": "code",
      "execution_count": null,
      "metadata": {
        "id": "f96205ce-59cf-41cc-9eb7-ba1f946a2d81"
      },
      "outputs": [],
      "source": [
        "X=df8.drop(['classx', 'id'],axis=1)"
      ],
      "id": "f96205ce-59cf-41cc-9eb7-ba1f946a2d81"
    },
    {
      "cell_type": "code",
      "execution_count": null,
      "metadata": {
        "id": "aceb5074-5325-4c53-986c-3704d618939b"
      },
      "outputs": [],
      "source": [
        "y=df8.classx"
      ],
      "id": "aceb5074-5325-4c53-986c-3704d618939b"
    },
    {
      "cell_type": "code",
      "execution_count": null,
      "metadata": {
        "id": "a1135513-355e-4e5b-839d-ace9eeb0a613",
        "outputId": "4e81060b-6f2c-4395-df3f-f795a9651b4f",
        "colab": {
          "base_uri": "https://localhost:8080/"
        }
      },
      "outputs": [
        {
          "output_type": "stream",
          "name": "stdout",
          "text": [
            "Looking in indexes: https://pypi.org/simple, https://us-python.pkg.dev/colab-wheels/public/simple/\n",
            "Requirement already satisfied: imblearn in /usr/local/lib/python3.8/dist-packages (0.0)\n",
            "Requirement already satisfied: imbalanced-learn in /usr/local/lib/python3.8/dist-packages (from imblearn) (0.8.1)\n",
            "Requirement already satisfied: scipy>=0.19.1 in /usr/local/lib/python3.8/dist-packages (from imbalanced-learn->imblearn) (1.7.3)\n",
            "Requirement already satisfied: numpy>=1.13.3 in /usr/local/lib/python3.8/dist-packages (from imbalanced-learn->imblearn) (1.21.6)\n",
            "Requirement already satisfied: joblib>=0.11 in /usr/local/lib/python3.8/dist-packages (from imbalanced-learn->imblearn) (1.2.0)\n",
            "Requirement already satisfied: scikit-learn>=0.24 in /usr/local/lib/python3.8/dist-packages (from imbalanced-learn->imblearn) (1.0.2)\n",
            "Requirement already satisfied: threadpoolctl>=2.0.0 in /usr/local/lib/python3.8/dist-packages (from scikit-learn>=0.24->imbalanced-learn->imblearn) (3.1.0)\n"
          ]
        }
      ],
      "source": [
        "!pip install imblearn"
      ],
      "id": "a1135513-355e-4e5b-839d-ace9eeb0a613"
    },
    {
      "cell_type": "code",
      "execution_count": null,
      "metadata": {
        "id": "12e5af85-405c-420e-9136-996fb0e741b1"
      },
      "outputs": [],
      "source": [
        "important_indices=[10,  2,  7, 16,  0,  1,  3, 12,  5,  4]"
      ],
      "id": "12e5af85-405c-420e-9136-996fb0e741b1"
    },
    {
      "cell_type": "code",
      "execution_count": null,
      "metadata": {
        "id": "eaa0d17f-826b-44c0-b53d-752d311e632e"
      },
      "outputs": [],
      "source": [
        "X = X.iloc[:, important_indices]"
      ],
      "id": "eaa0d17f-826b-44c0-b53d-752d311e632e"
    },
    {
      "cell_type": "code",
      "execution_count": null,
      "metadata": {
        "id": "378ccd44-9afe-4115-b6ff-9f395907e6d4"
      },
      "outputs": [],
      "source": [
        "from imblearn.over_sampling import SMOTE\n",
        "smote = SMOTE(sampling_strategy='minority')\n",
        "X_smt, y_smt = smote.fit_resample(X, y)\n",
        "\n"
      ],
      "id": "378ccd44-9afe-4115-b6ff-9f395907e6d4"
    },
    {
      "cell_type": "code",
      "execution_count": null,
      "metadata": {
        "id": "426646a4-d54d-4ff4-b852-56f43aaacb63",
        "outputId": "baf8de6d-efb8-4fa3-b4d2-bfc863a43c12",
        "colab": {
          "base_uri": "https://localhost:8080/"
        }
      },
      "outputs": [
        {
          "output_type": "execute_result",
          "data": {
            "text/plain": [
              "1.0    17659\n",
              "0.0    17659\n",
              "Name: classx, dtype: int64"
            ]
          },
          "metadata": {},
          "execution_count": 129
        }
      ],
      "source": [
        "y_smt.value_counts()"
      ],
      "id": "426646a4-d54d-4ff4-b852-56f43aaacb63"
    },
    {
      "cell_type": "code",
      "execution_count": null,
      "metadata": {
        "id": "96211971-37b8-4735-9aff-7386d25c0c72",
        "outputId": "9558fa1b-67bf-4f7d-bc5a-2d7be261bc7a",
        "colab": {
          "base_uri": "https://localhost:8080/"
        }
      },
      "outputs": [
        {
          "output_type": "execute_result",
          "data": {
            "text/plain": [
              "0.0    17659\n",
              "1.0     7840\n",
              "Name: classx, dtype: int64"
            ]
          },
          "metadata": {},
          "execution_count": 130
        }
      ],
      "source": [
        "y.value_counts()"
      ],
      "id": "96211971-37b8-4735-9aff-7386d25c0c72"
    },
    {
      "cell_type": "code",
      "execution_count": null,
      "metadata": {
        "id": "e87fb636",
        "outputId": "92882469-a715-46a6-afc2-2cbbc3c71cc9",
        "colab": {
          "base_uri": "https://localhost:8080/",
          "height": 423
        }
      },
      "outputs": [
        {
          "output_type": "execute_result",
          "data": {
            "text/plain": [
              "       DRUG_TYPE_2  PRIMARY_DIAGNOSIS  DRUG_TYPE_3  DRUG_TYPE_0  DRUG_TYPE_6  \\\n",
              "0              0.0                1.0          0.0          0.0          1.0   \n",
              "1              0.0                0.0          0.0          0.0          1.0   \n",
              "2              0.0                0.0          0.0          0.0          0.0   \n",
              "3              0.0                0.0          0.0          0.0          0.0   \n",
              "4              0.0                0.0          1.0          0.0          0.0   \n",
              "...            ...                ...          ...          ...          ...   \n",
              "27028          0.0                0.0          0.0          0.0          0.0   \n",
              "27029          0.0                1.0          0.0          1.0          3.0   \n",
              "27030          0.0                0.0          0.0          0.0          2.0   \n",
              "27031          0.0                1.0          0.0          3.0          0.0   \n",
              "27032          0.0                0.0          0.0          0.0          0.0   \n",
              "\n",
              "       DRUG_TYPE_1  DRUG_TYPE_7  DRUG_TYPE_8  DRUG_TYPE_9  TEST_TYPE_1  \n",
              "0              1.0          0.0          0.0          0.0          0.0  \n",
              "1              1.0          2.0          0.0          1.0          1.0  \n",
              "2              0.0          1.0          0.0          0.0          0.0  \n",
              "3              0.0          1.0          0.0          0.0          0.0  \n",
              "4              0.0          0.0          0.0          0.0          0.0  \n",
              "...            ...          ...          ...          ...          ...  \n",
              "27028          1.0          0.0          0.0          0.0          0.0  \n",
              "27029          0.0          0.0          0.0          0.0          0.0  \n",
              "27030          0.0          0.0          0.0          0.0          0.0  \n",
              "27031          0.0          0.0          0.0          0.0          0.0  \n",
              "27032          2.0          0.0          0.0          0.0          0.0  \n",
              "\n",
              "[25499 rows x 10 columns]"
            ],
            "text/html": [
              "\n",
              "  <div id=\"df-385b10de-b408-465e-990e-94c5425d0ff9\">\n",
              "    <div class=\"colab-df-container\">\n",
              "      <div>\n",
              "<style scoped>\n",
              "    .dataframe tbody tr th:only-of-type {\n",
              "        vertical-align: middle;\n",
              "    }\n",
              "\n",
              "    .dataframe tbody tr th {\n",
              "        vertical-align: top;\n",
              "    }\n",
              "\n",
              "    .dataframe thead th {\n",
              "        text-align: right;\n",
              "    }\n",
              "</style>\n",
              "<table border=\"1\" class=\"dataframe\">\n",
              "  <thead>\n",
              "    <tr style=\"text-align: right;\">\n",
              "      <th></th>\n",
              "      <th>DRUG_TYPE_2</th>\n",
              "      <th>PRIMARY_DIAGNOSIS</th>\n",
              "      <th>DRUG_TYPE_3</th>\n",
              "      <th>DRUG_TYPE_0</th>\n",
              "      <th>DRUG_TYPE_6</th>\n",
              "      <th>DRUG_TYPE_1</th>\n",
              "      <th>DRUG_TYPE_7</th>\n",
              "      <th>DRUG_TYPE_8</th>\n",
              "      <th>DRUG_TYPE_9</th>\n",
              "      <th>TEST_TYPE_1</th>\n",
              "    </tr>\n",
              "  </thead>\n",
              "  <tbody>\n",
              "    <tr>\n",
              "      <th>0</th>\n",
              "      <td>0.0</td>\n",
              "      <td>1.0</td>\n",
              "      <td>0.0</td>\n",
              "      <td>0.0</td>\n",
              "      <td>1.0</td>\n",
              "      <td>1.0</td>\n",
              "      <td>0.0</td>\n",
              "      <td>0.0</td>\n",
              "      <td>0.0</td>\n",
              "      <td>0.0</td>\n",
              "    </tr>\n",
              "    <tr>\n",
              "      <th>1</th>\n",
              "      <td>0.0</td>\n",
              "      <td>0.0</td>\n",
              "      <td>0.0</td>\n",
              "      <td>0.0</td>\n",
              "      <td>1.0</td>\n",
              "      <td>1.0</td>\n",
              "      <td>2.0</td>\n",
              "      <td>0.0</td>\n",
              "      <td>1.0</td>\n",
              "      <td>1.0</td>\n",
              "    </tr>\n",
              "    <tr>\n",
              "      <th>2</th>\n",
              "      <td>0.0</td>\n",
              "      <td>0.0</td>\n",
              "      <td>0.0</td>\n",
              "      <td>0.0</td>\n",
              "      <td>0.0</td>\n",
              "      <td>0.0</td>\n",
              "      <td>1.0</td>\n",
              "      <td>0.0</td>\n",
              "      <td>0.0</td>\n",
              "      <td>0.0</td>\n",
              "    </tr>\n",
              "    <tr>\n",
              "      <th>3</th>\n",
              "      <td>0.0</td>\n",
              "      <td>0.0</td>\n",
              "      <td>0.0</td>\n",
              "      <td>0.0</td>\n",
              "      <td>0.0</td>\n",
              "      <td>0.0</td>\n",
              "      <td>1.0</td>\n",
              "      <td>0.0</td>\n",
              "      <td>0.0</td>\n",
              "      <td>0.0</td>\n",
              "    </tr>\n",
              "    <tr>\n",
              "      <th>4</th>\n",
              "      <td>0.0</td>\n",
              "      <td>0.0</td>\n",
              "      <td>1.0</td>\n",
              "      <td>0.0</td>\n",
              "      <td>0.0</td>\n",
              "      <td>0.0</td>\n",
              "      <td>0.0</td>\n",
              "      <td>0.0</td>\n",
              "      <td>0.0</td>\n",
              "      <td>0.0</td>\n",
              "    </tr>\n",
              "    <tr>\n",
              "      <th>...</th>\n",
              "      <td>...</td>\n",
              "      <td>...</td>\n",
              "      <td>...</td>\n",
              "      <td>...</td>\n",
              "      <td>...</td>\n",
              "      <td>...</td>\n",
              "      <td>...</td>\n",
              "      <td>...</td>\n",
              "      <td>...</td>\n",
              "      <td>...</td>\n",
              "    </tr>\n",
              "    <tr>\n",
              "      <th>27028</th>\n",
              "      <td>0.0</td>\n",
              "      <td>0.0</td>\n",
              "      <td>0.0</td>\n",
              "      <td>0.0</td>\n",
              "      <td>0.0</td>\n",
              "      <td>1.0</td>\n",
              "      <td>0.0</td>\n",
              "      <td>0.0</td>\n",
              "      <td>0.0</td>\n",
              "      <td>0.0</td>\n",
              "    </tr>\n",
              "    <tr>\n",
              "      <th>27029</th>\n",
              "      <td>0.0</td>\n",
              "      <td>1.0</td>\n",
              "      <td>0.0</td>\n",
              "      <td>1.0</td>\n",
              "      <td>3.0</td>\n",
              "      <td>0.0</td>\n",
              "      <td>0.0</td>\n",
              "      <td>0.0</td>\n",
              "      <td>0.0</td>\n",
              "      <td>0.0</td>\n",
              "    </tr>\n",
              "    <tr>\n",
              "      <th>27030</th>\n",
              "      <td>0.0</td>\n",
              "      <td>0.0</td>\n",
              "      <td>0.0</td>\n",
              "      <td>0.0</td>\n",
              "      <td>2.0</td>\n",
              "      <td>0.0</td>\n",
              "      <td>0.0</td>\n",
              "      <td>0.0</td>\n",
              "      <td>0.0</td>\n",
              "      <td>0.0</td>\n",
              "    </tr>\n",
              "    <tr>\n",
              "      <th>27031</th>\n",
              "      <td>0.0</td>\n",
              "      <td>1.0</td>\n",
              "      <td>0.0</td>\n",
              "      <td>3.0</td>\n",
              "      <td>0.0</td>\n",
              "      <td>0.0</td>\n",
              "      <td>0.0</td>\n",
              "      <td>0.0</td>\n",
              "      <td>0.0</td>\n",
              "      <td>0.0</td>\n",
              "    </tr>\n",
              "    <tr>\n",
              "      <th>27032</th>\n",
              "      <td>0.0</td>\n",
              "      <td>0.0</td>\n",
              "      <td>0.0</td>\n",
              "      <td>0.0</td>\n",
              "      <td>0.0</td>\n",
              "      <td>2.0</td>\n",
              "      <td>0.0</td>\n",
              "      <td>0.0</td>\n",
              "      <td>0.0</td>\n",
              "      <td>0.0</td>\n",
              "    </tr>\n",
              "  </tbody>\n",
              "</table>\n",
              "<p>25499 rows × 10 columns</p>\n",
              "</div>\n",
              "      <button class=\"colab-df-convert\" onclick=\"convertToInteractive('df-385b10de-b408-465e-990e-94c5425d0ff9')\"\n",
              "              title=\"Convert this dataframe to an interactive table.\"\n",
              "              style=\"display:none;\">\n",
              "        \n",
              "  <svg xmlns=\"http://www.w3.org/2000/svg\" height=\"24px\"viewBox=\"0 0 24 24\"\n",
              "       width=\"24px\">\n",
              "    <path d=\"M0 0h24v24H0V0z\" fill=\"none\"/>\n",
              "    <path d=\"M18.56 5.44l.94 2.06.94-2.06 2.06-.94-2.06-.94-.94-2.06-.94 2.06-2.06.94zm-11 1L8.5 8.5l.94-2.06 2.06-.94-2.06-.94L8.5 2.5l-.94 2.06-2.06.94zm10 10l.94 2.06.94-2.06 2.06-.94-2.06-.94-.94-2.06-.94 2.06-2.06.94z\"/><path d=\"M17.41 7.96l-1.37-1.37c-.4-.4-.92-.59-1.43-.59-.52 0-1.04.2-1.43.59L10.3 9.45l-7.72 7.72c-.78.78-.78 2.05 0 2.83L4 21.41c.39.39.9.59 1.41.59.51 0 1.02-.2 1.41-.59l7.78-7.78 2.81-2.81c.8-.78.8-2.07 0-2.86zM5.41 20L4 18.59l7.72-7.72 1.47 1.35L5.41 20z\"/>\n",
              "  </svg>\n",
              "      </button>\n",
              "      \n",
              "  <style>\n",
              "    .colab-df-container {\n",
              "      display:flex;\n",
              "      flex-wrap:wrap;\n",
              "      gap: 12px;\n",
              "    }\n",
              "\n",
              "    .colab-df-convert {\n",
              "      background-color: #E8F0FE;\n",
              "      border: none;\n",
              "      border-radius: 50%;\n",
              "      cursor: pointer;\n",
              "      display: none;\n",
              "      fill: #1967D2;\n",
              "      height: 32px;\n",
              "      padding: 0 0 0 0;\n",
              "      width: 32px;\n",
              "    }\n",
              "\n",
              "    .colab-df-convert:hover {\n",
              "      background-color: #E2EBFA;\n",
              "      box-shadow: 0px 1px 2px rgba(60, 64, 67, 0.3), 0px 1px 3px 1px rgba(60, 64, 67, 0.15);\n",
              "      fill: #174EA6;\n",
              "    }\n",
              "\n",
              "    [theme=dark] .colab-df-convert {\n",
              "      background-color: #3B4455;\n",
              "      fill: #D2E3FC;\n",
              "    }\n",
              "\n",
              "    [theme=dark] .colab-df-convert:hover {\n",
              "      background-color: #434B5C;\n",
              "      box-shadow: 0px 1px 3px 1px rgba(0, 0, 0, 0.15);\n",
              "      filter: drop-shadow(0px 1px 2px rgba(0, 0, 0, 0.3));\n",
              "      fill: #FFFFFF;\n",
              "    }\n",
              "  </style>\n",
              "\n",
              "      <script>\n",
              "        const buttonEl =\n",
              "          document.querySelector('#df-385b10de-b408-465e-990e-94c5425d0ff9 button.colab-df-convert');\n",
              "        buttonEl.style.display =\n",
              "          google.colab.kernel.accessAllowed ? 'block' : 'none';\n",
              "\n",
              "        async function convertToInteractive(key) {\n",
              "          const element = document.querySelector('#df-385b10de-b408-465e-990e-94c5425d0ff9');\n",
              "          const dataTable =\n",
              "            await google.colab.kernel.invokeFunction('convertToInteractive',\n",
              "                                                     [key], {});\n",
              "          if (!dataTable) return;\n",
              "\n",
              "          const docLinkHtml = 'Like what you see? Visit the ' +\n",
              "            '<a target=\"_blank\" href=https://colab.research.google.com/notebooks/data_table.ipynb>data table notebook</a>'\n",
              "            + ' to learn more about interactive tables.';\n",
              "          element.innerHTML = '';\n",
              "          dataTable['output_type'] = 'display_data';\n",
              "          await google.colab.output.renderOutput(dataTable, element);\n",
              "          const docLink = document.createElement('div');\n",
              "          docLink.innerHTML = docLinkHtml;\n",
              "          element.appendChild(docLink);\n",
              "        }\n",
              "      </script>\n",
              "    </div>\n",
              "  </div>\n",
              "  "
            ]
          },
          "metadata": {},
          "execution_count": 131
        }
      ],
      "source": [
        "X"
      ],
      "id": "e87fb636"
    },
    {
      "cell_type": "code",
      "execution_count": null,
      "metadata": {
        "id": "26c901d9"
      },
      "outputs": [],
      "source": [
        "from sklearn.model_selection import train_test_split\n",
        "from sklearn.metrics import accuracy_score\n",
        "\n",
        "# Split the data into training and test sets\n",
        "X_train, X_test, y_train, y_test = train_test_split(X_smt, y_smt, test_size=0.2)"
      ],
      "id": "26c901d9"
    },
    {
      "cell_type": "code",
      "execution_count": null,
      "metadata": {
        "id": "8eb40a9b"
      },
      "outputs": [],
      "source": [
        "from sklearn.preprocessing import StandardScaler\n",
        "\n",
        "# Create an instance of the StandardScaler\n",
        "scaler = StandardScaler()\n",
        "\n",
        "# Fit the scaler to your data\n",
        "X_train=scaler.fit_transform(X_train)"
      ],
      "id": "8eb40a9b"
    },
    {
      "cell_type": "code",
      "execution_count": null,
      "metadata": {
        "id": "623ae706"
      },
      "outputs": [],
      "source": [
        "X_test=scaler.transform(X_test)"
      ],
      "id": "623ae706"
    },
    {
      "cell_type": "code",
      "execution_count": null,
      "metadata": {
        "id": "5168a553-1254-4423-b433-c3cdfd1a6bc1",
        "outputId": "3b190482-219d-42fd-94c9-f21f0a5d545d",
        "colab": {
          "base_uri": "https://localhost:8080/"
        }
      },
      "outputs": [
        {
          "output_type": "execute_result",
          "data": {
            "text/plain": [
              "1.0    3533\n",
              "0.0    3531\n",
              "Name: classx, dtype: int64"
            ]
          },
          "metadata": {},
          "execution_count": 135
        }
      ],
      "source": [
        "y_test.value_counts()"
      ],
      "id": "5168a553-1254-4423-b433-c3cdfd1a6bc1"
    },
    {
      "cell_type": "code",
      "execution_count": null,
      "metadata": {
        "id": "17e5f8ef-5d6c-4a11-9eba-72785f4fd1b3"
      },
      "outputs": [],
      "source": [
        "from sklearn import svm\n",
        "from sklearn.ensemble import RandomForestClassifier\n",
        "from sklearn.linear_model import LogisticRegression\n",
        "from sklearn.model_selection import GridSearchCV\n",
        "from sklearn.linear_model import LogisticRegression\n",
        "from sklearn.tree import DecisionTreeClassifier\n",
        "from sklearn.svm import SVC\n",
        "from sklearn.ensemble import RandomForestClassifier\n",
        "import numpy as np"
      ],
      "id": "17e5f8ef-5d6c-4a11-9eba-72785f4fd1b3"
    },
    {
      "cell_type": "code",
      "execution_count": null,
      "metadata": {
        "id": "9b3aa379-98f1-4f48-a728-88f83ae9b9df"
      },
      "outputs": [],
      "source": [
        "model=DecisionTreeClassifier()"
      ],
      "id": "9b3aa379-98f1-4f48-a728-88f83ae9b9df"
    },
    {
      "cell_type": "code",
      "execution_count": null,
      "metadata": {
        "id": "f36e178d-6f2a-4e0e-b64e-681299c953e5",
        "outputId": "d2c25385-308d-4613-9075-386447d59937",
        "colab": {
          "base_uri": "https://localhost:8080/"
        }
      },
      "outputs": [
        {
          "output_type": "execute_result",
          "data": {
            "text/plain": [
              "DecisionTreeClassifier()"
            ]
          },
          "metadata": {},
          "execution_count": 144
        }
      ],
      "source": [
        "model.fit(X_train,y_train)"
      ],
      "id": "f36e178d-6f2a-4e0e-b64e-681299c953e5"
    },
    {
      "cell_type": "code",
      "execution_count": null,
      "metadata": {
        "id": "eae20cc8-4770-47df-8224-aab335f0d5f5",
        "outputId": "18f8531d-3c21-452d-ccc0-0011c763e787",
        "colab": {
          "base_uri": "https://localhost:8080/"
        }
      },
      "outputs": [
        {
          "output_type": "execute_result",
          "data": {
            "text/plain": [
              "0.7076727066817667"
            ]
          },
          "metadata": {},
          "execution_count": 145
        }
      ],
      "source": [
        "model.score(X_test,y_test)"
      ],
      "id": "eae20cc8-4770-47df-8224-aab335f0d5f5"
    },
    {
      "cell_type": "code",
      "execution_count": null,
      "metadata": {
        "id": "33c8ca11-3cfa-4bce-97fc-4180cad6a463"
      },
      "outputs": [],
      "source": [
        "importances = model.feature_importances_"
      ],
      "id": "33c8ca11-3cfa-4bce-97fc-4180cad6a463"
    },
    {
      "cell_type": "code",
      "execution_count": null,
      "metadata": {
        "id": "11dd8426-9d01-4e86-a114-239921a8f9c4",
        "outputId": "2caeb724-0e36-4bae-ea27-7acfa2c15837",
        "colab": {
          "base_uri": "https://localhost:8080/"
        }
      },
      "outputs": [
        {
          "output_type": "execute_result",
          "data": {
            "text/plain": [
              "54"
            ]
          },
          "metadata": {},
          "execution_count": 79
        }
      ],
      "source": [
        "len(importances)"
      ],
      "id": "11dd8426-9d01-4e86-a114-239921a8f9c4"
    },
    {
      "cell_type": "code",
      "execution_count": null,
      "metadata": {
        "id": "e853b33d-350a-4998-bbf1-5941a6be7838",
        "outputId": "27a4dac3-eff3-4ffc-eb59-16b505251899"
      },
      "outputs": [
        {
          "data": {
            "text/plain": [
              "0.7071064552661381"
            ]
          },
          "execution_count": 164,
          "metadata": {},
          "output_type": "execute_result"
        }
      ],
      "source": [
        "model.score(X_test,y_test)"
      ],
      "id": "e853b33d-350a-4998-bbf1-5941a6be7838"
    },
    {
      "cell_type": "code",
      "execution_count": null,
      "metadata": {
        "id": "1e77bb82-d272-48f9-b929-fdd830df7216",
        "outputId": "0b84762a-7f5c-4ad8-9fd2-45f335e5cbc7"
      },
      "outputs": [
        {
          "data": {
            "text/plain": [
              "array([27.06211054, 15.71769258, 10.58083538,  9.06083799,  9.10885194,\n",
              "        8.85474087,  6.26226754,  5.43954845,  4.1619726 ,  3.75114212])"
            ]
          },
          "execution_count": 165,
          "metadata": {},
          "output_type": "execute_result"
        }
      ],
      "source": [
        "importances*100"
      ],
      "id": "1e77bb82-d272-48f9-b929-fdd830df7216"
    },
    {
      "cell_type": "code",
      "execution_count": null,
      "metadata": {
        "id": "0b318b48-3843-4499-acde-be3025e8472d",
        "outputId": "7731d6b5-eb73-407a-b1a4-e7b546759f02"
      },
      "outputs": [
        {
          "data": {
            "text/plain": [
              "array([0.27062111, 0.15717693, 0.10580835, 0.09060838, 0.09108852,\n",
              "       0.08854741, 0.06262268, 0.05439548, 0.04161973, 0.03751142])"
            ]
          },
          "execution_count": 166,
          "metadata": {},
          "output_type": "execute_result"
        }
      ],
      "source": [
        "model.feature_importances_"
      ],
      "id": "0b318b48-3843-4499-acde-be3025e8472d"
    },
    {
      "cell_type": "code",
      "execution_count": null,
      "metadata": {
        "id": "04cb7cb5"
      },
      "outputs": [],
      "source": [
        "from sklearn import svm\n",
        "from sklearn.ensemble import RandomForestClassifier\n",
        "from sklearn.linear_model import LogisticRegression\n",
        "from sklearn.model_selection import GridSearchCV\n",
        "from sklearn.linear_model import LogisticRegression\n",
        "from sklearn.tree import DecisionTreeClassifier\n",
        "from sklearn.svm import SVC\n",
        "from sklearn.ensemble import RandomForestClassifier\n",
        "import numpy as np\n",
        "\n",
        "\n",
        "model_params = {\n",
        "    'svm': {\n",
        "        'model': svm.SVC(gamma='auto'),\n",
        "        'params' : {\n",
        "            'C': [0.1, 1, 10],\n",
        "            'kernel': ['rbf','linear']\n",
        "        }\n",
        "    },\n",
        "    'decision_tree': {\n",
        "        'model': DecisionTreeClassifier(),\n",
        "        'params' : {\n",
        "            'max_depth': [3, 5, 7, None],\n",
        "            'min_samples_split': [2, 5, 10]\n",
        "        }\n",
        "    },\n",
        "    'random_forest': {\n",
        "        'model': RandomForestClassifier(),\n",
        "        'params' : {\n",
        "            'n_estimators': [10, 50, 100, 200],\n",
        "            'max_depth': [3, 5, 7, None],\n",
        "            'min_samples_split': [2, 5, 10]\n",
        "        }\n",
        "    },\n",
        "    'logistic_regression' : {\n",
        "        'model': LogisticRegression(solver='liblinear',multi_class='auto'),\n",
        "        'params': {\n",
        "            'C': np.logspace(-3, 3, 7),\n",
        "            'penalty': ['l1', 'l2']\n",
        "        }\n",
        "    }\n",
        "}"
      ],
      "id": "04cb7cb5"
    },
    {
      "cell_type": "code",
      "execution_count": null,
      "metadata": {
        "id": "75dffdd2"
      },
      "outputs": [],
      "source": [
        "from sklearn.model_selection import GridSearchCV"
      ],
      "id": "75dffdd2"
    },
    {
      "cell_type": "code",
      "execution_count": null,
      "metadata": {
        "colab": {
          "referenced_widgets": [
            "4e8bf62d7f504e95ae005b7528096ff5"
          ]
        },
        "id": "2eb1bcc5",
        "outputId": "7aeb3a59-ebfc-48f3-e6ec-601493ac1a5d"
      },
      "outputs": [
        {
          "data": {
            "application/vnd.jupyter.widget-view+json": {
              "model_id": "4e8bf62d7f504e95ae005b7528096ff5",
              "version_major": 2,
              "version_minor": 0
            },
            "text/plain": [
              "  0%|          | 0/4 [00:00<?, ?it/s]"
            ]
          },
          "metadata": {},
          "output_type": "display_data"
        }
      ],
      "source": [
        "scores = []\n",
        "\n",
        "for model_name, mp in tqdm(model_params.items()):\n",
        "    clf =  GridSearchCV(mp['model'], mp['params'], cv=5, return_train_score=False)\n",
        "    clf.fit(X_train, y_train)\n",
        "    scores.append({\n",
        "        'model': model_name,\n",
        "        'best_score': clf.best_score_,\n",
        "        'best_params': clf.best_params_\n",
        "    })\n",
        "\n",
        "dfval = pd.DataFrame(scores,columns=['model','best_score','best_params'])\n",
        "dfval"
      ],
      "id": "2eb1bcc5"
    },
    {
      "cell_type": "code",
      "execution_count": null,
      "metadata": {
        "id": "f3d6960f"
      },
      "outputs": [],
      "source": [
        "import tensorflow as tf\n",
        "\n",
        "# Define the model\n",
        "model = tf.keras.Sequential()\n",
        "model.add(tf.keras.layers.Dense(32, input_dim=10, activation='relu'))\n",
        "model.add(tf.keras.layers.Dense(1, activation='sigmoid'))\n",
        "\n",
        "# Compile the model\n",
        "model.compile(optimizer='adam', loss='binary_crossentropy', metrics=['accuracy'])"
      ],
      "id": "f3d6960f"
    },
    {
      "cell_type": "code",
      "execution_count": null,
      "metadata": {
        "id": "3eadf1db-b61b-49ed-92d8-dd33208fb72a",
        "colab": {
          "base_uri": "https://localhost:8080/"
        },
        "outputId": "0d75e1c2-af6b-4efe-b03c-cb64cdd2d3ed"
      },
      "outputs": [
        {
          "output_type": "stream",
          "name": "stdout",
          "text": [
            "Epoch 1/10\n",
            "883/883 [==============================] - 3s 3ms/step - loss: 0.6220 - accuracy: 0.6736\n",
            "Epoch 2/10\n",
            "883/883 [==============================] - 2s 3ms/step - loss: 0.6035 - accuracy: 0.6904\n",
            "Epoch 3/10\n",
            "883/883 [==============================] - 2s 3ms/step - loss: 0.5964 - accuracy: 0.6944\n",
            "Epoch 4/10\n",
            "883/883 [==============================] - 2s 3ms/step - loss: 0.5920 - accuracy: 0.6965\n",
            "Epoch 5/10\n",
            "883/883 [==============================] - 2s 3ms/step - loss: 0.5899 - accuracy: 0.6986\n",
            "Epoch 6/10\n",
            "883/883 [==============================] - 2s 3ms/step - loss: 0.5877 - accuracy: 0.6994\n",
            "Epoch 7/10\n",
            "883/883 [==============================] - 2s 3ms/step - loss: 0.5861 - accuracy: 0.6998\n",
            "Epoch 8/10\n",
            "883/883 [==============================] - 2s 3ms/step - loss: 0.5854 - accuracy: 0.7007\n",
            "Epoch 9/10\n",
            "883/883 [==============================] - 2s 3ms/step - loss: 0.5845 - accuracy: 0.7016\n",
            "Epoch 10/10\n",
            "883/883 [==============================] - 2s 3ms/step - loss: 0.5839 - accuracy: 0.7010\n"
          ]
        },
        {
          "output_type": "execute_result",
          "data": {
            "text/plain": [
              "<keras.callbacks.History at 0x7fb6c0619ee0>"
            ]
          },
          "metadata": {},
          "execution_count": 141
        }
      ],
      "source": [
        "model.fit(X_train, y_train, epochs=10)"
      ],
      "id": "3eadf1db-b61b-49ed-92d8-dd33208fb72a"
    },
    {
      "cell_type": "code",
      "source": [
        "model = tf.keras.Sequential()\n",
        "model.add(tf.keras.layers.Dense(32, input_dim=54, activation='relu'))\n",
        "model.add(tf.keras.layers.Dense(64, activation='relu'))\n",
        "model.add(tf.keras.layers.Dense(128, activation='relu'))\n",
        "model.add(tf.keras.layers.Dense(1, activation='sigmoid'))\n",
        "\n",
        "# Compile the model\n",
        "model.compile(optimizer='adam', loss='binary_crossentropy', metrics=['accuracy'])"
      ],
      "metadata": {
        "id": "Jsq_AVTkv69P"
      },
      "id": "Jsq_AVTkv69P",
      "execution_count": null,
      "outputs": []
    },
    {
      "cell_type": "code",
      "source": [
        "model.fit(X_train, y_train, epochs=50)"
      ],
      "metadata": {
        "colab": {
          "base_uri": "https://localhost:8080/"
        },
        "id": "_Sg5b_Dzv8B4",
        "outputId": "645b807b-a765-463b-c714-1d50e1d5364e"
      },
      "id": "_Sg5b_Dzv8B4",
      "execution_count": null,
      "outputs": [
        {
          "output_type": "stream",
          "name": "stdout",
          "text": [
            "Epoch 1/50\n",
            "883/883 [==============================] - 3s 3ms/step - loss: 0.6098 - accuracy: 0.6810\n",
            "Epoch 2/50\n",
            "883/883 [==============================] - 3s 3ms/step - loss: 0.5838 - accuracy: 0.6990\n",
            "Epoch 3/50\n",
            "883/883 [==============================] - 2s 3ms/step - loss: 0.5747 - accuracy: 0.7065\n",
            "Epoch 4/50\n",
            "883/883 [==============================] - 2s 3ms/step - loss: 0.5691 - accuracy: 0.7088\n",
            "Epoch 5/50\n",
            "883/883 [==============================] - 2s 3ms/step - loss: 0.5653 - accuracy: 0.7138\n",
            "Epoch 6/50\n",
            "883/883 [==============================] - 3s 3ms/step - loss: 0.5611 - accuracy: 0.7171\n",
            "Epoch 7/50\n",
            "883/883 [==============================] - 2s 3ms/step - loss: 0.5581 - accuracy: 0.7183\n",
            "Epoch 8/50\n",
            "883/883 [==============================] - 2s 3ms/step - loss: 0.5555 - accuracy: 0.7173\n",
            "Epoch 9/50\n",
            "883/883 [==============================] - 2s 3ms/step - loss: 0.5523 - accuracy: 0.7227\n",
            "Epoch 10/50\n",
            "883/883 [==============================] - 2s 3ms/step - loss: 0.5494 - accuracy: 0.7233\n",
            "Epoch 11/50\n",
            "883/883 [==============================] - 2s 3ms/step - loss: 0.5464 - accuracy: 0.7244\n",
            "Epoch 12/50\n",
            "883/883 [==============================] - 2s 3ms/step - loss: 0.5437 - accuracy: 0.7257\n",
            "Epoch 13/50\n",
            "883/883 [==============================] - 2s 3ms/step - loss: 0.5418 - accuracy: 0.7273\n",
            "Epoch 14/50\n",
            "883/883 [==============================] - 3s 3ms/step - loss: 0.5381 - accuracy: 0.7295\n",
            "Epoch 15/50\n",
            "883/883 [==============================] - 2s 3ms/step - loss: 0.5363 - accuracy: 0.7302\n",
            "Epoch 16/50\n",
            "883/883 [==============================] - 2s 3ms/step - loss: 0.5336 - accuracy: 0.7316\n",
            "Epoch 17/50\n",
            "883/883 [==============================] - 3s 3ms/step - loss: 0.5308 - accuracy: 0.7335\n",
            "Epoch 18/50\n",
            "883/883 [==============================] - 2s 3ms/step - loss: 0.5297 - accuracy: 0.7365\n",
            "Epoch 19/50\n",
            "883/883 [==============================] - 2s 3ms/step - loss: 0.5261 - accuracy: 0.7356\n",
            "Epoch 20/50\n",
            "883/883 [==============================] - 2s 3ms/step - loss: 0.5247 - accuracy: 0.7377\n",
            "Epoch 21/50\n",
            "883/883 [==============================] - 2s 3ms/step - loss: 0.5226 - accuracy: 0.7394\n",
            "Epoch 22/50\n",
            "883/883 [==============================] - 3s 3ms/step - loss: 0.5205 - accuracy: 0.7390\n",
            "Epoch 23/50\n",
            "883/883 [==============================] - 2s 3ms/step - loss: 0.5183 - accuracy: 0.7409\n",
            "Epoch 24/50\n",
            "883/883 [==============================] - 2s 3ms/step - loss: 0.5164 - accuracy: 0.7415\n",
            "Epoch 25/50\n",
            "883/883 [==============================] - 2s 3ms/step - loss: 0.5140 - accuracy: 0.7421\n",
            "Epoch 26/50\n",
            "883/883 [==============================] - 2s 3ms/step - loss: 0.5120 - accuracy: 0.7447\n",
            "Epoch 27/50\n",
            "883/883 [==============================] - 2s 3ms/step - loss: 0.5105 - accuracy: 0.7450\n",
            "Epoch 28/50\n",
            "883/883 [==============================] - 2s 3ms/step - loss: 0.5088 - accuracy: 0.7477\n",
            "Epoch 29/50\n",
            "883/883 [==============================] - 2s 3ms/step - loss: 0.5077 - accuracy: 0.7468\n",
            "Epoch 30/50\n",
            "883/883 [==============================] - 3s 3ms/step - loss: 0.5065 - accuracy: 0.7472\n",
            "Epoch 31/50\n",
            "883/883 [==============================] - 3s 3ms/step - loss: 0.5032 - accuracy: 0.7487\n",
            "Epoch 32/50\n",
            "883/883 [==============================] - 2s 3ms/step - loss: 0.5029 - accuracy: 0.7491\n",
            "Epoch 33/50\n",
            "883/883 [==============================] - 2s 3ms/step - loss: 0.4994 - accuracy: 0.7504\n",
            "Epoch 34/50\n",
            "883/883 [==============================] - 2s 3ms/step - loss: 0.4989 - accuracy: 0.7531\n",
            "Epoch 35/50\n",
            "883/883 [==============================] - 2s 3ms/step - loss: 0.4973 - accuracy: 0.7520\n",
            "Epoch 36/50\n",
            "883/883 [==============================] - 2s 3ms/step - loss: 0.4940 - accuracy: 0.7533\n",
            "Epoch 37/50\n",
            "883/883 [==============================] - 2s 3ms/step - loss: 0.4962 - accuracy: 0.7540\n",
            "Epoch 38/50\n",
            "883/883 [==============================] - 2s 3ms/step - loss: 0.4928 - accuracy: 0.7545\n",
            "Epoch 39/50\n",
            "883/883 [==============================] - 3s 3ms/step - loss: 0.4919 - accuracy: 0.7545\n",
            "Epoch 40/50\n",
            "883/883 [==============================] - 3s 3ms/step - loss: 0.4891 - accuracy: 0.7566\n",
            "Epoch 41/50\n",
            "883/883 [==============================] - 3s 3ms/step - loss: 0.4882 - accuracy: 0.7575\n",
            "Epoch 42/50\n",
            "883/883 [==============================] - 2s 3ms/step - loss: 0.4877 - accuracy: 0.7567\n",
            "Epoch 43/50\n",
            "883/883 [==============================] - 2s 3ms/step - loss: 0.4859 - accuracy: 0.7581\n",
            "Epoch 44/50\n",
            "883/883 [==============================] - 3s 3ms/step - loss: 0.4845 - accuracy: 0.7585\n",
            "Epoch 45/50\n",
            "883/883 [==============================] - 3s 3ms/step - loss: 0.4827 - accuracy: 0.7602\n",
            "Epoch 46/50\n",
            "883/883 [==============================] - 2s 3ms/step - loss: 0.4819 - accuracy: 0.7604\n",
            "Epoch 47/50\n",
            "883/883 [==============================] - 3s 3ms/step - loss: 0.4826 - accuracy: 0.7588\n",
            "Epoch 48/50\n",
            "883/883 [==============================] - 2s 3ms/step - loss: 0.4777 - accuracy: 0.7621\n",
            "Epoch 49/50\n",
            "883/883 [==============================] - 2s 3ms/step - loss: 0.4789 - accuracy: 0.7605\n",
            "Epoch 50/50\n",
            "883/883 [==============================] - 2s 3ms/step - loss: 0.4764 - accuracy: 0.7635\n"
          ]
        },
        {
          "output_type": "execute_result",
          "data": {
            "text/plain": [
              "<keras.callbacks.History at 0x7fb6be6d2d90>"
            ]
          },
          "metadata": {},
          "execution_count": 119
        }
      ]
    },
    {
      "cell_type": "code",
      "source": [
        " model.evaluate(X_test, y_test)\n"
      ],
      "metadata": {
        "colab": {
          "base_uri": "https://localhost:8080/"
        },
        "id": "-ALAQPLZwBwg",
        "outputId": "54748c0f-e65a-4b61-ec74-52f5931e82e1"
      },
      "id": "-ALAQPLZwBwg",
      "execution_count": null,
      "outputs": [
        {
          "output_type": "stream",
          "name": "stdout",
          "text": [
            "221/221 [==============================] - 0s 2ms/step - loss: 0.6056 - accuracy: 0.7286\n"
          ]
        },
        {
          "output_type": "execute_result",
          "data": {
            "text/plain": [
              "[0.6056495904922485, 0.7286239862442017]"
            ]
          },
          "metadata": {},
          "execution_count": 121
        }
      ]
    },
    {
      "cell_type": "code",
      "source": [
        "from sklearn.metrics import f1_score\n",
        "\n",
        "# Get the predictions of the model on the test data\n",
        "y_pred = model.predict(X_test)\n",
        "\n",
        "# Convert the predictions to class labels\n",
        "\n",
        "\n",
        "# Calculate the F1 score\n",
        "f1 = f1_score(y_test, y_pred, average='weighted')\n",
        "print(\"F1 score: \", f1)"
      ],
      "metadata": {
        "colab": {
          "base_uri": "https://localhost:8080/"
        },
        "id": "eW9V8J9izy4f",
        "outputId": "a17f6a09-c733-4aaf-8d2d-0fd7f4edee25"
      },
      "id": "eW9V8J9izy4f",
      "execution_count": null,
      "outputs": [
        {
          "output_type": "stream",
          "name": "stdout",
          "text": [
            "F1 score:  0.7052988920381745\n"
          ]
        }
      ]
    },
    {
      "cell_type": "code",
      "source": [],
      "metadata": {
        "id": "tkBDWbfRz_Wd"
      },
      "id": "tkBDWbfRz_Wd",
      "execution_count": null,
      "outputs": []
    }
  ],
  "metadata": {
    "accelerator": "GPU",
    "colab": {
      "provenance": [],
      "include_colab_link": true
    },
    "gpuClass": "standard",
    "kernelspec": {
      "display_name": "Python 3 (ipykernel)",
      "language": "python",
      "name": "python3"
    },
    "language_info": {
      "codemirror_mode": {
        "name": "ipython",
        "version": 3
      },
      "file_extension": ".py",
      "mimetype": "text/x-python",
      "name": "python",
      "nbconvert_exporter": "python",
      "pygments_lexer": "ipython3",
      "version": "3.11.0"
    }
  },
  "nbformat": 4,
  "nbformat_minor": 5
}